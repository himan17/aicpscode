{
  "cells": [
    {
      "cell_type": "markdown",
      "source": [
        "# Architecture for Real-Time Object Detection with YOLO\n",
        "\n",
        "## Overview\n",
        "This notebook demonstrates the setup and implementation for real-time object detection using the YOLO (You Only Look Once) algorithm, specifically using the YOLOv8 model. The focus is on detecting objects in satellite imagery.\n",
        "\n",
        "## Components:\n",
        "1. **Data Setup**: Connect to Google Drive to access the dataset stored there.\n",
        "2. **Environment Setup**: Installation of required packages.\n",
        "3. **Model Training**:\n",
        "   - Loading a pretrained YOLO model.\n",
        "   - Configuring and training the model on custom datasets.\n",
        "4. **Inference**:\n",
        "   - Performing inference on validation and test datasets.\n",
        "   - Visualizing and saving the output.\n",
        "5. **Evaluation** (optional):\n",
        "   - Evaluate the model performance.\n",
        "   - Adjust parameters or model as needed based on performance.\n",
        "\n",
        "## Execution Flow:\n",
        "- Data is loaded from Google Drive.\n",
        "- YOLOv8 is utilized for both training on annotated images and inference on new data.\n",
        "- Results are plotted and saved back to Google Drive.\n",
        "\n",
        "This setup ensures that the model can be trained and tested efficiently, providing a quick turnaround suitable for real-time applications.\n"
      ],
      "metadata": {
        "id": "a2DZkrsnFwBc"
      }
    },
    {
      "cell_type": "markdown",
      "source": [
        "# Initial Setup\n",
        "\n",
        "In this section, we:\n",
        "- Mount Google Drive to access the dataset stored there.\n",
        "- Install necessary Python libraries for object detection, particularly the `ultralytics` package for YOLO models.\n"
      ],
      "metadata": {
        "id": "1j7MURCZGXw3"
      }
    },
    {
      "cell_type": "code",
      "execution_count": null,
      "metadata": {
        "id": "CMPpVTDr8y_P"
      },
      "outputs": [],
      "source": [
        "from google.colab import drive\n",
        "\n",
        "drive.mount('/content/gdrive')"
      ]
    },
    {
      "cell_type": "code",
      "execution_count": null,
      "metadata": {
        "id": "KtAvLUZ69AZZ"
      },
      "outputs": [],
      "source": [
        "# !ls '/content/gdrive/My Drive/'"
      ]
    },
    {
      "cell_type": "code",
      "execution_count": null,
      "metadata": {
        "id": "tNLZ8w6G86Ye"
      },
      "outputs": [],
      "source": [
        "DATA_DIR = '/content/gdrive/My Drive/yoloproject/yolobuild/data/'"
      ]
    },
    {
      "cell_type": "code",
      "execution_count": null,
      "metadata": {
        "colab": {
          "base_uri": "https://localhost:8080/"
        },
        "id": "3UdWqYtu9KB_",
        "outputId": "a8e21eee-b22c-4cc7-d0fd-42417c25f944"
      },
      "outputs": [
        {
          "name": "stdout",
          "output_type": "stream",
          "text": [
            "Collecting ultralytics\n",
            "  Downloading ultralytics-8.1.42-py3-none-any.whl (749 kB)\n",
            "\u001b[?25l     \u001b[90m━━━━━━━━━━━━━━━━━━━━━━━━━━━━━━━━━━━━━━━━\u001b[0m \u001b[32m0.0/749.1 kB\u001b[0m \u001b[31m?\u001b[0m eta \u001b[36m-:--:--\u001b[0m\r\u001b[2K     \u001b[91m━━━━━━━━━━━━━━━━━━━━━━\u001b[0m\u001b[91m╸\u001b[0m\u001b[90m━━━━━━━━━━━━━━━━━\u001b[0m \u001b[32m430.1/749.1 kB\u001b[0m \u001b[31m12.8 MB/s\u001b[0m eta \u001b[36m0:00:01\u001b[0m\r\u001b[2K     \u001b[90m━━━━━━━━━━━━━━━━━━━━━━━━━━━━━━━━━━━━━━━━\u001b[0m \u001b[32m749.1/749.1 kB\u001b[0m \u001b[31m13.0 MB/s\u001b[0m eta \u001b[36m0:00:00\u001b[0m\n",
            "\u001b[?25hRequirement already satisfied: matplotlib>=3.3.0 in /usr/local/lib/python3.10/dist-packages (from ultralytics) (3.7.1)\n",
            "Requirement already satisfied: opencv-python>=4.6.0 in /usr/local/lib/python3.10/dist-packages (from ultralytics) (4.8.0.76)\n",
            "Requirement already satisfied: pillow>=7.1.2 in /usr/local/lib/python3.10/dist-packages (from ultralytics) (9.4.0)\n",
            "Requirement already satisfied: pyyaml>=5.3.1 in /usr/local/lib/python3.10/dist-packages (from ultralytics) (6.0.1)\n",
            "Requirement already satisfied: requests>=2.23.0 in /usr/local/lib/python3.10/dist-packages (from ultralytics) (2.31.0)\n",
            "Requirement already satisfied: scipy>=1.4.1 in /usr/local/lib/python3.10/dist-packages (from ultralytics) (1.11.4)\n",
            "Requirement already satisfied: torch>=1.8.0 in /usr/local/lib/python3.10/dist-packages (from ultralytics) (2.2.1+cu121)\n",
            "Requirement already satisfied: torchvision>=0.9.0 in /usr/local/lib/python3.10/dist-packages (from ultralytics) (0.17.1+cu121)\n",
            "Requirement already satisfied: tqdm>=4.64.0 in /usr/local/lib/python3.10/dist-packages (from ultralytics) (4.66.2)\n",
            "Requirement already satisfied: psutil in /usr/local/lib/python3.10/dist-packages (from ultralytics) (5.9.5)\n",
            "Requirement already satisfied: py-cpuinfo in /usr/local/lib/python3.10/dist-packages (from ultralytics) (9.0.0)\n",
            "Collecting thop>=0.1.1 (from ultralytics)\n",
            "  Downloading thop-0.1.1.post2209072238-py3-none-any.whl (15 kB)\n",
            "Requirement already satisfied: pandas>=1.1.4 in /usr/local/lib/python3.10/dist-packages (from ultralytics) (2.0.3)\n",
            "Requirement already satisfied: seaborn>=0.11.0 in /usr/local/lib/python3.10/dist-packages (from ultralytics) (0.13.1)\n",
            "Requirement already satisfied: contourpy>=1.0.1 in /usr/local/lib/python3.10/dist-packages (from matplotlib>=3.3.0->ultralytics) (1.2.0)\n",
            "Requirement already satisfied: cycler>=0.10 in /usr/local/lib/python3.10/dist-packages (from matplotlib>=3.3.0->ultralytics) (0.12.1)\n",
            "Requirement already satisfied: fonttools>=4.22.0 in /usr/local/lib/python3.10/dist-packages (from matplotlib>=3.3.0->ultralytics) (4.50.0)\n",
            "Requirement already satisfied: kiwisolver>=1.0.1 in /usr/local/lib/python3.10/dist-packages (from matplotlib>=3.3.0->ultralytics) (1.4.5)\n",
            "Requirement already satisfied: numpy>=1.20 in /usr/local/lib/python3.10/dist-packages (from matplotlib>=3.3.0->ultralytics) (1.25.2)\n",
            "Requirement already satisfied: packaging>=20.0 in /usr/local/lib/python3.10/dist-packages (from matplotlib>=3.3.0->ultralytics) (24.0)\n",
            "Requirement already satisfied: pyparsing>=2.3.1 in /usr/local/lib/python3.10/dist-packages (from matplotlib>=3.3.0->ultralytics) (3.1.2)\n",
            "Requirement already satisfied: python-dateutil>=2.7 in /usr/local/lib/python3.10/dist-packages (from matplotlib>=3.3.0->ultralytics) (2.8.2)\n",
            "Requirement already satisfied: pytz>=2020.1 in /usr/local/lib/python3.10/dist-packages (from pandas>=1.1.4->ultralytics) (2023.4)\n",
            "Requirement already satisfied: tzdata>=2022.1 in /usr/local/lib/python3.10/dist-packages (from pandas>=1.1.4->ultralytics) (2024.1)\n",
            "Requirement already satisfied: charset-normalizer<4,>=2 in /usr/local/lib/python3.10/dist-packages (from requests>=2.23.0->ultralytics) (3.3.2)\n",
            "Requirement already satisfied: idna<4,>=2.5 in /usr/local/lib/python3.10/dist-packages (from requests>=2.23.0->ultralytics) (3.6)\n",
            "Requirement already satisfied: urllib3<3,>=1.21.1 in /usr/local/lib/python3.10/dist-packages (from requests>=2.23.0->ultralytics) (2.0.7)\n",
            "Requirement already satisfied: certifi>=2017.4.17 in /usr/local/lib/python3.10/dist-packages (from requests>=2.23.0->ultralytics) (2024.2.2)\n",
            "Requirement already satisfied: filelock in /usr/local/lib/python3.10/dist-packages (from torch>=1.8.0->ultralytics) (3.13.3)\n",
            "Requirement already satisfied: typing-extensions>=4.8.0 in /usr/local/lib/python3.10/dist-packages (from torch>=1.8.0->ultralytics) (4.10.0)\n",
            "Requirement already satisfied: sympy in /usr/local/lib/python3.10/dist-packages (from torch>=1.8.0->ultralytics) (1.12)\n",
            "Requirement already satisfied: networkx in /usr/local/lib/python3.10/dist-packages (from torch>=1.8.0->ultralytics) (3.2.1)\n",
            "Requirement already satisfied: jinja2 in /usr/local/lib/python3.10/dist-packages (from torch>=1.8.0->ultralytics) (3.1.3)\n",
            "Requirement already satisfied: fsspec in /usr/local/lib/python3.10/dist-packages (from torch>=1.8.0->ultralytics) (2023.6.0)\n",
            "Collecting nvidia-cuda-nvrtc-cu12==12.1.105 (from torch>=1.8.0->ultralytics)\n",
            "  Downloading nvidia_cuda_nvrtc_cu12-12.1.105-py3-none-manylinux1_x86_64.whl (23.7 MB)\n",
            "\u001b[2K     \u001b[90m━━━━━━━━━━━━━━━━━━━━━━━━━━━━━━━━━━━━━━━━\u001b[0m \u001b[32m23.7/23.7 MB\u001b[0m \u001b[31m55.5 MB/s\u001b[0m eta \u001b[36m0:00:00\u001b[0m\n",
            "\u001b[?25hCollecting nvidia-cuda-runtime-cu12==12.1.105 (from torch>=1.8.0->ultralytics)\n",
            "  Downloading nvidia_cuda_runtime_cu12-12.1.105-py3-none-manylinux1_x86_64.whl (823 kB)\n",
            "\u001b[2K     \u001b[90m━━━━━━━━━━━━━━━━━━━━━━━━━━━━━━━━━━━━━━━━\u001b[0m \u001b[32m823.6/823.6 kB\u001b[0m \u001b[31m70.5 MB/s\u001b[0m eta \u001b[36m0:00:00\u001b[0m\n",
            "\u001b[?25hCollecting nvidia-cuda-cupti-cu12==12.1.105 (from torch>=1.8.0->ultralytics)\n",
            "  Downloading nvidia_cuda_cupti_cu12-12.1.105-py3-none-manylinux1_x86_64.whl (14.1 MB)\n",
            "\u001b[2K     \u001b[90m━━━━━━━━━━━━━━━━━━━━━━━━━━━━━━━━━━━━━━━━\u001b[0m \u001b[32m14.1/14.1 MB\u001b[0m \u001b[31m89.9 MB/s\u001b[0m eta \u001b[36m0:00:00\u001b[0m\n",
            "\u001b[?25hCollecting nvidia-cudnn-cu12==8.9.2.26 (from torch>=1.8.0->ultralytics)\n",
            "  Downloading nvidia_cudnn_cu12-8.9.2.26-py3-none-manylinux1_x86_64.whl (731.7 MB)\n",
            "\u001b[2K     \u001b[90m━━━━━━━━━━━━━━━━━━━━━━━━━━━━━━━━━━━━━━━━\u001b[0m \u001b[32m731.7/731.7 MB\u001b[0m \u001b[31m2.4 MB/s\u001b[0m eta \u001b[36m0:00:00\u001b[0m\n",
            "\u001b[?25hCollecting nvidia-cublas-cu12==12.1.3.1 (from torch>=1.8.0->ultralytics)\n",
            "  Downloading nvidia_cublas_cu12-12.1.3.1-py3-none-manylinux1_x86_64.whl (410.6 MB)\n",
            "\u001b[2K     \u001b[90m━━━━━━━━━━━━━━━━━━━━━━━━━━━━━━━━━━━━━━━━\u001b[0m \u001b[32m410.6/410.6 MB\u001b[0m \u001b[31m2.9 MB/s\u001b[0m eta \u001b[36m0:00:00\u001b[0m\n",
            "\u001b[?25hCollecting nvidia-cufft-cu12==11.0.2.54 (from torch>=1.8.0->ultralytics)\n",
            "  Downloading nvidia_cufft_cu12-11.0.2.54-py3-none-manylinux1_x86_64.whl (121.6 MB)\n",
            "\u001b[2K     \u001b[90m━━━━━━━━━━━━━━━━━━━━━━━━━━━━━━━━━━━━━━━━\u001b[0m \u001b[32m121.6/121.6 MB\u001b[0m \u001b[31m8.3 MB/s\u001b[0m eta \u001b[36m0:00:00\u001b[0m\n",
            "\u001b[?25hCollecting nvidia-curand-cu12==10.3.2.106 (from torch>=1.8.0->ultralytics)\n",
            "  Downloading nvidia_curand_cu12-10.3.2.106-py3-none-manylinux1_x86_64.whl (56.5 MB)\n",
            "\u001b[2K     \u001b[90m━━━━━━━━━━━━━━━━━━━━━━━━━━━━━━━━━━━━━━━━\u001b[0m \u001b[32m56.5/56.5 MB\u001b[0m \u001b[31m10.3 MB/s\u001b[0m eta \u001b[36m0:00:00\u001b[0m\n",
            "\u001b[?25hCollecting nvidia-cusolver-cu12==11.4.5.107 (from torch>=1.8.0->ultralytics)\n",
            "  Downloading nvidia_cusolver_cu12-11.4.5.107-py3-none-manylinux1_x86_64.whl (124.2 MB)\n",
            "\u001b[2K     \u001b[90m━━━━━━━━━━━━━━━━━━━━━━━━━━━━━━━━━━━━━━━━\u001b[0m \u001b[32m124.2/124.2 MB\u001b[0m \u001b[31m8.7 MB/s\u001b[0m eta \u001b[36m0:00:00\u001b[0m\n",
            "\u001b[?25hCollecting nvidia-cusparse-cu12==12.1.0.106 (from torch>=1.8.0->ultralytics)\n",
            "  Downloading nvidia_cusparse_cu12-12.1.0.106-py3-none-manylinux1_x86_64.whl (196.0 MB)\n",
            "\u001b[2K     \u001b[90m━━━━━━━━━━━━━━━━━━━━━━━━━━━━━━━━━━━━━━━━\u001b[0m \u001b[32m196.0/196.0 MB\u001b[0m \u001b[31m6.5 MB/s\u001b[0m eta \u001b[36m0:00:00\u001b[0m\n",
            "\u001b[?25hCollecting nvidia-nccl-cu12==2.19.3 (from torch>=1.8.0->ultralytics)\n",
            "  Downloading nvidia_nccl_cu12-2.19.3-py3-none-manylinux1_x86_64.whl (166.0 MB)\n",
            "\u001b[2K     \u001b[90m━━━━━━━━━━━━━━━━━━━━━━━━━━━━━━━━━━━━━━━━\u001b[0m \u001b[32m166.0/166.0 MB\u001b[0m \u001b[31m7.2 MB/s\u001b[0m eta \u001b[36m0:00:00\u001b[0m\n",
            "\u001b[?25hCollecting nvidia-nvtx-cu12==12.1.105 (from torch>=1.8.0->ultralytics)\n",
            "  Downloading nvidia_nvtx_cu12-12.1.105-py3-none-manylinux1_x86_64.whl (99 kB)\n",
            "\u001b[2K     \u001b[90m━━━━━━━━━━━━━━━━━━━━━━━━━━━━━━━━━━━━━━━━\u001b[0m \u001b[32m99.1/99.1 kB\u001b[0m \u001b[31m14.6 MB/s\u001b[0m eta \u001b[36m0:00:00\u001b[0m\n",
            "\u001b[?25hRequirement already satisfied: triton==2.2.0 in /usr/local/lib/python3.10/dist-packages (from torch>=1.8.0->ultralytics) (2.2.0)\n",
            "Collecting nvidia-nvjitlink-cu12 (from nvidia-cusolver-cu12==11.4.5.107->torch>=1.8.0->ultralytics)\n",
            "  Downloading nvidia_nvjitlink_cu12-12.4.127-py3-none-manylinux2014_x86_64.whl (21.1 MB)\n",
            "\u001b[2K     \u001b[90m━━━━━━━━━━━━━━━━━━━━━━━━━━━━━━━━━━━━━━━━\u001b[0m \u001b[32m21.1/21.1 MB\u001b[0m \u001b[31m79.7 MB/s\u001b[0m eta \u001b[36m0:00:00\u001b[0m\n",
            "\u001b[?25hRequirement already satisfied: six>=1.5 in /usr/local/lib/python3.10/dist-packages (from python-dateutil>=2.7->matplotlib>=3.3.0->ultralytics) (1.16.0)\n",
            "Requirement already satisfied: MarkupSafe>=2.0 in /usr/local/lib/python3.10/dist-packages (from jinja2->torch>=1.8.0->ultralytics) (2.1.5)\n",
            "Requirement already satisfied: mpmath>=0.19 in /usr/local/lib/python3.10/dist-packages (from sympy->torch>=1.8.0->ultralytics) (1.3.0)\n",
            "Installing collected packages: nvidia-nvtx-cu12, nvidia-nvjitlink-cu12, nvidia-nccl-cu12, nvidia-curand-cu12, nvidia-cufft-cu12, nvidia-cuda-runtime-cu12, nvidia-cuda-nvrtc-cu12, nvidia-cuda-cupti-cu12, nvidia-cublas-cu12, nvidia-cusparse-cu12, nvidia-cudnn-cu12, nvidia-cusolver-cu12, thop, ultralytics\n",
            "Successfully installed nvidia-cublas-cu12-12.1.3.1 nvidia-cuda-cupti-cu12-12.1.105 nvidia-cuda-nvrtc-cu12-12.1.105 nvidia-cuda-runtime-cu12-12.1.105 nvidia-cudnn-cu12-8.9.2.26 nvidia-cufft-cu12-11.0.2.54 nvidia-curand-cu12-10.3.2.106 nvidia-cusolver-cu12-11.4.5.107 nvidia-cusparse-cu12-12.1.0.106 nvidia-nccl-cu12-2.19.3 nvidia-nvjitlink-cu12-12.4.127 nvidia-nvtx-cu12-12.1.105 thop-0.1.1.post2209072238 ultralytics-8.1.42\n"
          ]
        }
      ],
      "source": [
        "!pip install ultralytics"
      ]
    },
    {
      "cell_type": "code",
      "execution_count": null,
      "metadata": {
        "id": "Y2ABrG4_ryyJ"
      },
      "outputs": [],
      "source": []
    },
    {
      "cell_type": "markdown",
      "metadata": {
        "id": "l7Z20LzorzHT"
      },
      "source": [
        "# **Training YOLOv8**\n",
        "# Model Configuration and Training\n",
        "\n",
        "Here we:\n",
        "- Define the path for the YOLOv8 pre-trained model and the configuration file.\n",
        "- Load a pretrained YOLOv8 model designed for segmentation tasks.\n",
        "- Train the model on the dataset specified in the configuration, setting the number of training epochs and image size.\n"
      ]
    },
    {
      "cell_type": "code",
      "execution_count": null,
      "metadata": {
        "colab": {
          "background_save": true,
          "base_uri": "https://localhost:8080/"
        },
        "id": "zy7BcAyj9LvW",
        "outputId": "906a990d-fe7e-4386-f7fa-cd186e58d381"
      },
      "outputs": [
        {
          "name": "stdout",
          "output_type": "stream",
          "text": [
            "Ultralytics YOLOv8.1.42 🚀 Python-3.10.12 torch-2.2.1+cu121 CUDA:0 (Tesla T4, 15102MiB)\n",
            "\u001b[34m\u001b[1mengine/trainer: \u001b[0mtask=segment, mode=train, model=yolov8n-seg.pt, data=/content/gdrive/MyDrive/yoloproject/yolobuild/config.yaml, epochs=10, time=None, patience=100, batch=16, imgsz=640, save=True, save_period=-1, cache=False, device=None, workers=8, project=None, name=train3, exist_ok=False, pretrained=True, optimizer=auto, verbose=True, seed=0, deterministic=True, single_cls=False, rect=False, cos_lr=False, close_mosaic=10, resume=False, amp=True, fraction=1.0, profile=False, freeze=None, multi_scale=False, overlap_mask=True, mask_ratio=4, dropout=0.0, val=True, split=val, save_json=False, save_hybrid=False, conf=None, iou=0.7, max_det=300, half=False, dnn=False, plots=True, source=None, vid_stride=1, stream_buffer=False, visualize=False, augment=False, agnostic_nms=False, classes=None, retina_masks=False, embed=None, show=False, save_frames=False, save_txt=False, save_conf=False, save_crop=False, show_labels=True, show_conf=True, show_boxes=True, line_width=None, format=torchscript, keras=False, optimize=False, int8=False, dynamic=False, simplify=False, opset=None, workspace=4, nms=False, lr0=0.01, lrf=0.01, momentum=0.937, weight_decay=0.0005, warmup_epochs=3.0, warmup_momentum=0.8, warmup_bias_lr=0.1, box=7.5, cls=0.5, dfl=1.5, pose=12.0, kobj=1.0, label_smoothing=0.0, nbs=64, hsv_h=0.015, hsv_s=0.7, hsv_v=0.4, degrees=0.0, translate=0.1, scale=0.5, shear=0.0, perspective=0.0, flipud=0.0, fliplr=0.5, bgr=0.0, mosaic=1.0, mixup=0.0, copy_paste=0.0, auto_augment=randaugment, erasing=0.4, crop_fraction=1.0, cfg=None, tracker=botsort.yaml, save_dir=runs/segment/train3\n",
            "Overriding model.yaml nc=80 with nc=1\n",
            "\n",
            "                   from  n    params  module                                       arguments                     \n",
            "  0                  -1  1       464  ultralytics.nn.modules.conv.Conv             [3, 16, 3, 2]                 \n",
            "  1                  -1  1      4672  ultralytics.nn.modules.conv.Conv             [16, 32, 3, 2]                \n",
            "  2                  -1  1      7360  ultralytics.nn.modules.block.C2f             [32, 32, 1, True]             \n",
            "  3                  -1  1     18560  ultralytics.nn.modules.conv.Conv             [32, 64, 3, 2]                \n",
            "  4                  -1  2     49664  ultralytics.nn.modules.block.C2f             [64, 64, 2, True]             \n",
            "  5                  -1  1     73984  ultralytics.nn.modules.conv.Conv             [64, 128, 3, 2]               \n",
            "  6                  -1  2    197632  ultralytics.nn.modules.block.C2f             [128, 128, 2, True]           \n",
            "  7                  -1  1    295424  ultralytics.nn.modules.conv.Conv             [128, 256, 3, 2]              \n",
            "  8                  -1  1    460288  ultralytics.nn.modules.block.C2f             [256, 256, 1, True]           \n",
            "  9                  -1  1    164608  ultralytics.nn.modules.block.SPPF            [256, 256, 5]                 \n",
            " 10                  -1  1         0  torch.nn.modules.upsampling.Upsample         [None, 2, 'nearest']          \n",
            " 11             [-1, 6]  1         0  ultralytics.nn.modules.conv.Concat           [1]                           \n",
            " 12                  -1  1    148224  ultralytics.nn.modules.block.C2f             [384, 128, 1]                 \n",
            " 13                  -1  1         0  torch.nn.modules.upsampling.Upsample         [None, 2, 'nearest']          \n",
            " 14             [-1, 4]  1         0  ultralytics.nn.modules.conv.Concat           [1]                           \n",
            " 15                  -1  1     37248  ultralytics.nn.modules.block.C2f             [192, 64, 1]                  \n",
            " 16                  -1  1     36992  ultralytics.nn.modules.conv.Conv             [64, 64, 3, 2]                \n",
            " 17            [-1, 12]  1         0  ultralytics.nn.modules.conv.Concat           [1]                           \n",
            " 18                  -1  1    123648  ultralytics.nn.modules.block.C2f             [192, 128, 1]                 \n",
            " 19                  -1  1    147712  ultralytics.nn.modules.conv.Conv             [128, 128, 3, 2]              \n",
            " 20             [-1, 9]  1         0  ultralytics.nn.modules.conv.Concat           [1]                           \n",
            " 21                  -1  1    493056  ultralytics.nn.modules.block.C2f             [384, 256, 1]                 \n",
            " 22        [15, 18, 21]  1   1004275  ultralytics.nn.modules.head.Segment          [1, 32, 64, [64, 128, 256]]   \n",
            "YOLOv8n-seg summary: 261 layers, 3263811 parameters, 3263795 gradients, 12.1 GFLOPs\n",
            "\n",
            "Transferred 381/417 items from pretrained weights\n",
            "\u001b[34m\u001b[1mTensorBoard: \u001b[0mStart with 'tensorboard --logdir runs/segment/train3', view at http://localhost:6006/\n",
            "Freezing layer 'model.22.dfl.conv.weight'\n",
            "\u001b[34m\u001b[1mAMP: \u001b[0mrunning Automatic Mixed Precision (AMP) checks with YOLOv8n...\n",
            "\u001b[34m\u001b[1mAMP: \u001b[0mchecks passed ✅\n"
          ]
        },
        {
          "name": "stderr",
          "output_type": "stream",
          "text": [
            "\u001b[34m\u001b[1mtrain: \u001b[0mScanning /content/gdrive/MyDrive/yoloproject/yolobuild/data/labels/train.cache... 270 images, 0 backgrounds, 0 corrupt: 100%|██████████| 270/270 [00:00<?, ?it/s]"
          ]
        },
        {
          "name": "stdout",
          "output_type": "stream",
          "text": [
            "\u001b[34m\u001b[1malbumentations: \u001b[0mBlur(p=0.01, blur_limit=(3, 7)), MedianBlur(p=0.01, blur_limit=(3, 7)), ToGray(p=0.01), CLAHE(p=0.01, clip_limit=(1, 4.0), tile_grid_size=(8, 8))\n"
          ]
        },
        {
          "name": "stderr",
          "output_type": "stream",
          "text": [
            "\n",
            "\u001b[34m\u001b[1mval: \u001b[0mScanning /content/gdrive/MyDrive/yoloproject/yolobuild/data/labels/val.cache... 10 images, 0 backgrounds, 0 corrupt: 100%|██████████| 10/10 [00:00<?, ?it/s]\n"
          ]
        },
        {
          "name": "stdout",
          "output_type": "stream",
          "text": [
            "Plotting labels to runs/segment/train3/labels.jpg... \n",
            "\u001b[34m\u001b[1moptimizer:\u001b[0m 'optimizer=auto' found, ignoring 'lr0=0.01' and 'momentum=0.937' and determining best 'optimizer', 'lr0' and 'momentum' automatically... \n",
            "\u001b[34m\u001b[1moptimizer:\u001b[0m AdamW(lr=0.002, momentum=0.9) with parameter groups 66 weight(decay=0.0), 77 weight(decay=0.0005), 76 bias(decay=0.0)\n",
            "\u001b[34m\u001b[1mTensorBoard: \u001b[0mmodel graph visualization added ✅\n",
            "Image sizes 640 train, 640 val\n",
            "Using 2 dataloader workers\n",
            "Logging results to \u001b[1mruns/segment/train3\u001b[0m\n",
            "Starting training for 10 epochs...\n",
            "Closing dataloader mosaic\n",
            "\u001b[34m\u001b[1malbumentations: \u001b[0mBlur(p=0.01, blur_limit=(3, 7)), MedianBlur(p=0.01, blur_limit=(3, 7)), ToGray(p=0.01), CLAHE(p=0.01, clip_limit=(1, 4.0), tile_grid_size=(8, 8))\n",
            "\n",
            "      Epoch    GPU_mem   box_loss   seg_loss   cls_loss   dfl_loss  Instances       Size\n"
          ]
        },
        {
          "name": "stderr",
          "output_type": "stream",
          "text": [
            "       1/10      5.56G      2.289      4.541      3.148      1.989        523        640: 100%|██████████| 17/17 [00:30<00:00,  1.80s/it]\n",
            "                 Class     Images  Instances      Box(P          R      mAP50  mAP50-95)     Mask(P          R      mAP50  mAP50-95): 100%|██████████| 1/1 [00:00<00:00,  1.35it/s]"
          ]
        },
        {
          "name": "stdout",
          "output_type": "stream",
          "text": [
            "                   all         10        380     0.0817      0.645      0.189     0.0615     0.0717      0.566      0.152     0.0483\n"
          ]
        },
        {
          "name": "stderr",
          "output_type": "stream",
          "text": [
            "\n"
          ]
        },
        {
          "name": "stdout",
          "output_type": "stream",
          "text": [
            "\n",
            "      Epoch    GPU_mem   box_loss   seg_loss   cls_loss   dfl_loss  Instances       Size\n"
          ]
        },
        {
          "name": "stderr",
          "output_type": "stream",
          "text": [
            "       2/10      5.16G      1.855      3.038      1.789      1.518        447        640: 100%|██████████| 17/17 [00:14<00:00,  1.18it/s]\n",
            "                 Class     Images  Instances      Box(P          R      mAP50  mAP50-95)     Mask(P          R      mAP50  mAP50-95): 100%|██████████| 1/1 [00:00<00:00,  1.44it/s]"
          ]
        },
        {
          "name": "stdout",
          "output_type": "stream",
          "text": [
            "                   all         10        380      0.551      0.382      0.407       0.15      0.531      0.353      0.378      0.115\n"
          ]
        },
        {
          "name": "stderr",
          "output_type": "stream",
          "text": [
            "\n"
          ]
        },
        {
          "name": "stdout",
          "output_type": "stream",
          "text": [
            "\n",
            "      Epoch    GPU_mem   box_loss   seg_loss   cls_loss   dfl_loss  Instances       Size\n"
          ]
        },
        {
          "name": "stderr",
          "output_type": "stream",
          "text": [
            "       3/10      5.27G      1.785      2.889      1.488      1.529        557        640: 100%|██████████| 17/17 [00:15<00:00,  1.07it/s]\n",
            "                 Class     Images  Instances      Box(P          R      mAP50  mAP50-95)     Mask(P          R      mAP50  mAP50-95): 100%|██████████| 1/1 [00:00<00:00,  1.47it/s]"
          ]
        },
        {
          "name": "stdout",
          "output_type": "stream",
          "text": [
            "                   all         10        380      0.478      0.558      0.513      0.208      0.517      0.542      0.512      0.169\n"
          ]
        },
        {
          "name": "stderr",
          "output_type": "stream",
          "text": [
            "\n"
          ]
        },
        {
          "name": "stdout",
          "output_type": "stream",
          "text": [
            "\n",
            "      Epoch    GPU_mem   box_loss   seg_loss   cls_loss   dfl_loss  Instances       Size\n"
          ]
        },
        {
          "name": "stderr",
          "output_type": "stream",
          "text": [
            "       4/10      5.05G      1.731       2.77       1.43      1.461        477        640: 100%|██████████| 17/17 [00:15<00:00,  1.11it/s]\n",
            "                 Class     Images  Instances      Box(P          R      mAP50  mAP50-95)     Mask(P          R      mAP50  mAP50-95): 100%|██████████| 1/1 [00:00<00:00,  1.18it/s]"
          ]
        },
        {
          "name": "stdout",
          "output_type": "stream",
          "text": [
            "                   all         10        380      0.411      0.492      0.415      0.151      0.411      0.479      0.415      0.126\n"
          ]
        },
        {
          "name": "stderr",
          "output_type": "stream",
          "text": [
            "\n"
          ]
        },
        {
          "name": "stdout",
          "output_type": "stream",
          "text": [
            "\n",
            "      Epoch    GPU_mem   box_loss   seg_loss   cls_loss   dfl_loss  Instances       Size\n"
          ]
        },
        {
          "name": "stderr",
          "output_type": "stream",
          "text": [
            "       5/10      4.94G      1.693      2.687      1.366      1.444        471        640: 100%|██████████| 17/17 [00:15<00:00,  1.10it/s]\n",
            "                 Class     Images  Instances      Box(P          R      mAP50  mAP50-95)     Mask(P          R      mAP50  mAP50-95): 100%|██████████| 1/1 [00:00<00:00,  1.78it/s]"
          ]
        },
        {
          "name": "stdout",
          "output_type": "stream",
          "text": [
            "                   all         10        380      0.537      0.495      0.443       0.16      0.518      0.476      0.398      0.127\n"
          ]
        },
        {
          "name": "stderr",
          "output_type": "stream",
          "text": [
            "\n"
          ]
        },
        {
          "name": "stdout",
          "output_type": "stream",
          "text": [
            "\n",
            "      Epoch    GPU_mem   box_loss   seg_loss   cls_loss   dfl_loss  Instances       Size\n"
          ]
        },
        {
          "name": "stderr",
          "output_type": "stream",
          "text": [
            "       6/10      5.48G      1.625      2.645      1.327      1.417        460        640: 100%|██████████| 17/17 [00:15<00:00,  1.13it/s]\n",
            "                 Class     Images  Instances      Box(P          R      mAP50  mAP50-95)     Mask(P          R      mAP50  mAP50-95): 100%|██████████| 1/1 [00:00<00:00,  1.49it/s]"
          ]
        },
        {
          "name": "stdout",
          "output_type": "stream",
          "text": [
            "                   all         10        380       0.75      0.655      0.716      0.288      0.734      0.629      0.666      0.212\n"
          ]
        },
        {
          "name": "stderr",
          "output_type": "stream",
          "text": [
            "\n"
          ]
        },
        {
          "name": "stdout",
          "output_type": "stream",
          "text": [
            "\n",
            "      Epoch    GPU_mem   box_loss   seg_loss   cls_loss   dfl_loss  Instances       Size\n"
          ]
        },
        {
          "name": "stderr",
          "output_type": "stream",
          "text": [
            "       7/10      4.78G      1.597      2.577      1.284      1.409        552        640: 100%|██████████| 17/17 [00:15<00:00,  1.12it/s]\n",
            "                 Class     Images  Instances      Box(P          R      mAP50  mAP50-95)     Mask(P          R      mAP50  mAP50-95): 100%|██████████| 1/1 [00:00<00:00,  1.73it/s]"
          ]
        },
        {
          "name": "stdout",
          "output_type": "stream",
          "text": [
            "                   all         10        380      0.635      0.647      0.606       0.26       0.61      0.624       0.57      0.198\n"
          ]
        },
        {
          "name": "stderr",
          "output_type": "stream",
          "text": [
            "\n"
          ]
        },
        {
          "name": "stdout",
          "output_type": "stream",
          "text": [
            "\n",
            "      Epoch    GPU_mem   box_loss   seg_loss   cls_loss   dfl_loss  Instances       Size\n"
          ]
        },
        {
          "name": "stderr",
          "output_type": "stream",
          "text": [
            "       8/10      4.78G      1.537      2.511      1.253      1.372        515        640: 100%|██████████| 17/17 [00:16<00:00,  1.05it/s]\n",
            "                 Class     Images  Instances      Box(P          R      mAP50  mAP50-95)     Mask(P          R      mAP50  mAP50-95): 100%|██████████| 1/1 [00:01<00:00,  1.04s/it]"
          ]
        },
        {
          "name": "stdout",
          "output_type": "stream",
          "text": [
            "                   all         10        380      0.679      0.695      0.682        0.3       0.63       0.64      0.636      0.227\n"
          ]
        },
        {
          "name": "stderr",
          "output_type": "stream",
          "text": [
            "\n"
          ]
        },
        {
          "name": "stdout",
          "output_type": "stream",
          "text": [
            "\n",
            "      Epoch    GPU_mem   box_loss   seg_loss   cls_loss   dfl_loss  Instances       Size\n"
          ]
        },
        {
          "name": "stderr",
          "output_type": "stream",
          "text": [
            "       9/10      5.89G      1.489      2.455       1.18      1.329        536        640: 100%|██████████| 17/17 [00:14<00:00,  1.20it/s]\n",
            "                 Class     Images  Instances      Box(P          R      mAP50  mAP50-95)     Mask(P          R      mAP50  mAP50-95): 100%|██████████| 1/1 [00:00<00:00,  2.23it/s]"
          ]
        },
        {
          "name": "stdout",
          "output_type": "stream",
          "text": [
            "                   all         10        380      0.686      0.668      0.709      0.312      0.695      0.629      0.694       0.25\n"
          ]
        },
        {
          "name": "stderr",
          "output_type": "stream",
          "text": [
            "\n"
          ]
        },
        {
          "name": "stdout",
          "output_type": "stream",
          "text": [
            "\n",
            "      Epoch    GPU_mem   box_loss   seg_loss   cls_loss   dfl_loss  Instances       Size\n"
          ]
        },
        {
          "name": "stderr",
          "output_type": "stream",
          "text": [
            "      10/10      4.85G      1.451      2.391      1.148      1.298        592        640: 100%|██████████| 17/17 [00:14<00:00,  1.13it/s]\n",
            "                 Class     Images  Instances      Box(P          R      mAP50  mAP50-95)     Mask(P          R      mAP50  mAP50-95): 100%|██████████| 1/1 [00:00<00:00,  1.52it/s]"
          ]
        },
        {
          "name": "stdout",
          "output_type": "stream",
          "text": [
            "                   all         10        380      0.765      0.626      0.721      0.325       0.76      0.616      0.707      0.271\n"
          ]
        },
        {
          "name": "stderr",
          "output_type": "stream",
          "text": [
            "\n"
          ]
        },
        {
          "name": "stdout",
          "output_type": "stream",
          "text": [
            "\n",
            "10 epochs completed in 0.054 hours.\n",
            "Optimizer stripped from runs/segment/train3/weights/last.pt, 6.8MB\n",
            "Optimizer stripped from runs/segment/train3/weights/best.pt, 6.8MB\n",
            "\n",
            "Validating runs/segment/train3/weights/best.pt...\n",
            "Ultralytics YOLOv8.1.42 🚀 Python-3.10.12 torch-2.2.1+cu121 CUDA:0 (Tesla T4, 15102MiB)\n",
            "YOLOv8n-seg summary (fused): 195 layers, 3258259 parameters, 0 gradients, 12.0 GFLOPs\n"
          ]
        },
        {
          "name": "stderr",
          "output_type": "stream",
          "text": [
            "                 Class     Images  Instances      Box(P          R      mAP50  mAP50-95)     Mask(P          R      mAP50  mAP50-95): 100%|██████████| 1/1 [00:00<00:00,  3.84it/s]\n"
          ]
        },
        {
          "name": "stdout",
          "output_type": "stream",
          "text": [
            "                   all         10        380       0.77      0.626      0.725      0.325      0.757      0.615      0.707      0.271\n",
            "Speed: 0.2ms preprocess, 4.5ms inference, 0.0ms loss, 2.6ms postprocess per image\n",
            "Results saved to \u001b[1mruns/segment/train3\u001b[0m\n"
          ]
        },
        {
          "data": {
            "text/plain": [
              "ultralytics.utils.metrics.SegmentMetrics object with attributes:\n",
              "\n",
              "ap_class_index: array([0])\n",
              "box: ultralytics.utils.metrics.Metric object\n",
              "confusion_matrix: <ultralytics.utils.metrics.ConfusionMatrix object at 0x7e0858e19930>\n",
              "curves: ['Precision-Recall(B)', 'F1-Confidence(B)', 'Precision-Confidence(B)', 'Recall-Confidence(B)', 'Precision-Recall(M)', 'F1-Confidence(M)', 'Precision-Confidence(M)', 'Recall-Confidence(M)']\n",
              "curves_results: [[array([          0,    0.001001,    0.002002,    0.003003,    0.004004,    0.005005,    0.006006,    0.007007,    0.008008,    0.009009,     0.01001,    0.011011,    0.012012,    0.013013,    0.014014,    0.015015,    0.016016,    0.017017,    0.018018,    0.019019,     0.02002,    0.021021,    0.022022,    0.023023,\n",
              "          0.024024,    0.025025,    0.026026,    0.027027,    0.028028,    0.029029,     0.03003,    0.031031,    0.032032,    0.033033,    0.034034,    0.035035,    0.036036,    0.037037,    0.038038,    0.039039,     0.04004,    0.041041,    0.042042,    0.043043,    0.044044,    0.045045,    0.046046,    0.047047,\n",
              "          0.048048,    0.049049,     0.05005,    0.051051,    0.052052,    0.053053,    0.054054,    0.055055,    0.056056,    0.057057,    0.058058,    0.059059,     0.06006,    0.061061,    0.062062,    0.063063,    0.064064,    0.065065,    0.066066,    0.067067,    0.068068,    0.069069,     0.07007,    0.071071,\n",
              "          0.072072,    0.073073,    0.074074,    0.075075,    0.076076,    0.077077,    0.078078,    0.079079,     0.08008,    0.081081,    0.082082,    0.083083,    0.084084,    0.085085,    0.086086,    0.087087,    0.088088,    0.089089,     0.09009,    0.091091,    0.092092,    0.093093,    0.094094,    0.095095,\n",
              "          0.096096,    0.097097,    0.098098,    0.099099,      0.1001,      0.1011,      0.1021,      0.1031,      0.1041,     0.10511,     0.10611,     0.10711,     0.10811,     0.10911,     0.11011,     0.11111,     0.11211,     0.11311,     0.11411,     0.11512,     0.11612,     0.11712,     0.11812,     0.11912,\n",
              "           0.12012,     0.12112,     0.12212,     0.12312,     0.12412,     0.12513,     0.12613,     0.12713,     0.12813,     0.12913,     0.13013,     0.13113,     0.13213,     0.13313,     0.13413,     0.13514,     0.13614,     0.13714,     0.13814,     0.13914,     0.14014,     0.14114,     0.14214,     0.14314,\n",
              "           0.14414,     0.14515,     0.14615,     0.14715,     0.14815,     0.14915,     0.15015,     0.15115,     0.15215,     0.15315,     0.15415,     0.15516,     0.15616,     0.15716,     0.15816,     0.15916,     0.16016,     0.16116,     0.16216,     0.16316,     0.16416,     0.16517,     0.16617,     0.16717,\n",
              "           0.16817,     0.16917,     0.17017,     0.17117,     0.17217,     0.17317,     0.17417,     0.17518,     0.17618,     0.17718,     0.17818,     0.17918,     0.18018,     0.18118,     0.18218,     0.18318,     0.18418,     0.18519,     0.18619,     0.18719,     0.18819,     0.18919,     0.19019,     0.19119,\n",
              "           0.19219,     0.19319,     0.19419,      0.1952,      0.1962,      0.1972,      0.1982,      0.1992,      0.2002,      0.2012,      0.2022,      0.2032,      0.2042,     0.20521,     0.20621,     0.20721,     0.20821,     0.20921,     0.21021,     0.21121,     0.21221,     0.21321,     0.21421,     0.21522,\n",
              "           0.21622,     0.21722,     0.21822,     0.21922,     0.22022,     0.22122,     0.22222,     0.22322,     0.22422,     0.22523,     0.22623,     0.22723,     0.22823,     0.22923,     0.23023,     0.23123,     0.23223,     0.23323,     0.23423,     0.23524,     0.23624,     0.23724,     0.23824,     0.23924,\n",
              "           0.24024,     0.24124,     0.24224,     0.24324,     0.24424,     0.24525,     0.24625,     0.24725,     0.24825,     0.24925,     0.25025,     0.25125,     0.25225,     0.25325,     0.25425,     0.25526,     0.25626,     0.25726,     0.25826,     0.25926,     0.26026,     0.26126,     0.26226,     0.26326,\n",
              "           0.26426,     0.26527,     0.26627,     0.26727,     0.26827,     0.26927,     0.27027,     0.27127,     0.27227,     0.27327,     0.27427,     0.27528,     0.27628,     0.27728,     0.27828,     0.27928,     0.28028,     0.28128,     0.28228,     0.28328,     0.28428,     0.28529,     0.28629,     0.28729,\n",
              "           0.28829,     0.28929,     0.29029,     0.29129,     0.29229,     0.29329,     0.29429,      0.2953,      0.2963,      0.2973,      0.2983,      0.2993,      0.3003,      0.3013,      0.3023,      0.3033,      0.3043,     0.30531,     0.30631,     0.30731,     0.30831,     0.30931,     0.31031,     0.31131,\n",
              "           0.31231,     0.31331,     0.31431,     0.31532,     0.31632,     0.31732,     0.31832,     0.31932,     0.32032,     0.32132,     0.32232,     0.32332,     0.32432,     0.32533,     0.32633,     0.32733,     0.32833,     0.32933,     0.33033,     0.33133,     0.33233,     0.33333,     0.33433,     0.33534,\n",
              "           0.33634,     0.33734,     0.33834,     0.33934,     0.34034,     0.34134,     0.34234,     0.34334,     0.34434,     0.34535,     0.34635,     0.34735,     0.34835,     0.34935,     0.35035,     0.35135,     0.35235,     0.35335,     0.35435,     0.35536,     0.35636,     0.35736,     0.35836,     0.35936,\n",
              "           0.36036,     0.36136,     0.36236,     0.36336,     0.36436,     0.36537,     0.36637,     0.36737,     0.36837,     0.36937,     0.37037,     0.37137,     0.37237,     0.37337,     0.37437,     0.37538,     0.37638,     0.37738,     0.37838,     0.37938,     0.38038,     0.38138,     0.38238,     0.38338,\n",
              "           0.38438,     0.38539,     0.38639,     0.38739,     0.38839,     0.38939,     0.39039,     0.39139,     0.39239,     0.39339,     0.39439,      0.3954,      0.3964,      0.3974,      0.3984,      0.3994,      0.4004,      0.4014,      0.4024,      0.4034,      0.4044,     0.40541,     0.40641,     0.40741,\n",
              "           0.40841,     0.40941,     0.41041,     0.41141,     0.41241,     0.41341,     0.41441,     0.41542,     0.41642,     0.41742,     0.41842,     0.41942,     0.42042,     0.42142,     0.42242,     0.42342,     0.42442,     0.42543,     0.42643,     0.42743,     0.42843,     0.42943,     0.43043,     0.43143,\n",
              "           0.43243,     0.43343,     0.43443,     0.43544,     0.43644,     0.43744,     0.43844,     0.43944,     0.44044,     0.44144,     0.44244,     0.44344,     0.44444,     0.44545,     0.44645,     0.44745,     0.44845,     0.44945,     0.45045,     0.45145,     0.45245,     0.45345,     0.45445,     0.45546,\n",
              "           0.45646,     0.45746,     0.45846,     0.45946,     0.46046,     0.46146,     0.46246,     0.46346,     0.46446,     0.46547,     0.46647,     0.46747,     0.46847,     0.46947,     0.47047,     0.47147,     0.47247,     0.47347,     0.47447,     0.47548,     0.47648,     0.47748,     0.47848,     0.47948,\n",
              "           0.48048,     0.48148,     0.48248,     0.48348,     0.48448,     0.48549,     0.48649,     0.48749,     0.48849,     0.48949,     0.49049,     0.49149,     0.49249,     0.49349,     0.49449,      0.4955,      0.4965,      0.4975,      0.4985,      0.4995,      0.5005,      0.5015,      0.5025,      0.5035,\n",
              "            0.5045,     0.50551,     0.50651,     0.50751,     0.50851,     0.50951,     0.51051,     0.51151,     0.51251,     0.51351,     0.51451,     0.51552,     0.51652,     0.51752,     0.51852,     0.51952,     0.52052,     0.52152,     0.52252,     0.52352,     0.52452,     0.52553,     0.52653,     0.52753,\n",
              "           0.52853,     0.52953,     0.53053,     0.53153,     0.53253,     0.53353,     0.53453,     0.53554,     0.53654,     0.53754,     0.53854,     0.53954,     0.54054,     0.54154,     0.54254,     0.54354,     0.54454,     0.54555,     0.54655,     0.54755,     0.54855,     0.54955,     0.55055,     0.55155,\n",
              "           0.55255,     0.55355,     0.55455,     0.55556,     0.55656,     0.55756,     0.55856,     0.55956,     0.56056,     0.56156,     0.56256,     0.56356,     0.56456,     0.56557,     0.56657,     0.56757,     0.56857,     0.56957,     0.57057,     0.57157,     0.57257,     0.57357,     0.57457,     0.57558,\n",
              "           0.57658,     0.57758,     0.57858,     0.57958,     0.58058,     0.58158,     0.58258,     0.58358,     0.58458,     0.58559,     0.58659,     0.58759,     0.58859,     0.58959,     0.59059,     0.59159,     0.59259,     0.59359,     0.59459,      0.5956,      0.5966,      0.5976,      0.5986,      0.5996,\n",
              "            0.6006,      0.6016,      0.6026,      0.6036,      0.6046,     0.60561,     0.60661,     0.60761,     0.60861,     0.60961,     0.61061,     0.61161,     0.61261,     0.61361,     0.61461,     0.61562,     0.61662,     0.61762,     0.61862,     0.61962,     0.62062,     0.62162,     0.62262,     0.62362,\n",
              "           0.62462,     0.62563,     0.62663,     0.62763,     0.62863,     0.62963,     0.63063,     0.63163,     0.63263,     0.63363,     0.63463,     0.63564,     0.63664,     0.63764,     0.63864,     0.63964,     0.64064,     0.64164,     0.64264,     0.64364,     0.64464,     0.64565,     0.64665,     0.64765,\n",
              "           0.64865,     0.64965,     0.65065,     0.65165,     0.65265,     0.65365,     0.65465,     0.65566,     0.65666,     0.65766,     0.65866,     0.65966,     0.66066,     0.66166,     0.66266,     0.66366,     0.66466,     0.66567,     0.66667,     0.66767,     0.66867,     0.66967,     0.67067,     0.67167,\n",
              "           0.67267,     0.67367,     0.67467,     0.67568,     0.67668,     0.67768,     0.67868,     0.67968,     0.68068,     0.68168,     0.68268,     0.68368,     0.68468,     0.68569,     0.68669,     0.68769,     0.68869,     0.68969,     0.69069,     0.69169,     0.69269,     0.69369,     0.69469,      0.6957,\n",
              "            0.6967,      0.6977,      0.6987,      0.6997,      0.7007,      0.7017,      0.7027,      0.7037,      0.7047,     0.70571,     0.70671,     0.70771,     0.70871,     0.70971,     0.71071,     0.71171,     0.71271,     0.71371,     0.71471,     0.71572,     0.71672,     0.71772,     0.71872,     0.71972,\n",
              "           0.72072,     0.72172,     0.72272,     0.72372,     0.72472,     0.72573,     0.72673,     0.72773,     0.72873,     0.72973,     0.73073,     0.73173,     0.73273,     0.73373,     0.73473,     0.73574,     0.73674,     0.73774,     0.73874,     0.73974,     0.74074,     0.74174,     0.74274,     0.74374,\n",
              "           0.74474,     0.74575,     0.74675,     0.74775,     0.74875,     0.74975,     0.75075,     0.75175,     0.75275,     0.75375,     0.75475,     0.75576,     0.75676,     0.75776,     0.75876,     0.75976,     0.76076,     0.76176,     0.76276,     0.76376,     0.76476,     0.76577,     0.76677,     0.76777,\n",
              "           0.76877,     0.76977,     0.77077,     0.77177,     0.77277,     0.77377,     0.77477,     0.77578,     0.77678,     0.77778,     0.77878,     0.77978,     0.78078,     0.78178,     0.78278,     0.78378,     0.78478,     0.78579,     0.78679,     0.78779,     0.78879,     0.78979,     0.79079,     0.79179,\n",
              "           0.79279,     0.79379,     0.79479,      0.7958,      0.7968,      0.7978,      0.7988,      0.7998,      0.8008,      0.8018,      0.8028,      0.8038,      0.8048,     0.80581,     0.80681,     0.80781,     0.80881,     0.80981,     0.81081,     0.81181,     0.81281,     0.81381,     0.81481,     0.81582,\n",
              "           0.81682,     0.81782,     0.81882,     0.81982,     0.82082,     0.82182,     0.82282,     0.82382,     0.82482,     0.82583,     0.82683,     0.82783,     0.82883,     0.82983,     0.83083,     0.83183,     0.83283,     0.83383,     0.83483,     0.83584,     0.83684,     0.83784,     0.83884,     0.83984,\n",
              "           0.84084,     0.84184,     0.84284,     0.84384,     0.84484,     0.84585,     0.84685,     0.84785,     0.84885,     0.84985,     0.85085,     0.85185,     0.85285,     0.85385,     0.85485,     0.85586,     0.85686,     0.85786,     0.85886,     0.85986,     0.86086,     0.86186,     0.86286,     0.86386,\n",
              "           0.86486,     0.86587,     0.86687,     0.86787,     0.86887,     0.86987,     0.87087,     0.87187,     0.87287,     0.87387,     0.87487,     0.87588,     0.87688,     0.87788,     0.87888,     0.87988,     0.88088,     0.88188,     0.88288,     0.88388,     0.88488,     0.88589,     0.88689,     0.88789,\n",
              "           0.88889,     0.88989,     0.89089,     0.89189,     0.89289,     0.89389,     0.89489,      0.8959,      0.8969,      0.8979,      0.8989,      0.8999,      0.9009,      0.9019,      0.9029,      0.9039,      0.9049,     0.90591,     0.90691,     0.90791,     0.90891,     0.90991,     0.91091,     0.91191,\n",
              "           0.91291,     0.91391,     0.91491,     0.91592,     0.91692,     0.91792,     0.91892,     0.91992,     0.92092,     0.92192,     0.92292,     0.92392,     0.92492,     0.92593,     0.92693,     0.92793,     0.92893,     0.92993,     0.93093,     0.93193,     0.93293,     0.93393,     0.93493,     0.93594,\n",
              "           0.93694,     0.93794,     0.93894,     0.93994,     0.94094,     0.94194,     0.94294,     0.94394,     0.94494,     0.94595,     0.94695,     0.94795,     0.94895,     0.94995,     0.95095,     0.95195,     0.95295,     0.95395,     0.95495,     0.95596,     0.95696,     0.95796,     0.95896,     0.95996,\n",
              "           0.96096,     0.96196,     0.96296,     0.96396,     0.96496,     0.96597,     0.96697,     0.96797,     0.96897,     0.96997,     0.97097,     0.97197,     0.97297,     0.97397,     0.97497,     0.97598,     0.97698,     0.97798,     0.97898,     0.97998,     0.98098,     0.98198,     0.98298,     0.98398,\n",
              "           0.98498,     0.98599,     0.98699,     0.98799,     0.98899,     0.98999,     0.99099,     0.99199,     0.99299,     0.99399,     0.99499,       0.996,       0.997,       0.998,       0.999,           1]), array([[          1,           1,           1,           1,           1,           1,           1,           1,           1,           1,           1,           1,           1,           1,           1,           1,           1,           1,           1,           1,           1,           1,           1,\n",
              "                  1,           1,           1,           1,           1,           1,           1,           1,           1,           1,           1,           1,           1,           1,           1,           1,           1,           1,           1,           1,           1,           1,           1,\n",
              "                  1,           1,           1,           1,           1,           1,           1,     0.95652,     0.95652,     0.95652,     0.95652,     0.95652,     0.95349,     0.95349,     0.95349,     0.95349,     0.95349,     0.95349,     0.95349,     0.95349,     0.95349,     0.95349,     0.95349,\n",
              "            0.95349,     0.95349,     0.95349,     0.95349,     0.95349,     0.95349,     0.95349,     0.95349,     0.95349,     0.95349,     0.95349,     0.95349,     0.95349,     0.95349,     0.95349,     0.95349,     0.95349,     0.95349,     0.95349,     0.95349,     0.95349,     0.95349,     0.95349,\n",
              "            0.95349,     0.95349,     0.95349,     0.95349,     0.95349,     0.95349,     0.95349,     0.95349,     0.95349,     0.95349,     0.95349,     0.95349,     0.95349,     0.95349,     0.95349,     0.95349,     0.93478,     0.93478,     0.93478,     0.93478,     0.93478,     0.93478,     0.91837,\n",
              "            0.91837,     0.91837,     0.91837,     0.91837,     0.90196,     0.90196,     0.89516,     0.89516,     0.89516,     0.89516,     0.89516,     0.89516,     0.89516,     0.89516,     0.89516,     0.89516,     0.89516,     0.89516,     0.89516,     0.89516,     0.89516,     0.89516,     0.89516,\n",
              "            0.89516,     0.89516,     0.89516,     0.89516,     0.89516,     0.89516,     0.89516,     0.89516,     0.89516,     0.89516,     0.89516,     0.89516,     0.89516,     0.89516,     0.89516,     0.89516,     0.89516,     0.89516,     0.89516,     0.89516,     0.89516,     0.89516,     0.89516,\n",
              "            0.89516,     0.89516,     0.89516,     0.89516,     0.89516,     0.89516,     0.89516,     0.89516,     0.89516,     0.89516,     0.89516,     0.89516,     0.89516,     0.89516,     0.89516,     0.89516,     0.89516,     0.89516,     0.89516,     0.89516,     0.89516,     0.89516,     0.89516,\n",
              "            0.89516,     0.89516,     0.89516,     0.89516,     0.89516,     0.89516,     0.89516,     0.89516,     0.89516,     0.89516,     0.89516,     0.89516,     0.89516,     0.89516,     0.89516,     0.89516,     0.89516,     0.89516,     0.89516,     0.89516,     0.89516,     0.89516,     0.89516,\n",
              "            0.89516,     0.89516,     0.89516,     0.89516,     0.89516,     0.89516,     0.89516,     0.89516,     0.89516,     0.89516,     0.89516,     0.89516,     0.89516,     0.89516,     0.89516,     0.89516,     0.89516,     0.89516,     0.89516,     0.89516,     0.89516,     0.89516,     0.89516,\n",
              "            0.89516,     0.89516,     0.89516,     0.89516,     0.89516,     0.89516,     0.89516,     0.89516,     0.89516,     0.89516,     0.89516,     0.89516,     0.89516,     0.89516,     0.89516,     0.89516,     0.89516,     0.89516,     0.89516,     0.89516,     0.89516,     0.89516,     0.89516,\n",
              "            0.89516,     0.89516,     0.89516,     0.89516,     0.89516,     0.89516,     0.89516,     0.89516,     0.89516,     0.89516,     0.89516,     0.89516,     0.89516,     0.89516,     0.89516,     0.89516,     0.89516,     0.89516,     0.89516,     0.89516,     0.89516,     0.89516,     0.89516,\n",
              "            0.89516,     0.89516,     0.89516,     0.89516,     0.89516,     0.89516,     0.89516,     0.89516,     0.89516,     0.89516,     0.89516,     0.89516,     0.89516,     0.89516,     0.89516,     0.89516,     0.88966,     0.88966,     0.88966,     0.88966,     0.88966,     0.88966,     0.88966,\n",
              "            0.88966,     0.88966,     0.88966,     0.88966,     0.88966,     0.88966,     0.88966,     0.88966,     0.88966,     0.88966,     0.88966,     0.88966,     0.88966,     0.88966,     0.88966,     0.88966,     0.88966,     0.88966,     0.88966,     0.88966,     0.88966,     0.88966,     0.88966,\n",
              "            0.88966,     0.88966,     0.88966,     0.88966,     0.88966,     0.88966,     0.88966,     0.88966,     0.88966,     0.88966,     0.88966,     0.88966,     0.88966,     0.88966,     0.88966,     0.88966,     0.88966,     0.88966,     0.88827,     0.88827,     0.88827,     0.88827,     0.88827,\n",
              "            0.88827,     0.88827,     0.88827,     0.88827,     0.88827,     0.88827,     0.88827,     0.88827,     0.88827,     0.88827,     0.88827,     0.88827,     0.88827,     0.88827,     0.88827,     0.88827,     0.88827,     0.88827,     0.88827,     0.88827,     0.88827,     0.88827,     0.88827,\n",
              "            0.88827,     0.88827,     0.88827,     0.88827,     0.88827,     0.88827,     0.88827,     0.88827,     0.88827,     0.88827,     0.88827,     0.88827,     0.88827,     0.88827,     0.88827,     0.88827,     0.88827,     0.88827,     0.88827,     0.88827,     0.88827,     0.88827,     0.88827,\n",
              "            0.88827,     0.88827,     0.88827,     0.88827,     0.88827,     0.88827,     0.88827,     0.88827,     0.88827,     0.88827,     0.88827,     0.88827,     0.88827,     0.88827,     0.88827,     0.88827,     0.88827,     0.88827,     0.88827,     0.88827,     0.88827,     0.88827,     0.88827,\n",
              "            0.88827,     0.88827,     0.88827,     0.88827,     0.88827,     0.88462,     0.88462,     0.88462,     0.88462,     0.88462,     0.88043,     0.88043,      0.8794,      0.8794,      0.8794,      0.8794,      0.8794,      0.8794,      0.8794,      0.8794,      0.8794,      0.8794,      0.8794,\n",
              "             0.8794,      0.8794,      0.8794,      0.8794,      0.8794,      0.8794,      0.8794,      0.8794,      0.8794,      0.8794,      0.8794,      0.8794,      0.8794,      0.8794,      0.8794,      0.8794,      0.8794,      0.8794,      0.8794,      0.8794,      0.8794,      0.8794,      0.8794,\n",
              "             0.8794,     0.87745,     0.87745,     0.87745,     0.87745,     0.87745,     0.87745,     0.87745,     0.87745,     0.87745,     0.87745,     0.87678,     0.87678,     0.87678,     0.87678,     0.87678,     0.87678,     0.87678,     0.87678,     0.87678,     0.87678,     0.87678,     0.87678,\n",
              "            0.87678,     0.87678,     0.87678,     0.87678,     0.87442,     0.87442,     0.87442,     0.87442,     0.87442,     0.87442,     0.87442,     0.87442,     0.86607,     0.86607,     0.86607,     0.86607,     0.86607,     0.86607,     0.86607,     0.86607,     0.86607,     0.86607,     0.86607,\n",
              "            0.86607,     0.86607,     0.86607,     0.86607,     0.86607,     0.86307,     0.86307,     0.86307,     0.86307,     0.86307,     0.86307,     0.86307,     0.86307,     0.86307,     0.86307,     0.86307,     0.86307,     0.86307,     0.86307,     0.86307,     0.86307,     0.86307,     0.86307,\n",
              "            0.86307,     0.86307,     0.86307,     0.86307,     0.86307,     0.86307,     0.86307,     0.86307,     0.86307,     0.86307,     0.86307,     0.86307,     0.86307,     0.86307,     0.86307,     0.86307,     0.86307,     0.86307,     0.86066,     0.86066,     0.86066,     0.86066,     0.86066,\n",
              "            0.86066,        0.86,        0.86,        0.86,        0.86,        0.86,        0.86,        0.86,        0.86,        0.86,        0.86,        0.86,        0.86,        0.86,     0.85039,     0.85039,     0.84109,     0.84109,     0.84109,     0.83846,     0.83846,     0.83846,     0.82707,\n",
              "            0.82707,     0.82707,     0.82707,     0.82707,     0.82353,     0.82353,     0.82353,     0.82353,     0.82353,     0.82353,     0.82353,     0.82353,     0.82353,     0.82353,     0.82117,     0.82117,     0.82117,     0.81949,     0.81949,     0.81949,     0.81949,     0.81949,     0.81786,\n",
              "            0.81786,     0.81786,     0.81786,     0.81786,     0.81786,      0.8169,      0.8169,      0.8169,      0.8169,      0.8169,      0.8169,      0.8169,     0.81469,     0.81469,     0.81469,     0.80412,     0.80412,     0.80412,     0.79661,     0.79661,     0.79264,     0.79264,     0.79264,\n",
              "            0.79264,     0.79264,     0.79264,     0.77023,     0.77023,     0.76849,     0.76849,     0.76849,     0.76677,     0.76677,     0.76025,     0.76025,     0.76025,     0.75701,     0.75701,     0.75701,     0.75701,     0.75701,     0.75229,     0.75229,     0.75229,     0.75229,     0.75229,\n",
              "            0.75229,     0.75229,     0.75229,     0.74848,     0.74848,     0.74848,     0.74474,     0.74474,     0.73824,     0.73824,     0.73824,     0.73824,     0.73824,     0.73824,     0.73824,     0.73824,     0.73256,     0.73256,     0.73256,     0.72911,     0.72911,     0.72911,     0.72571,\n",
              "            0.72571,     0.72443,     0.72443,     0.72443,     0.72113,     0.72113,     0.72113,     0.71588,     0.71588,     0.70879,     0.70879,     0.70879,     0.70572,     0.70572,     0.69705,     0.69705,     0.69705,     0.69681,     0.69681,     0.69681,     0.69681,     0.69681,     0.69577,\n",
              "            0.69577,     0.69577,      0.6911,      0.6911,      0.6911,     0.68831,     0.68831,     0.68112,     0.68112,     0.68112,     0.68112,     0.68112,      0.6802,      0.6802,      0.6802,     0.67929,     0.67929,     0.67929,     0.67839,     0.67839,      0.6775,      0.6775,      0.6775,\n",
              "             0.6683,      0.6683,      0.6683,     0.66505,     0.66505,     0.66505,     0.66505,     0.66505,      0.6611,      0.6611,      0.6611,      0.6611,      0.6611,      0.6611,      0.6611,      0.6611,     0.64953,     0.64953,     0.64733,     0.64733,     0.64733,     0.63492,     0.63492,\n",
              "            0.63492,     0.62864,     0.62864,     0.62832,     0.62832,     0.62832,     0.62832,     0.62832,     0.62832,     0.62832,     0.62832,     0.62637,     0.62637,     0.62637,     0.61456,     0.61456,     0.61456,     0.61456,     0.61456,     0.61277,     0.61277,     0.61277,     0.60334,\n",
              "            0.60334,     0.60166,     0.60166,     0.60166,         0.6,         0.6,         0.6,         0.6,         0.6,         0.6,         0.6,         0.6,         0.6,         0.6,     0.59237,     0.59237,     0.59237,     0.59082,     0.59082,     0.59082,     0.58008,     0.58008,     0.57977,\n",
              "            0.57977,     0.57977,     0.56415,     0.56415,     0.56415,     0.56285,     0.56285,     0.55926,     0.55926,     0.55926,     0.55926,     0.55926,     0.54595,     0.54595,     0.54595,     0.52234,     0.52234,     0.52234,     0.52218,     0.52218,     0.52218,     0.52218,     0.52218,\n",
              "            0.49357,     0.49357,     0.49357,     0.49201,     0.49201,     0.44863,     0.44863,     0.44863,     0.44863,     0.44863,     0.44813,     0.44813,     0.44813,     0.43882,     0.43882,     0.43882,     0.42701,     0.42701,     0.40674,     0.40674,     0.40674,     0.40127,     0.40127,\n",
              "            0.40127,       0.395,       0.395,     0.39233,     0.39233,     0.39233,     0.39018,     0.39018,     0.39018,      0.3805,      0.3805,      0.3805,      0.3805,      0.3805,     0.37765,     0.37765,     0.37097,     0.37097,     0.37097,     0.34072,     0.34072,     0.34072,     0.34069,\n",
              "            0.34069,     0.31584,     0.31584,     0.31584,     0.31226,     0.31226,     0.31226,     0.28684,     0.28684,     0.27867,     0.27867,     0.27867,     0.27145,     0.27145,       0.264,       0.264,       0.264,     0.26084,     0.26084,     0.26084,     0.25578,     0.25578,     0.24307,\n",
              "            0.24307,     0.24307,     0.24116,     0.24116,     0.24116,     0.24032,     0.24032,     0.23354,     0.23354,     0.23354,     0.23354,     0.23354,     0.22435,     0.22435,     0.22435,     0.22435,     0.22435,     0.22435,     0.22339,     0.22339,     0.22114,     0.22114,     0.22114,\n",
              "            0.21728,     0.21728,     0.21728,      0.2103,      0.2103,     0.20861,     0.20861,     0.20861,     0.20306,     0.20306,     0.20163,     0.20163,     0.20163,     0.20127,     0.20127,     0.20127,     0.20127,     0.20127,     0.19852,     0.19852,     0.19852,     0.19105,     0.19105,\n",
              "            0.19105,      0.1877,      0.1877,     0.18684,     0.18684,     0.18684,     0.18569,     0.18569,     0.18569,     0.18342,     0.18342,     0.18243,     0.18243,     0.18243,     0.18053,     0.18053,     0.17105,     0.17105,     0.17105,     0.17105,     0.17105,     0.17105,     0.17022,\n",
              "            0.17022,     0.16893,     0.16893,     0.16893,     0.16537,     0.16537,     0.16537,     0.16432,     0.16432,     0.16278,     0.16278,     0.16278,     0.16236,     0.16236,     0.15787,     0.15787,     0.15787,     0.14681,     0.14681,     0.14681,     0.14132,     0.14132,      0.1395,\n",
              "             0.1395,      0.1395,     0.12054,     0.11665,     0.11276,     0.10887,     0.10498,      0.1011,    0.097208,     0.09332,    0.089432,    0.085543,    0.081655,    0.077767,    0.073878,     0.06999,    0.066102,    0.062213,    0.058325,    0.054437,    0.050548,     0.04666,    0.042772,\n",
              "           0.038883,    0.034995,    0.031107,    0.027218,     0.02333,    0.019442,    0.015553,    0.011665,   0.0077767,   0.0038883,           0]]), 'Recall', 'Precision'], [array([          0,    0.001001,    0.002002,    0.003003,    0.004004,    0.005005,    0.006006,    0.007007,    0.008008,    0.009009,     0.01001,    0.011011,    0.012012,    0.013013,    0.014014,    0.015015,    0.016016,    0.017017,    0.018018,    0.019019,     0.02002,    0.021021,    0.022022,    0.023023,\n",
              "          0.024024,    0.025025,    0.026026,    0.027027,    0.028028,    0.029029,     0.03003,    0.031031,    0.032032,    0.033033,    0.034034,    0.035035,    0.036036,    0.037037,    0.038038,    0.039039,     0.04004,    0.041041,    0.042042,    0.043043,    0.044044,    0.045045,    0.046046,    0.047047,\n",
              "          0.048048,    0.049049,     0.05005,    0.051051,    0.052052,    0.053053,    0.054054,    0.055055,    0.056056,    0.057057,    0.058058,    0.059059,     0.06006,    0.061061,    0.062062,    0.063063,    0.064064,    0.065065,    0.066066,    0.067067,    0.068068,    0.069069,     0.07007,    0.071071,\n",
              "          0.072072,    0.073073,    0.074074,    0.075075,    0.076076,    0.077077,    0.078078,    0.079079,     0.08008,    0.081081,    0.082082,    0.083083,    0.084084,    0.085085,    0.086086,    0.087087,    0.088088,    0.089089,     0.09009,    0.091091,    0.092092,    0.093093,    0.094094,    0.095095,\n",
              "          0.096096,    0.097097,    0.098098,    0.099099,      0.1001,      0.1011,      0.1021,      0.1031,      0.1041,     0.10511,     0.10611,     0.10711,     0.10811,     0.10911,     0.11011,     0.11111,     0.11211,     0.11311,     0.11411,     0.11512,     0.11612,     0.11712,     0.11812,     0.11912,\n",
              "           0.12012,     0.12112,     0.12212,     0.12312,     0.12412,     0.12513,     0.12613,     0.12713,     0.12813,     0.12913,     0.13013,     0.13113,     0.13213,     0.13313,     0.13413,     0.13514,     0.13614,     0.13714,     0.13814,     0.13914,     0.14014,     0.14114,     0.14214,     0.14314,\n",
              "           0.14414,     0.14515,     0.14615,     0.14715,     0.14815,     0.14915,     0.15015,     0.15115,     0.15215,     0.15315,     0.15415,     0.15516,     0.15616,     0.15716,     0.15816,     0.15916,     0.16016,     0.16116,     0.16216,     0.16316,     0.16416,     0.16517,     0.16617,     0.16717,\n",
              "           0.16817,     0.16917,     0.17017,     0.17117,     0.17217,     0.17317,     0.17417,     0.17518,     0.17618,     0.17718,     0.17818,     0.17918,     0.18018,     0.18118,     0.18218,     0.18318,     0.18418,     0.18519,     0.18619,     0.18719,     0.18819,     0.18919,     0.19019,     0.19119,\n",
              "           0.19219,     0.19319,     0.19419,      0.1952,      0.1962,      0.1972,      0.1982,      0.1992,      0.2002,      0.2012,      0.2022,      0.2032,      0.2042,     0.20521,     0.20621,     0.20721,     0.20821,     0.20921,     0.21021,     0.21121,     0.21221,     0.21321,     0.21421,     0.21522,\n",
              "           0.21622,     0.21722,     0.21822,     0.21922,     0.22022,     0.22122,     0.22222,     0.22322,     0.22422,     0.22523,     0.22623,     0.22723,     0.22823,     0.22923,     0.23023,     0.23123,     0.23223,     0.23323,     0.23423,     0.23524,     0.23624,     0.23724,     0.23824,     0.23924,\n",
              "           0.24024,     0.24124,     0.24224,     0.24324,     0.24424,     0.24525,     0.24625,     0.24725,     0.24825,     0.24925,     0.25025,     0.25125,     0.25225,     0.25325,     0.25425,     0.25526,     0.25626,     0.25726,     0.25826,     0.25926,     0.26026,     0.26126,     0.26226,     0.26326,\n",
              "           0.26426,     0.26527,     0.26627,     0.26727,     0.26827,     0.26927,     0.27027,     0.27127,     0.27227,     0.27327,     0.27427,     0.27528,     0.27628,     0.27728,     0.27828,     0.27928,     0.28028,     0.28128,     0.28228,     0.28328,     0.28428,     0.28529,     0.28629,     0.28729,\n",
              "           0.28829,     0.28929,     0.29029,     0.29129,     0.29229,     0.29329,     0.29429,      0.2953,      0.2963,      0.2973,      0.2983,      0.2993,      0.3003,      0.3013,      0.3023,      0.3033,      0.3043,     0.30531,     0.30631,     0.30731,     0.30831,     0.30931,     0.31031,     0.31131,\n",
              "           0.31231,     0.31331,     0.31431,     0.31532,     0.31632,     0.31732,     0.31832,     0.31932,     0.32032,     0.32132,     0.32232,     0.32332,     0.32432,     0.32533,     0.32633,     0.32733,     0.32833,     0.32933,     0.33033,     0.33133,     0.33233,     0.33333,     0.33433,     0.33534,\n",
              "           0.33634,     0.33734,     0.33834,     0.33934,     0.34034,     0.34134,     0.34234,     0.34334,     0.34434,     0.34535,     0.34635,     0.34735,     0.34835,     0.34935,     0.35035,     0.35135,     0.35235,     0.35335,     0.35435,     0.35536,     0.35636,     0.35736,     0.35836,     0.35936,\n",
              "           0.36036,     0.36136,     0.36236,     0.36336,     0.36436,     0.36537,     0.36637,     0.36737,     0.36837,     0.36937,     0.37037,     0.37137,     0.37237,     0.37337,     0.37437,     0.37538,     0.37638,     0.37738,     0.37838,     0.37938,     0.38038,     0.38138,     0.38238,     0.38338,\n",
              "           0.38438,     0.38539,     0.38639,     0.38739,     0.38839,     0.38939,     0.39039,     0.39139,     0.39239,     0.39339,     0.39439,      0.3954,      0.3964,      0.3974,      0.3984,      0.3994,      0.4004,      0.4014,      0.4024,      0.4034,      0.4044,     0.40541,     0.40641,     0.40741,\n",
              "           0.40841,     0.40941,     0.41041,     0.41141,     0.41241,     0.41341,     0.41441,     0.41542,     0.41642,     0.41742,     0.41842,     0.41942,     0.42042,     0.42142,     0.42242,     0.42342,     0.42442,     0.42543,     0.42643,     0.42743,     0.42843,     0.42943,     0.43043,     0.43143,\n",
              "           0.43243,     0.43343,     0.43443,     0.43544,     0.43644,     0.43744,     0.43844,     0.43944,     0.44044,     0.44144,     0.44244,     0.44344,     0.44444,     0.44545,     0.44645,     0.44745,     0.44845,     0.44945,     0.45045,     0.45145,     0.45245,     0.45345,     0.45445,     0.45546,\n",
              "           0.45646,     0.45746,     0.45846,     0.45946,     0.46046,     0.46146,     0.46246,     0.46346,     0.46446,     0.46547,     0.46647,     0.46747,     0.46847,     0.46947,     0.47047,     0.47147,     0.47247,     0.47347,     0.47447,     0.47548,     0.47648,     0.47748,     0.47848,     0.47948,\n",
              "           0.48048,     0.48148,     0.48248,     0.48348,     0.48448,     0.48549,     0.48649,     0.48749,     0.48849,     0.48949,     0.49049,     0.49149,     0.49249,     0.49349,     0.49449,      0.4955,      0.4965,      0.4975,      0.4985,      0.4995,      0.5005,      0.5015,      0.5025,      0.5035,\n",
              "            0.5045,     0.50551,     0.50651,     0.50751,     0.50851,     0.50951,     0.51051,     0.51151,     0.51251,     0.51351,     0.51451,     0.51552,     0.51652,     0.51752,     0.51852,     0.51952,     0.52052,     0.52152,     0.52252,     0.52352,     0.52452,     0.52553,     0.52653,     0.52753,\n",
              "           0.52853,     0.52953,     0.53053,     0.53153,     0.53253,     0.53353,     0.53453,     0.53554,     0.53654,     0.53754,     0.53854,     0.53954,     0.54054,     0.54154,     0.54254,     0.54354,     0.54454,     0.54555,     0.54655,     0.54755,     0.54855,     0.54955,     0.55055,     0.55155,\n",
              "           0.55255,     0.55355,     0.55455,     0.55556,     0.55656,     0.55756,     0.55856,     0.55956,     0.56056,     0.56156,     0.56256,     0.56356,     0.56456,     0.56557,     0.56657,     0.56757,     0.56857,     0.56957,     0.57057,     0.57157,     0.57257,     0.57357,     0.57457,     0.57558,\n",
              "           0.57658,     0.57758,     0.57858,     0.57958,     0.58058,     0.58158,     0.58258,     0.58358,     0.58458,     0.58559,     0.58659,     0.58759,     0.58859,     0.58959,     0.59059,     0.59159,     0.59259,     0.59359,     0.59459,      0.5956,      0.5966,      0.5976,      0.5986,      0.5996,\n",
              "            0.6006,      0.6016,      0.6026,      0.6036,      0.6046,     0.60561,     0.60661,     0.60761,     0.60861,     0.60961,     0.61061,     0.61161,     0.61261,     0.61361,     0.61461,     0.61562,     0.61662,     0.61762,     0.61862,     0.61962,     0.62062,     0.62162,     0.62262,     0.62362,\n",
              "           0.62462,     0.62563,     0.62663,     0.62763,     0.62863,     0.62963,     0.63063,     0.63163,     0.63263,     0.63363,     0.63463,     0.63564,     0.63664,     0.63764,     0.63864,     0.63964,     0.64064,     0.64164,     0.64264,     0.64364,     0.64464,     0.64565,     0.64665,     0.64765,\n",
              "           0.64865,     0.64965,     0.65065,     0.65165,     0.65265,     0.65365,     0.65465,     0.65566,     0.65666,     0.65766,     0.65866,     0.65966,     0.66066,     0.66166,     0.66266,     0.66366,     0.66466,     0.66567,     0.66667,     0.66767,     0.66867,     0.66967,     0.67067,     0.67167,\n",
              "           0.67267,     0.67367,     0.67467,     0.67568,     0.67668,     0.67768,     0.67868,     0.67968,     0.68068,     0.68168,     0.68268,     0.68368,     0.68468,     0.68569,     0.68669,     0.68769,     0.68869,     0.68969,     0.69069,     0.69169,     0.69269,     0.69369,     0.69469,      0.6957,\n",
              "            0.6967,      0.6977,      0.6987,      0.6997,      0.7007,      0.7017,      0.7027,      0.7037,      0.7047,     0.70571,     0.70671,     0.70771,     0.70871,     0.70971,     0.71071,     0.71171,     0.71271,     0.71371,     0.71471,     0.71572,     0.71672,     0.71772,     0.71872,     0.71972,\n",
              "           0.72072,     0.72172,     0.72272,     0.72372,     0.72472,     0.72573,     0.72673,     0.72773,     0.72873,     0.72973,     0.73073,     0.73173,     0.73273,     0.73373,     0.73473,     0.73574,     0.73674,     0.73774,     0.73874,     0.73974,     0.74074,     0.74174,     0.74274,     0.74374,\n",
              "           0.74474,     0.74575,     0.74675,     0.74775,     0.74875,     0.74975,     0.75075,     0.75175,     0.75275,     0.75375,     0.75475,     0.75576,     0.75676,     0.75776,     0.75876,     0.75976,     0.76076,     0.76176,     0.76276,     0.76376,     0.76476,     0.76577,     0.76677,     0.76777,\n",
              "           0.76877,     0.76977,     0.77077,     0.77177,     0.77277,     0.77377,     0.77477,     0.77578,     0.77678,     0.77778,     0.77878,     0.77978,     0.78078,     0.78178,     0.78278,     0.78378,     0.78478,     0.78579,     0.78679,     0.78779,     0.78879,     0.78979,     0.79079,     0.79179,\n",
              "           0.79279,     0.79379,     0.79479,      0.7958,      0.7968,      0.7978,      0.7988,      0.7998,      0.8008,      0.8018,      0.8028,      0.8038,      0.8048,     0.80581,     0.80681,     0.80781,     0.80881,     0.80981,     0.81081,     0.81181,     0.81281,     0.81381,     0.81481,     0.81582,\n",
              "           0.81682,     0.81782,     0.81882,     0.81982,     0.82082,     0.82182,     0.82282,     0.82382,     0.82482,     0.82583,     0.82683,     0.82783,     0.82883,     0.82983,     0.83083,     0.83183,     0.83283,     0.83383,     0.83483,     0.83584,     0.83684,     0.83784,     0.83884,     0.83984,\n",
              "           0.84084,     0.84184,     0.84284,     0.84384,     0.84484,     0.84585,     0.84685,     0.84785,     0.84885,     0.84985,     0.85085,     0.85185,     0.85285,     0.85385,     0.85485,     0.85586,     0.85686,     0.85786,     0.85886,     0.85986,     0.86086,     0.86186,     0.86286,     0.86386,\n",
              "           0.86486,     0.86587,     0.86687,     0.86787,     0.86887,     0.86987,     0.87087,     0.87187,     0.87287,     0.87387,     0.87487,     0.87588,     0.87688,     0.87788,     0.87888,     0.87988,     0.88088,     0.88188,     0.88288,     0.88388,     0.88488,     0.88589,     0.88689,     0.88789,\n",
              "           0.88889,     0.88989,     0.89089,     0.89189,     0.89289,     0.89389,     0.89489,      0.8959,      0.8969,      0.8979,      0.8989,      0.8999,      0.9009,      0.9019,      0.9029,      0.9039,      0.9049,     0.90591,     0.90691,     0.90791,     0.90891,     0.90991,     0.91091,     0.91191,\n",
              "           0.91291,     0.91391,     0.91491,     0.91592,     0.91692,     0.91792,     0.91892,     0.91992,     0.92092,     0.92192,     0.92292,     0.92392,     0.92492,     0.92593,     0.92693,     0.92793,     0.92893,     0.92993,     0.93093,     0.93193,     0.93293,     0.93393,     0.93493,     0.93594,\n",
              "           0.93694,     0.93794,     0.93894,     0.93994,     0.94094,     0.94194,     0.94294,     0.94394,     0.94494,     0.94595,     0.94695,     0.94795,     0.94895,     0.94995,     0.95095,     0.95195,     0.95295,     0.95395,     0.95495,     0.95596,     0.95696,     0.95796,     0.95896,     0.95996,\n",
              "           0.96096,     0.96196,     0.96296,     0.96396,     0.96496,     0.96597,     0.96697,     0.96797,     0.96897,     0.96997,     0.97097,     0.97197,     0.97297,     0.97397,     0.97497,     0.97598,     0.97698,     0.97798,     0.97898,     0.97998,     0.98098,     0.98198,     0.98298,     0.98398,\n",
              "           0.98498,     0.98599,     0.98699,     0.98799,     0.98899,     0.98999,     0.99099,     0.99199,     0.99299,     0.99399,     0.99499,       0.996,       0.997,       0.998,       0.999,           1]), array([[    0.21775,     0.21775,     0.21775,     0.21775,     0.21775,     0.21985,     0.22563,     0.23173,     0.23874,     0.24727,     0.25489,     0.26102,     0.26928,     0.27721,     0.28359,     0.28937,     0.29728,     0.30484,     0.31333,     0.32227,      0.3297,     0.33599,      0.3404,\n",
              "            0.34773,     0.35432,     0.35883,     0.36764,     0.37167,     0.37801,     0.38401,     0.38939,      0.3949,     0.39995,      0.4047,     0.41051,     0.41533,     0.42042,     0.42545,     0.43002,      0.4343,     0.44244,     0.44853,     0.45368,     0.45744,     0.46069,     0.46391,\n",
              "            0.46859,     0.47326,     0.47843,     0.48324,      0.4859,     0.48855,     0.49244,     0.49777,     0.50364,     0.50661,     0.51001,      0.5152,     0.51957,     0.52099,     0.52328,     0.52493,     0.52765,     0.53136,     0.53284,     0.53367,     0.53453,     0.53731,     0.53987,\n",
              "            0.54246,      0.5453,     0.54919,     0.55104,     0.55551,      0.5573,     0.56146,     0.56466,     0.56635,     0.56994,      0.5717,      0.5754,     0.57841,     0.57681,     0.57874,     0.57984,     0.58224,     0.58435,     0.58721,     0.58984,     0.59341,     0.59708,     0.60006,\n",
              "            0.60338,     0.60595,     0.61034,     0.61221,     0.61211,     0.61431,     0.61696,      0.6191,     0.62112,     0.62586,     0.62844,     0.62903,     0.62962,     0.63196,     0.63149,     0.63194,     0.63251,     0.63533,     0.63565,     0.63631,     0.64009,     0.64123,     0.64204,\n",
              "             0.6426,     0.64329,     0.64451,     0.64617,     0.64767,     0.64758,     0.64921,     0.65407,     0.65523,      0.6562,     0.65433,     0.65542,     0.65657,     0.65694,      0.6564,     0.65654,     0.65683,     0.65771,     0.65924,      0.6612,     0.66235,     0.66344,     0.66526,\n",
              "            0.66536,     0.66576,     0.66492,     0.66607,     0.66755,     0.66848,     0.67114,     0.67164,      0.6714,     0.67138,     0.67076,     0.67155,     0.67448,     0.67493,     0.67417,     0.67321,     0.67328,     0.67174,     0.67276,     0.67278,     0.67154,     0.67365,     0.67666,\n",
              "            0.67638,     0.67739,     0.67641,     0.67565,     0.67874,     0.68245,     0.68138,      0.6818,     0.67891,     0.67939,     0.67804,     0.67852,     0.68104,     0.68096,     0.68287,     0.68431,     0.68541,     0.68706,     0.68783,     0.68688,     0.68661,     0.68698,     0.68755,\n",
              "            0.68733,     0.68753,     0.68803,     0.68843,     0.68878,     0.68937,     0.69053,     0.69034,     0.68886,     0.68955,     0.68991,     0.69035,     0.69184,      0.6888,     0.68984,     0.69029,     0.69066,     0.69102,     0.69079,     0.68974,     0.69099,     0.69237,     0.69303,\n",
              "            0.69446,     0.69323,     0.69369,     0.69256,     0.69175,      0.6921,     0.69245,     0.69098,     0.69011,      0.6898,      0.6909,      0.6922,     0.69143,     0.69135,     0.69165,     0.69195,     0.69276,     0.69184,     0.69166,     0.69321,     0.69274,      0.6905,     0.68967,\n",
              "            0.68883,     0.68952,     0.69016,      0.6908,     0.69149,     0.69329,     0.69209,     0.69275,     0.69307,     0.69339,     0.69266,     0.69493,      0.6954,     0.69554,     0.69601,     0.69638,     0.69534,      0.6962,     0.69613,     0.69571,     0.69523,     0.69445,     0.69481,\n",
              "            0.69432,     0.69563,     0.69537,     0.69453,     0.69585,     0.69717,     0.69643,     0.69561,     0.69358,       0.693,     0.69243,     0.69185,     0.69262,     0.69397,     0.69463,     0.69505,     0.69545,     0.69441,     0.69433,     0.69502,     0.69549,      0.6933,     0.69187,\n",
              "            0.69087,     0.69199,     0.69324,      0.6913,      0.6907,     0.69011,     0.69062,     0.69118,     0.69008,     0.69049,     0.69173,     0.69232,     0.69207,     0.69077,     0.69085,     0.69044,     0.69003,     0.68962,     0.68921,     0.69135,     0.69214,     0.69255,     0.69297,\n",
              "            0.69511,     0.69553,     0.69595,     0.69617,     0.69635,     0.69652,      0.6967,     0.69687,     0.69705,     0.69577,     0.69428,     0.69445,     0.69463,     0.69481,     0.69498,     0.69516,     0.69579,     0.69573,     0.69485,     0.69531,     0.69598,     0.69679,     0.69572,\n",
              "            0.69611,      0.6965,     0.69692,     0.69735,     0.69877,     0.69908,     0.69939,     0.69969,     0.69909,     0.69848,     0.69786,     0.69845,     0.69845,     0.69788,      0.6973,     0.69647,     0.69454,     0.69292,     0.69357,     0.69283,      0.6921,     0.69042,     0.68967,\n",
              "            0.68867,     0.68714,     0.68743,     0.68771,       0.688,     0.68789,     0.68764,     0.68739,     0.68714,     0.68689,     0.68664,     0.68639,     0.68614,     0.68623,     0.68647,     0.68671,     0.68695,     0.68448,      0.6829,     0.68234,     0.68179,     0.68123,     0.67947,\n",
              "            0.68038,      0.6811,     0.67835,     0.68049,     0.68082,     0.67941,     0.67968,     0.68035,     0.68061,     0.68087,     0.68113,     0.68138,     0.68254,     0.68203,     0.68153,     0.68102,     0.68051,     0.67896,     0.67765,     0.67657,     0.67549,      0.6744,      0.6732,\n",
              "              0.673,     0.67082,      0.6689,     0.66527,     0.66326,     0.66282,     0.66238,     0.66193,     0.66149,     0.66063,     0.65936,     0.65383,     0.65271,     0.65064,     0.64837,     0.64697,      0.6457,     0.64456,     0.64359,     0.64319,     0.64279,     0.64239,       0.642,\n",
              "             0.6416,      0.6413,     0.64107,     0.64083,      0.6406,     0.64036,     0.64013,     0.63989,     0.63965,     0.63942,     0.63933,     0.64041,     0.64138,     0.64174,     0.64211,     0.64225,     0.64168,      0.6411,     0.64052,     0.63937,     0.63741,     0.63608,     0.63411,\n",
              "            0.63177,     0.62942,     0.62954,     0.63062,     0.63012,     0.62776,     0.62588,     0.62539,     0.62459,      0.6238,     0.62264,     0.62144,     0.61827,     0.61747,     0.61667,     0.61603,     0.61538,     0.61474,     0.61342,     0.61204,      0.6072,      0.6053,     0.60407,\n",
              "            0.60326,     0.60182,     0.60132,     0.60082,     0.60033,     0.59983,     0.59805,     0.59639,     0.59513,     0.59143,     0.59017,     0.58794,      0.5854,     0.58511,     0.58532,     0.58553,     0.58574,     0.58595,     0.58357,     0.58299,     0.58248,     0.58197,     0.58145,\n",
              "            0.58094,     0.58043,     0.57992,      0.5794,     0.57889,     0.57795,     0.57349,     0.57364,     0.57378,     0.57393,     0.57408,     0.57423,     0.57438,     0.57395,     0.57265,     0.57241,     0.57171,     0.56976,     0.56845,     0.56486,     0.56323,     0.56235,     0.56146,\n",
              "            0.55943,     0.55154,     0.54885,     0.54615,     0.54478,     0.54388,     0.54297,     0.54169,     0.54033,     0.53778,     0.53503,     0.53354,     0.53216,     0.53122,      0.5303,     0.52931,     0.52381,      0.5212,      0.5205,     0.51979,     0.51909,     0.51826,     0.51685,\n",
              "            0.51555,     0.51461,     0.51367,     0.51258,     0.51116,     0.50974,     0.50831,     0.50352,     0.49844,       0.497,     0.49639,     0.49671,     0.49703,     0.49686,     0.49628,     0.49569,     0.49511,     0.49453,     0.49171,     0.49203,     0.49234,      0.4917,     0.49072,\n",
              "            0.48974,     0.48996,     0.49043,     0.49133,     0.48968,     0.48524,     0.48425,     0.48325,     0.48126,     0.47827,     0.47527,     0.47225,     0.47014,     0.46862,     0.46446,     0.46344,     0.46242,     0.45859,     0.45782,     0.45705,     0.45628,     0.45689,      0.4527,\n",
              "            0.45115,     0.45055,     0.45007,     0.44959,     0.44911,     0.44863,     0.44815,     0.44231,     0.44178,      0.4402,     0.44016,     0.43945,     0.43786,     0.43515,     0.43311,     0.43151,     0.42866,     0.42672,      0.4251,     0.41894,      0.4177,     0.41677,     0.41583,\n",
              "            0.41175,     0.41093,      0.4101,     0.40928,     0.40708,     0.40377,     0.39818,     0.39651,     0.39374,     0.38923,     0.38787,      0.3867,     0.38613,     0.38556,     0.38499,     0.38443,     0.38386,     0.38313,     0.38216,     0.38118,      0.3802,     0.37684,     0.37343,\n",
              "            0.37266,     0.37189,     0.37112,     0.37035,     0.36789,     0.36629,     0.36571,     0.36512,     0.36454,     0.36396,     0.36338,     0.35929,     0.35753,     0.35231,     0.35053,      0.3489,     0.34747,     0.34604,     0.34426,     0.34251,     0.34308,     0.33965,     0.33885,\n",
              "            0.33804,     0.33724,     0.33643,     0.33372,     0.33007,      0.3217,     0.32087,     0.32005,     0.31923,     0.31841,      0.3175,     0.31657,     0.31564,     0.31471,     0.31364,     0.30836,     0.30679,     0.30301,     0.29747,     0.29556,     0.29342,      0.2899,     0.28835,\n",
              "            0.28681,     0.28363,     0.28176,     0.28064,     0.27953,     0.27828,     0.27671,     0.27515,     0.27432,     0.27361,      0.2729,     0.27218,     0.27147,     0.26979,     0.26727,     0.26744,     0.26762,     0.26779,     0.26537,     0.26346,     0.26267,     0.26187,     0.26107,\n",
              "            0.26027,     0.25854,     0.25654,     0.24792,     0.24676,      0.2456,     0.24444,     0.24059,     0.23907,     0.23771,     0.23629,     0.23223,     0.22948,      0.2283,     0.22737,     0.22645,     0.22552,     0.22043,     0.21903,     0.21763,     0.21604,     0.21393,     0.21302,\n",
              "            0.21319,     0.21335,     0.21183,     0.20971,     0.20363,     0.20147,     0.20084,     0.19867,     0.19611,      0.1934,     0.19352,     0.19364,     0.19376,     0.19242,     0.18659,     0.18458,      0.1836,     0.18262,     0.18163,     0.17569,     0.17271,     0.16677,     0.16549,\n",
              "            0.16419,     0.16281,      0.1613,     0.15978,     0.15417,     0.15334,     0.15251,     0.15167,     0.15084,     0.14969,     0.14662,     0.14064,     0.13992,     0.13921,     0.13849,     0.13778,     0.13706,     0.13502,      0.1266,     0.12425,     0.11434,     0.11285,     0.11205,\n",
              "            0.11125,     0.11045,     0.10966,     0.10892,     0.10906,     0.10881,      0.1056,     0.10408,     0.10348,     0.10287,     0.10227,     0.10166,     0.10106,     0.10045,    0.099843,    0.099807,    0.099872,    0.099935,    0.099997,    0.099386,    0.098736,    0.098086,    0.097435,\n",
              "           0.096784,    0.096132,     0.09548,    0.093698,    0.091244,    0.087113,    0.084774,    0.083537,    0.082297,    0.081057,    0.080278,    0.079615,    0.078952,    0.078288,    0.077624,    0.076959,    0.076294,     0.07072,    0.070002,    0.069284,    0.068566,    0.067847,    0.067127,\n",
              "           0.066407,    0.065558,     0.06464,    0.063721,    0.062801,     0.06188,    0.060494,    0.057954,    0.054548,    0.051176,    0.050884,    0.050591,    0.050298,    0.050005,    0.049712,    0.049418,    0.049125,    0.048832,    0.048538,    0.048245,    0.047951,    0.047658,    0.047364,\n",
              "            0.04707,    0.046776,    0.046482,    0.045777,    0.044059,    0.042337,    0.039988,    0.036528,    0.035829,    0.035444,    0.035058,    0.034673,    0.034287,      0.0339,    0.033514,    0.033128,    0.032741,    0.032354,    0.031968,    0.031581,    0.031193,    0.030242,    0.029078,\n",
              "           0.027913,    0.026747,     0.02582,    0.025362,    0.024905,    0.024447,     0.02399,    0.023532,    0.023073,    0.022615,    0.022156,    0.021697,    0.021238,    0.020793,    0.020452,    0.020111,     0.01977,    0.019429,    0.019087,    0.018746,    0.018404,    0.018062,     0.01772,\n",
              "           0.017378,    0.017036,    0.016694,    0.016352,    0.016009,    0.015667,    0.015136,    0.014605,    0.014073,    0.013541,    0.013008,    0.012476,    0.011943,     0.01141,    0.010876,    0.010391,    0.010057,   0.0097231,   0.0093892,   0.0090551,   0.0087209,   0.0083866,   0.0080522,\n",
              "          0.0077177,    0.007383,   0.0070483,   0.0067134,   0.0063784,   0.0060433,   0.0057081,   0.0053728,           0,           0,           0,           0,           0,           0,           0,           0,           0,           0,           0,           0,           0,           0,           0,\n",
              "                  0,           0,           0,           0,           0,           0,           0,           0,           0,           0,           0,           0,           0,           0,           0,           0,           0,           0,           0,           0,           0,           0,           0,\n",
              "                  0,           0,           0,           0,           0,           0,           0,           0,           0,           0,           0,           0,           0,           0,           0,           0,           0,           0,           0,           0,           0,           0,           0,\n",
              "                  0,           0,           0,           0,           0,           0,           0,           0,           0,           0,           0,           0,           0,           0,           0,           0,           0,           0,           0,           0,           0,           0,           0,\n",
              "                  0,           0,           0,           0,           0,           0,           0,           0,           0,           0,           0]]), 'Confidence', 'F1'], [array([          0,    0.001001,    0.002002,    0.003003,    0.004004,    0.005005,    0.006006,    0.007007,    0.008008,    0.009009,     0.01001,    0.011011,    0.012012,    0.013013,    0.014014,    0.015015,    0.016016,    0.017017,    0.018018,    0.019019,     0.02002,    0.021021,    0.022022,    0.023023,\n",
              "          0.024024,    0.025025,    0.026026,    0.027027,    0.028028,    0.029029,     0.03003,    0.031031,    0.032032,    0.033033,    0.034034,    0.035035,    0.036036,    0.037037,    0.038038,    0.039039,     0.04004,    0.041041,    0.042042,    0.043043,    0.044044,    0.045045,    0.046046,    0.047047,\n",
              "          0.048048,    0.049049,     0.05005,    0.051051,    0.052052,    0.053053,    0.054054,    0.055055,    0.056056,    0.057057,    0.058058,    0.059059,     0.06006,    0.061061,    0.062062,    0.063063,    0.064064,    0.065065,    0.066066,    0.067067,    0.068068,    0.069069,     0.07007,    0.071071,\n",
              "          0.072072,    0.073073,    0.074074,    0.075075,    0.076076,    0.077077,    0.078078,    0.079079,     0.08008,    0.081081,    0.082082,    0.083083,    0.084084,    0.085085,    0.086086,    0.087087,    0.088088,    0.089089,     0.09009,    0.091091,    0.092092,    0.093093,    0.094094,    0.095095,\n",
              "          0.096096,    0.097097,    0.098098,    0.099099,      0.1001,      0.1011,      0.1021,      0.1031,      0.1041,     0.10511,     0.10611,     0.10711,     0.10811,     0.10911,     0.11011,     0.11111,     0.11211,     0.11311,     0.11411,     0.11512,     0.11612,     0.11712,     0.11812,     0.11912,\n",
              "           0.12012,     0.12112,     0.12212,     0.12312,     0.12412,     0.12513,     0.12613,     0.12713,     0.12813,     0.12913,     0.13013,     0.13113,     0.13213,     0.13313,     0.13413,     0.13514,     0.13614,     0.13714,     0.13814,     0.13914,     0.14014,     0.14114,     0.14214,     0.14314,\n",
              "           0.14414,     0.14515,     0.14615,     0.14715,     0.14815,     0.14915,     0.15015,     0.15115,     0.15215,     0.15315,     0.15415,     0.15516,     0.15616,     0.15716,     0.15816,     0.15916,     0.16016,     0.16116,     0.16216,     0.16316,     0.16416,     0.16517,     0.16617,     0.16717,\n",
              "           0.16817,     0.16917,     0.17017,     0.17117,     0.17217,     0.17317,     0.17417,     0.17518,     0.17618,     0.17718,     0.17818,     0.17918,     0.18018,     0.18118,     0.18218,     0.18318,     0.18418,     0.18519,     0.18619,     0.18719,     0.18819,     0.18919,     0.19019,     0.19119,\n",
              "           0.19219,     0.19319,     0.19419,      0.1952,      0.1962,      0.1972,      0.1982,      0.1992,      0.2002,      0.2012,      0.2022,      0.2032,      0.2042,     0.20521,     0.20621,     0.20721,     0.20821,     0.20921,     0.21021,     0.21121,     0.21221,     0.21321,     0.21421,     0.21522,\n",
              "           0.21622,     0.21722,     0.21822,     0.21922,     0.22022,     0.22122,     0.22222,     0.22322,     0.22422,     0.22523,     0.22623,     0.22723,     0.22823,     0.22923,     0.23023,     0.23123,     0.23223,     0.23323,     0.23423,     0.23524,     0.23624,     0.23724,     0.23824,     0.23924,\n",
              "           0.24024,     0.24124,     0.24224,     0.24324,     0.24424,     0.24525,     0.24625,     0.24725,     0.24825,     0.24925,     0.25025,     0.25125,     0.25225,     0.25325,     0.25425,     0.25526,     0.25626,     0.25726,     0.25826,     0.25926,     0.26026,     0.26126,     0.26226,     0.26326,\n",
              "           0.26426,     0.26527,     0.26627,     0.26727,     0.26827,     0.26927,     0.27027,     0.27127,     0.27227,     0.27327,     0.27427,     0.27528,     0.27628,     0.27728,     0.27828,     0.27928,     0.28028,     0.28128,     0.28228,     0.28328,     0.28428,     0.28529,     0.28629,     0.28729,\n",
              "           0.28829,     0.28929,     0.29029,     0.29129,     0.29229,     0.29329,     0.29429,      0.2953,      0.2963,      0.2973,      0.2983,      0.2993,      0.3003,      0.3013,      0.3023,      0.3033,      0.3043,     0.30531,     0.30631,     0.30731,     0.30831,     0.30931,     0.31031,     0.31131,\n",
              "           0.31231,     0.31331,     0.31431,     0.31532,     0.31632,     0.31732,     0.31832,     0.31932,     0.32032,     0.32132,     0.32232,     0.32332,     0.32432,     0.32533,     0.32633,     0.32733,     0.32833,     0.32933,     0.33033,     0.33133,     0.33233,     0.33333,     0.33433,     0.33534,\n",
              "           0.33634,     0.33734,     0.33834,     0.33934,     0.34034,     0.34134,     0.34234,     0.34334,     0.34434,     0.34535,     0.34635,     0.34735,     0.34835,     0.34935,     0.35035,     0.35135,     0.35235,     0.35335,     0.35435,     0.35536,     0.35636,     0.35736,     0.35836,     0.35936,\n",
              "           0.36036,     0.36136,     0.36236,     0.36336,     0.36436,     0.36537,     0.36637,     0.36737,     0.36837,     0.36937,     0.37037,     0.37137,     0.37237,     0.37337,     0.37437,     0.37538,     0.37638,     0.37738,     0.37838,     0.37938,     0.38038,     0.38138,     0.38238,     0.38338,\n",
              "           0.38438,     0.38539,     0.38639,     0.38739,     0.38839,     0.38939,     0.39039,     0.39139,     0.39239,     0.39339,     0.39439,      0.3954,      0.3964,      0.3974,      0.3984,      0.3994,      0.4004,      0.4014,      0.4024,      0.4034,      0.4044,     0.40541,     0.40641,     0.40741,\n",
              "           0.40841,     0.40941,     0.41041,     0.41141,     0.41241,     0.41341,     0.41441,     0.41542,     0.41642,     0.41742,     0.41842,     0.41942,     0.42042,     0.42142,     0.42242,     0.42342,     0.42442,     0.42543,     0.42643,     0.42743,     0.42843,     0.42943,     0.43043,     0.43143,\n",
              "           0.43243,     0.43343,     0.43443,     0.43544,     0.43644,     0.43744,     0.43844,     0.43944,     0.44044,     0.44144,     0.44244,     0.44344,     0.44444,     0.44545,     0.44645,     0.44745,     0.44845,     0.44945,     0.45045,     0.45145,     0.45245,     0.45345,     0.45445,     0.45546,\n",
              "           0.45646,     0.45746,     0.45846,     0.45946,     0.46046,     0.46146,     0.46246,     0.46346,     0.46446,     0.46547,     0.46647,     0.46747,     0.46847,     0.46947,     0.47047,     0.47147,     0.47247,     0.47347,     0.47447,     0.47548,     0.47648,     0.47748,     0.47848,     0.47948,\n",
              "           0.48048,     0.48148,     0.48248,     0.48348,     0.48448,     0.48549,     0.48649,     0.48749,     0.48849,     0.48949,     0.49049,     0.49149,     0.49249,     0.49349,     0.49449,      0.4955,      0.4965,      0.4975,      0.4985,      0.4995,      0.5005,      0.5015,      0.5025,      0.5035,\n",
              "            0.5045,     0.50551,     0.50651,     0.50751,     0.50851,     0.50951,     0.51051,     0.51151,     0.51251,     0.51351,     0.51451,     0.51552,     0.51652,     0.51752,     0.51852,     0.51952,     0.52052,     0.52152,     0.52252,     0.52352,     0.52452,     0.52553,     0.52653,     0.52753,\n",
              "           0.52853,     0.52953,     0.53053,     0.53153,     0.53253,     0.53353,     0.53453,     0.53554,     0.53654,     0.53754,     0.53854,     0.53954,     0.54054,     0.54154,     0.54254,     0.54354,     0.54454,     0.54555,     0.54655,     0.54755,     0.54855,     0.54955,     0.55055,     0.55155,\n",
              "           0.55255,     0.55355,     0.55455,     0.55556,     0.55656,     0.55756,     0.55856,     0.55956,     0.56056,     0.56156,     0.56256,     0.56356,     0.56456,     0.56557,     0.56657,     0.56757,     0.56857,     0.56957,     0.57057,     0.57157,     0.57257,     0.57357,     0.57457,     0.57558,\n",
              "           0.57658,     0.57758,     0.57858,     0.57958,     0.58058,     0.58158,     0.58258,     0.58358,     0.58458,     0.58559,     0.58659,     0.58759,     0.58859,     0.58959,     0.59059,     0.59159,     0.59259,     0.59359,     0.59459,      0.5956,      0.5966,      0.5976,      0.5986,      0.5996,\n",
              "            0.6006,      0.6016,      0.6026,      0.6036,      0.6046,     0.60561,     0.60661,     0.60761,     0.60861,     0.60961,     0.61061,     0.61161,     0.61261,     0.61361,     0.61461,     0.61562,     0.61662,     0.61762,     0.61862,     0.61962,     0.62062,     0.62162,     0.62262,     0.62362,\n",
              "           0.62462,     0.62563,     0.62663,     0.62763,     0.62863,     0.62963,     0.63063,     0.63163,     0.63263,     0.63363,     0.63463,     0.63564,     0.63664,     0.63764,     0.63864,     0.63964,     0.64064,     0.64164,     0.64264,     0.64364,     0.64464,     0.64565,     0.64665,     0.64765,\n",
              "           0.64865,     0.64965,     0.65065,     0.65165,     0.65265,     0.65365,     0.65465,     0.65566,     0.65666,     0.65766,     0.65866,     0.65966,     0.66066,     0.66166,     0.66266,     0.66366,     0.66466,     0.66567,     0.66667,     0.66767,     0.66867,     0.66967,     0.67067,     0.67167,\n",
              "           0.67267,     0.67367,     0.67467,     0.67568,     0.67668,     0.67768,     0.67868,     0.67968,     0.68068,     0.68168,     0.68268,     0.68368,     0.68468,     0.68569,     0.68669,     0.68769,     0.68869,     0.68969,     0.69069,     0.69169,     0.69269,     0.69369,     0.69469,      0.6957,\n",
              "            0.6967,      0.6977,      0.6987,      0.6997,      0.7007,      0.7017,      0.7027,      0.7037,      0.7047,     0.70571,     0.70671,     0.70771,     0.70871,     0.70971,     0.71071,     0.71171,     0.71271,     0.71371,     0.71471,     0.71572,     0.71672,     0.71772,     0.71872,     0.71972,\n",
              "           0.72072,     0.72172,     0.72272,     0.72372,     0.72472,     0.72573,     0.72673,     0.72773,     0.72873,     0.72973,     0.73073,     0.73173,     0.73273,     0.73373,     0.73473,     0.73574,     0.73674,     0.73774,     0.73874,     0.73974,     0.74074,     0.74174,     0.74274,     0.74374,\n",
              "           0.74474,     0.74575,     0.74675,     0.74775,     0.74875,     0.74975,     0.75075,     0.75175,     0.75275,     0.75375,     0.75475,     0.75576,     0.75676,     0.75776,     0.75876,     0.75976,     0.76076,     0.76176,     0.76276,     0.76376,     0.76476,     0.76577,     0.76677,     0.76777,\n",
              "           0.76877,     0.76977,     0.77077,     0.77177,     0.77277,     0.77377,     0.77477,     0.77578,     0.77678,     0.77778,     0.77878,     0.77978,     0.78078,     0.78178,     0.78278,     0.78378,     0.78478,     0.78579,     0.78679,     0.78779,     0.78879,     0.78979,     0.79079,     0.79179,\n",
              "           0.79279,     0.79379,     0.79479,      0.7958,      0.7968,      0.7978,      0.7988,      0.7998,      0.8008,      0.8018,      0.8028,      0.8038,      0.8048,     0.80581,     0.80681,     0.80781,     0.80881,     0.80981,     0.81081,     0.81181,     0.81281,     0.81381,     0.81481,     0.81582,\n",
              "           0.81682,     0.81782,     0.81882,     0.81982,     0.82082,     0.82182,     0.82282,     0.82382,     0.82482,     0.82583,     0.82683,     0.82783,     0.82883,     0.82983,     0.83083,     0.83183,     0.83283,     0.83383,     0.83483,     0.83584,     0.83684,     0.83784,     0.83884,     0.83984,\n",
              "           0.84084,     0.84184,     0.84284,     0.84384,     0.84484,     0.84585,     0.84685,     0.84785,     0.84885,     0.84985,     0.85085,     0.85185,     0.85285,     0.85385,     0.85485,     0.85586,     0.85686,     0.85786,     0.85886,     0.85986,     0.86086,     0.86186,     0.86286,     0.86386,\n",
              "           0.86486,     0.86587,     0.86687,     0.86787,     0.86887,     0.86987,     0.87087,     0.87187,     0.87287,     0.87387,     0.87487,     0.87588,     0.87688,     0.87788,     0.87888,     0.87988,     0.88088,     0.88188,     0.88288,     0.88388,     0.88488,     0.88589,     0.88689,     0.88789,\n",
              "           0.88889,     0.88989,     0.89089,     0.89189,     0.89289,     0.89389,     0.89489,      0.8959,      0.8969,      0.8979,      0.8989,      0.8999,      0.9009,      0.9019,      0.9029,      0.9039,      0.9049,     0.90591,     0.90691,     0.90791,     0.90891,     0.90991,     0.91091,     0.91191,\n",
              "           0.91291,     0.91391,     0.91491,     0.91592,     0.91692,     0.91792,     0.91892,     0.91992,     0.92092,     0.92192,     0.92292,     0.92392,     0.92492,     0.92593,     0.92693,     0.92793,     0.92893,     0.92993,     0.93093,     0.93193,     0.93293,     0.93393,     0.93493,     0.93594,\n",
              "           0.93694,     0.93794,     0.93894,     0.93994,     0.94094,     0.94194,     0.94294,     0.94394,     0.94494,     0.94595,     0.94695,     0.94795,     0.94895,     0.94995,     0.95095,     0.95195,     0.95295,     0.95395,     0.95495,     0.95596,     0.95696,     0.95796,     0.95896,     0.95996,\n",
              "           0.96096,     0.96196,     0.96296,     0.96396,     0.96496,     0.96597,     0.96697,     0.96797,     0.96897,     0.96997,     0.97097,     0.97197,     0.97297,     0.97397,     0.97497,     0.97598,     0.97698,     0.97798,     0.97898,     0.97998,     0.98098,     0.98198,     0.98298,     0.98398,\n",
              "           0.98498,     0.98599,     0.98699,     0.98799,     0.98899,     0.98999,     0.99099,     0.99199,     0.99299,     0.99399,     0.99499,       0.996,       0.997,       0.998,       0.999,           1]), array([[    0.12267,     0.12267,     0.12267,     0.12267,     0.12267,       0.124,     0.12769,     0.13161,     0.13615,     0.14184,     0.14694,     0.15103,     0.15659,     0.16205,     0.16675,     0.17111,     0.17667,     0.18219,     0.18877,     0.19542,     0.20104,     0.20627,     0.20975,\n",
              "            0.21549,     0.22073,     0.22492,     0.23188,     0.23547,     0.24098,     0.24608,     0.25052,     0.25511,     0.25957,     0.26387,     0.26904,     0.27345,     0.27816,     0.28258,     0.28663,     0.29075,     0.29808,     0.30364,     0.30838,     0.31222,     0.31561,     0.31864,\n",
              "            0.32308,     0.32753,      0.3325,     0.33716,     0.34018,     0.34321,     0.34706,     0.35239,      0.3583,     0.36131,     0.36478,     0.37062,     0.37516,     0.37716,     0.38011,      0.3824,      0.3853,     0.38926,     0.39143,     0.39292,     0.39435,     0.39747,     0.40028,\n",
              "            0.40376,     0.40756,     0.41192,       0.414,     0.41907,     0.42112,     0.42658,     0.43029,     0.43225,     0.43645,     0.43853,     0.44365,     0.44725,     0.44769,     0.45004,     0.45137,     0.45428,     0.45687,     0.46037,     0.46361,     0.46803,     0.47262,     0.47636,\n",
              "            0.48056,     0.48383,     0.48945,     0.49186,     0.49318,     0.49656,     0.50003,     0.50285,     0.50552,     0.51183,     0.51529,     0.51608,     0.51687,     0.52127,     0.52162,     0.52336,     0.52414,     0.52803,     0.52847,     0.52938,     0.53464,     0.53622,     0.53736,\n",
              "            0.53814,     0.53911,     0.54084,     0.54318,     0.54529,     0.54641,     0.54873,     0.55571,     0.55738,     0.55879,     0.55869,     0.56028,     0.56196,     0.56272,     0.56305,     0.56382,     0.56505,     0.56635,     0.56862,     0.57155,     0.57327,      0.5749,     0.57764,\n",
              "            0.57905,     0.57983,     0.58002,     0.58177,     0.58403,     0.58545,     0.58954,     0.59032,     0.59051,     0.59144,     0.59201,     0.59324,     0.59782,     0.59854,     0.59909,     0.59857,      0.5991,     0.59859,     0.60161,     0.60329,     0.60285,     0.60626,     0.61115,\n",
              "            0.61241,     0.61441,     0.61388,     0.61471,     0.61984,     0.62628,     0.62611,     0.62681,     0.62752,     0.62834,     0.62793,     0.62875,     0.63309,     0.63491,     0.63824,     0.64076,     0.64269,     0.64561,     0.64722,     0.64674,     0.64685,      0.6475,     0.64851,\n",
              "            0.64914,     0.65057,     0.65146,     0.65218,     0.65281,     0.65387,     0.65596,      0.6596,     0.65943,     0.66069,     0.66134,     0.66216,     0.66501,     0.66377,     0.66571,     0.66655,     0.66724,     0.66791,     0.66809,     0.66757,     0.67015,     0.67277,     0.67401,\n",
              "             0.6773,     0.67676,     0.67763,     0.67788,     0.67875,     0.67942,     0.68009,     0.68077,     0.68036,     0.68239,     0.68456,     0.68711,     0.68766,     0.68801,     0.68859,     0.68918,     0.69079,     0.69059,     0.69121,     0.69431,     0.69521,     0.69702,     0.69663,\n",
              "            0.69624,     0.69764,     0.69897,     0.70028,      0.7017,     0.70565,      0.7051,     0.70713,     0.70779,     0.70846,     0.70839,     0.71459,     0.71582,     0.71887,     0.71986,     0.72065,     0.72144,     0.72331,     0.72417,     0.72532,     0.72542,     0.72508,     0.72647,\n",
              "            0.72855,     0.73144,     0.73223,     0.73222,     0.73516,     0.73811,      0.7379,     0.73755,     0.73668,     0.73643,     0.73619,     0.73594,     0.73784,      0.7409,     0.74241,     0.74337,     0.74428,     0.74423,     0.74515,     0.74817,     0.75133,     0.75122,     0.75063,\n",
              "            0.75126,     0.75392,     0.75687,      0.7562,     0.75595,     0.75571,     0.75804,     0.76011,     0.75966,     0.76153,     0.76455,     0.76598,     0.76655,     0.76603,     0.77023,     0.77006,      0.7699,     0.76974,     0.76958,     0.77548,     0.77747,     0.77851,     0.77956,\n",
              "            0.78501,     0.78608,     0.78715,     0.78773,     0.78818,     0.78863,     0.78907,     0.78952,     0.78997,      0.7918,     0.79135,     0.79181,     0.79226,     0.79272,     0.79318,     0.79363,     0.79529,     0.79641,     0.79609,     0.79841,     0.80017,     0.80232,     0.80399,\n",
              "            0.80502,     0.80606,     0.80719,     0.80834,     0.81218,     0.81301,     0.81384,     0.81467,     0.81448,     0.81428,     0.81407,     0.81595,     0.81679,      0.8166,     0.81641,     0.81613,     0.81549,     0.81496,     0.81774,     0.81749,     0.81725,      0.8193,     0.81905,\n",
              "            0.81872,     0.81851,     0.81932,     0.82014,     0.82096,     0.82111,     0.82103,     0.82094,     0.82086,     0.82078,      0.8207,     0.82062,     0.82054,     0.82099,     0.82168,     0.82236,     0.82305,     0.82268,     0.82216,     0.82198,      0.8218,     0.82162,     0.82223,\n",
              "            0.82492,     0.82704,     0.82972,     0.83616,     0.83833,     0.83791,     0.84509,     0.84716,     0.84797,     0.84877,     0.84958,     0.85038,        0.86,     0.85986,     0.85973,     0.85959,     0.85946,     0.85904,     0.85868,     0.85839,      0.8581,      0.8578,     0.85747,\n",
              "            0.86064,     0.86005,     0.85981,     0.86184,      0.8613,     0.86118,     0.86106,     0.86094,     0.86082,     0.86059,     0.86024,     0.85873,     0.85842,     0.85784,     0.85721,     0.85682,     0.85646,     0.85614,     0.85587,     0.85576,     0.85564,     0.85553,     0.85542,\n",
              "            0.85531,     0.85522,     0.85515,     0.85509,     0.85502,     0.85495,     0.85489,     0.85482,     0.85475,     0.85469,     0.85504,     0.85892,     0.86243,     0.86374,     0.86506,     0.86604,     0.86588,     0.86573,     0.86557,     0.86527,     0.86474,     0.86438,     0.86385,\n",
              "            0.86321,     0.86257,     0.86531,     0.86941,     0.87396,     0.87335,      0.8761,     0.87661,     0.87641,     0.87621,     0.87591,     0.87561,      0.8748,      0.8746,     0.87439,     0.87422,     0.87406,     0.87389,     0.87355,      0.8772,     0.87597,     0.87548,     0.87516,\n",
              "            0.87909,     0.87872,      0.8786,     0.87847,     0.87834,     0.87822,     0.87776,     0.87734,     0.87701,     0.87605,     0.87572,     0.87514,     0.87447,     0.87512,     0.87606,       0.877,     0.87795,     0.87889,     0.87833,     0.87818,     0.87805,     0.87791,     0.87778,\n",
              "            0.87765,     0.87751,     0.87738,     0.87725,     0.87711,     0.87687,     0.87584,     0.87653,     0.87723,     0.87793,     0.87862,     0.87932,     0.88002,      0.8803,     0.87997,     0.88202,      0.8843,     0.88381,     0.88348,     0.88728,     0.88688,     0.88666,     0.88644,\n",
              "            0.88593,     0.88393,     0.88324,     0.88253,     0.88218,     0.88194,      0.8817,     0.88136,       0.881,     0.88032,     0.87958,     0.87918,      0.8788,     0.87854,     0.87829,     0.87802,     0.87649,     0.87576,     0.87556,     0.87536,     0.87516,     0.87493,     0.87452,\n",
              "            0.87415,     0.87388,     0.87361,     0.87329,     0.87288,     0.87246,     0.87204,     0.87062,     0.86909,     0.86865,     0.86936,     0.87132,     0.87329,     0.87408,     0.87391,     0.87373,     0.87356,     0.87339,     0.87384,     0.87585,     0.87786,     0.87817,     0.87789,\n",
              "             0.8776,     0.88007,     0.88315,     0.88898,     0.88919,       0.888,     0.88773,     0.88746,     0.88691,     0.88609,     0.88525,      0.8844,      0.8838,     0.88336,     0.88216,     0.88186,     0.88156,     0.88043,      0.8802,     0.87997,     0.87974,     0.88529,     0.88512,\n",
              "            0.88466,     0.88449,     0.88435,     0.88421,     0.88407,     0.88393,     0.88378,     0.88584,     0.88863,     0.88817,     0.89258,     0.89488,     0.89444,     0.89369,     0.89312,     0.89267,     0.89185,      0.8913,     0.89083,     0.88902,     0.88865,     0.88836,     0.88808,\n",
              "            0.88684,     0.88659,     0.88633,     0.88608,     0.88539,     0.88435,     0.88256,     0.88201,      0.8811,     0.88756,     0.88712,     0.88675,     0.88657,     0.88638,      0.8862,     0.88601,     0.88583,     0.88559,     0.88527,     0.88495,     0.88463,     0.88351,     0.88235,\n",
              "            0.88208,     0.88182,     0.88155,     0.88129,     0.88043,     0.87987,     0.87966,     0.87945,     0.87924,     0.87904,     0.87883,     0.87735,      0.8767,     0.87476,     0.87408,     0.87346,     0.87291,     0.87236,     0.87166,     0.87112,     0.88038,      0.8791,      0.8788,\n",
              "            0.87849,     0.87818,     0.87788,     0.87683,      0.8754,     0.87201,     0.87167,     0.87133,     0.87098,     0.87064,     0.87025,     0.86986,     0.86946,     0.86907,     0.87883,     0.88193,     0.88676,     0.88528,     0.88307,     0.88228,     0.88139,     0.87991,     0.87924,\n",
              "            0.87858,     0.87718,     0.87635,     0.87585,     0.87535,     0.87478,     0.87406,     0.87333,     0.87295,     0.87261,     0.87227,     0.87193,      0.8716,     0.87079,     0.86972,     0.87346,     0.87721,     0.88095,     0.88123,     0.88036,     0.87998,     0.87961,     0.87924,\n",
              "            0.87887,     0.87805,     0.87709,     0.87282,     0.87222,     0.87162,     0.87102,     0.86897,     0.86815,      0.8674,     0.86663,     0.86434,     0.86274,      0.8769,      0.8764,     0.87591,     0.87541,     0.87258,     0.87177,     0.87097,     0.87004,     0.86879,     0.88645,\n",
              "            0.89238,     0.89831,     0.90119,     0.91535,     0.91583,     0.91492,     0.93443,     0.93368,     0.93278,     0.93219,     0.93774,     0.94329,     0.94885,     0.95312,     0.95158,     0.95102,     0.95075,     0.95047,     0.95019,     0.94843,     0.94751,     0.94557,     0.94513,\n",
              "            0.94469,     0.94421,     0.94367,     0.94313,     0.94101,     0.94068,     0.94034,     0.94001,     0.93968,     0.93921,     0.93792,     0.93525,     0.93492,     0.93458,     0.93424,      0.9339,     0.93356,     0.93254,     0.92808,     0.92673,      0.9205,     0.91948,     0.91891,\n",
              "            0.91834,     0.91777,      0.9172,     0.91804,     0.93847,     0.95636,     0.95501,     0.95436,     0.95409,     0.95381,     0.95353,     0.95326,     0.95298,      0.9527,     0.95242,     0.96273,     0.97493,     0.98714,     0.99934,           1,           1,           1,           1,\n",
              "                  1,           1,           1,           1,           1,           1,           1,           1,           1,           1,           1,           1,           1,           1,           1,           1,           1,           1,           1,           1,           1,           1,           1,\n",
              "                  1,           1,           1,           1,           1,           1,           1,           1,           1,           1,           1,           1,           1,           1,           1,           1,           1,           1,           1,           1,           1,           1,           1,\n",
              "                  1,           1,           1,           1,           1,           1,           1,           1,           1,           1,           1,           1,           1,           1,           1,           1,           1,           1,           1,           1,           1,           1,           1,\n",
              "                  1,           1,           1,           1,           1,           1,           1,           1,           1,           1,           1,           1,           1,           1,           1,           1,           1,           1,           1,           1,           1,           1,           1,\n",
              "                  1,           1,           1,           1,           1,           1,           1,           1,           1,           1,           1,           1,           1,           1,           1,           1,           1,           1,           1,           1,           1,           1,           1,\n",
              "                  1,           1,           1,           1,           1,           1,           1,           1,           1,           1,           1,           1,           1,           1,           1,           1,           1,           1,           1,           1,           1,           1,           1,\n",
              "                  1,           1,           1,           1,           1,           1,           1,           1,           1,           1,           1,           1,           1,           1,           1,           1,           1,           1,           1,           1,           1,           1,           1,\n",
              "                  1,           1,           1,           1,           1,           1,           1,           1,           1,           1,           1,           1,           1,           1,           1,           1,           1,           1,           1,           1,           1,           1,           1,\n",
              "                  1,           1,           1,           1,           1,           1,           1,           1,           1,           1,           1,           1,           1,           1,           1,           1,           1,           1,           1,           1,           1,           1,           1,\n",
              "                  1,           1,           1,           1,           1,           1,           1,           1,           1,           1,           1]]), 'Confidence', 'Precision'], [array([          0,    0.001001,    0.002002,    0.003003,    0.004004,    0.005005,    0.006006,    0.007007,    0.008008,    0.009009,     0.01001,    0.011011,    0.012012,    0.013013,    0.014014,    0.015015,    0.016016,    0.017017,    0.018018,    0.019019,     0.02002,    0.021021,    0.022022,    0.023023,\n",
              "          0.024024,    0.025025,    0.026026,    0.027027,    0.028028,    0.029029,     0.03003,    0.031031,    0.032032,    0.033033,    0.034034,    0.035035,    0.036036,    0.037037,    0.038038,    0.039039,     0.04004,    0.041041,    0.042042,    0.043043,    0.044044,    0.045045,    0.046046,    0.047047,\n",
              "          0.048048,    0.049049,     0.05005,    0.051051,    0.052052,    0.053053,    0.054054,    0.055055,    0.056056,    0.057057,    0.058058,    0.059059,     0.06006,    0.061061,    0.062062,    0.063063,    0.064064,    0.065065,    0.066066,    0.067067,    0.068068,    0.069069,     0.07007,    0.071071,\n",
              "          0.072072,    0.073073,    0.074074,    0.075075,    0.076076,    0.077077,    0.078078,    0.079079,     0.08008,    0.081081,    0.082082,    0.083083,    0.084084,    0.085085,    0.086086,    0.087087,    0.088088,    0.089089,     0.09009,    0.091091,    0.092092,    0.093093,    0.094094,    0.095095,\n",
              "          0.096096,    0.097097,    0.098098,    0.099099,      0.1001,      0.1011,      0.1021,      0.1031,      0.1041,     0.10511,     0.10611,     0.10711,     0.10811,     0.10911,     0.11011,     0.11111,     0.11211,     0.11311,     0.11411,     0.11512,     0.11612,     0.11712,     0.11812,     0.11912,\n",
              "           0.12012,     0.12112,     0.12212,     0.12312,     0.12412,     0.12513,     0.12613,     0.12713,     0.12813,     0.12913,     0.13013,     0.13113,     0.13213,     0.13313,     0.13413,     0.13514,     0.13614,     0.13714,     0.13814,     0.13914,     0.14014,     0.14114,     0.14214,     0.14314,\n",
              "           0.14414,     0.14515,     0.14615,     0.14715,     0.14815,     0.14915,     0.15015,     0.15115,     0.15215,     0.15315,     0.15415,     0.15516,     0.15616,     0.15716,     0.15816,     0.15916,     0.16016,     0.16116,     0.16216,     0.16316,     0.16416,     0.16517,     0.16617,     0.16717,\n",
              "           0.16817,     0.16917,     0.17017,     0.17117,     0.17217,     0.17317,     0.17417,     0.17518,     0.17618,     0.17718,     0.17818,     0.17918,     0.18018,     0.18118,     0.18218,     0.18318,     0.18418,     0.18519,     0.18619,     0.18719,     0.18819,     0.18919,     0.19019,     0.19119,\n",
              "           0.19219,     0.19319,     0.19419,      0.1952,      0.1962,      0.1972,      0.1982,      0.1992,      0.2002,      0.2012,      0.2022,      0.2032,      0.2042,     0.20521,     0.20621,     0.20721,     0.20821,     0.20921,     0.21021,     0.21121,     0.21221,     0.21321,     0.21421,     0.21522,\n",
              "           0.21622,     0.21722,     0.21822,     0.21922,     0.22022,     0.22122,     0.22222,     0.22322,     0.22422,     0.22523,     0.22623,     0.22723,     0.22823,     0.22923,     0.23023,     0.23123,     0.23223,     0.23323,     0.23423,     0.23524,     0.23624,     0.23724,     0.23824,     0.23924,\n",
              "           0.24024,     0.24124,     0.24224,     0.24324,     0.24424,     0.24525,     0.24625,     0.24725,     0.24825,     0.24925,     0.25025,     0.25125,     0.25225,     0.25325,     0.25425,     0.25526,     0.25626,     0.25726,     0.25826,     0.25926,     0.26026,     0.26126,     0.26226,     0.26326,\n",
              "           0.26426,     0.26527,     0.26627,     0.26727,     0.26827,     0.26927,     0.27027,     0.27127,     0.27227,     0.27327,     0.27427,     0.27528,     0.27628,     0.27728,     0.27828,     0.27928,     0.28028,     0.28128,     0.28228,     0.28328,     0.28428,     0.28529,     0.28629,     0.28729,\n",
              "           0.28829,     0.28929,     0.29029,     0.29129,     0.29229,     0.29329,     0.29429,      0.2953,      0.2963,      0.2973,      0.2983,      0.2993,      0.3003,      0.3013,      0.3023,      0.3033,      0.3043,     0.30531,     0.30631,     0.30731,     0.30831,     0.30931,     0.31031,     0.31131,\n",
              "           0.31231,     0.31331,     0.31431,     0.31532,     0.31632,     0.31732,     0.31832,     0.31932,     0.32032,     0.32132,     0.32232,     0.32332,     0.32432,     0.32533,     0.32633,     0.32733,     0.32833,     0.32933,     0.33033,     0.33133,     0.33233,     0.33333,     0.33433,     0.33534,\n",
              "           0.33634,     0.33734,     0.33834,     0.33934,     0.34034,     0.34134,     0.34234,     0.34334,     0.34434,     0.34535,     0.34635,     0.34735,     0.34835,     0.34935,     0.35035,     0.35135,     0.35235,     0.35335,     0.35435,     0.35536,     0.35636,     0.35736,     0.35836,     0.35936,\n",
              "           0.36036,     0.36136,     0.36236,     0.36336,     0.36436,     0.36537,     0.36637,     0.36737,     0.36837,     0.36937,     0.37037,     0.37137,     0.37237,     0.37337,     0.37437,     0.37538,     0.37638,     0.37738,     0.37838,     0.37938,     0.38038,     0.38138,     0.38238,     0.38338,\n",
              "           0.38438,     0.38539,     0.38639,     0.38739,     0.38839,     0.38939,     0.39039,     0.39139,     0.39239,     0.39339,     0.39439,      0.3954,      0.3964,      0.3974,      0.3984,      0.3994,      0.4004,      0.4014,      0.4024,      0.4034,      0.4044,     0.40541,     0.40641,     0.40741,\n",
              "           0.40841,     0.40941,     0.41041,     0.41141,     0.41241,     0.41341,     0.41441,     0.41542,     0.41642,     0.41742,     0.41842,     0.41942,     0.42042,     0.42142,     0.42242,     0.42342,     0.42442,     0.42543,     0.42643,     0.42743,     0.42843,     0.42943,     0.43043,     0.43143,\n",
              "           0.43243,     0.43343,     0.43443,     0.43544,     0.43644,     0.43744,     0.43844,     0.43944,     0.44044,     0.44144,     0.44244,     0.44344,     0.44444,     0.44545,     0.44645,     0.44745,     0.44845,     0.44945,     0.45045,     0.45145,     0.45245,     0.45345,     0.45445,     0.45546,\n",
              "           0.45646,     0.45746,     0.45846,     0.45946,     0.46046,     0.46146,     0.46246,     0.46346,     0.46446,     0.46547,     0.46647,     0.46747,     0.46847,     0.46947,     0.47047,     0.47147,     0.47247,     0.47347,     0.47447,     0.47548,     0.47648,     0.47748,     0.47848,     0.47948,\n",
              "           0.48048,     0.48148,     0.48248,     0.48348,     0.48448,     0.48549,     0.48649,     0.48749,     0.48849,     0.48949,     0.49049,     0.49149,     0.49249,     0.49349,     0.49449,      0.4955,      0.4965,      0.4975,      0.4985,      0.4995,      0.5005,      0.5015,      0.5025,      0.5035,\n",
              "            0.5045,     0.50551,     0.50651,     0.50751,     0.50851,     0.50951,     0.51051,     0.51151,     0.51251,     0.51351,     0.51451,     0.51552,     0.51652,     0.51752,     0.51852,     0.51952,     0.52052,     0.52152,     0.52252,     0.52352,     0.52452,     0.52553,     0.52653,     0.52753,\n",
              "           0.52853,     0.52953,     0.53053,     0.53153,     0.53253,     0.53353,     0.53453,     0.53554,     0.53654,     0.53754,     0.53854,     0.53954,     0.54054,     0.54154,     0.54254,     0.54354,     0.54454,     0.54555,     0.54655,     0.54755,     0.54855,     0.54955,     0.55055,     0.55155,\n",
              "           0.55255,     0.55355,     0.55455,     0.55556,     0.55656,     0.55756,     0.55856,     0.55956,     0.56056,     0.56156,     0.56256,     0.56356,     0.56456,     0.56557,     0.56657,     0.56757,     0.56857,     0.56957,     0.57057,     0.57157,     0.57257,     0.57357,     0.57457,     0.57558,\n",
              "           0.57658,     0.57758,     0.57858,     0.57958,     0.58058,     0.58158,     0.58258,     0.58358,     0.58458,     0.58559,     0.58659,     0.58759,     0.58859,     0.58959,     0.59059,     0.59159,     0.59259,     0.59359,     0.59459,      0.5956,      0.5966,      0.5976,      0.5986,      0.5996,\n",
              "            0.6006,      0.6016,      0.6026,      0.6036,      0.6046,     0.60561,     0.60661,     0.60761,     0.60861,     0.60961,     0.61061,     0.61161,     0.61261,     0.61361,     0.61461,     0.61562,     0.61662,     0.61762,     0.61862,     0.61962,     0.62062,     0.62162,     0.62262,     0.62362,\n",
              "           0.62462,     0.62563,     0.62663,     0.62763,     0.62863,     0.62963,     0.63063,     0.63163,     0.63263,     0.63363,     0.63463,     0.63564,     0.63664,     0.63764,     0.63864,     0.63964,     0.64064,     0.64164,     0.64264,     0.64364,     0.64464,     0.64565,     0.64665,     0.64765,\n",
              "           0.64865,     0.64965,     0.65065,     0.65165,     0.65265,     0.65365,     0.65465,     0.65566,     0.65666,     0.65766,     0.65866,     0.65966,     0.66066,     0.66166,     0.66266,     0.66366,     0.66466,     0.66567,     0.66667,     0.66767,     0.66867,     0.66967,     0.67067,     0.67167,\n",
              "           0.67267,     0.67367,     0.67467,     0.67568,     0.67668,     0.67768,     0.67868,     0.67968,     0.68068,     0.68168,     0.68268,     0.68368,     0.68468,     0.68569,     0.68669,     0.68769,     0.68869,     0.68969,     0.69069,     0.69169,     0.69269,     0.69369,     0.69469,      0.6957,\n",
              "            0.6967,      0.6977,      0.6987,      0.6997,      0.7007,      0.7017,      0.7027,      0.7037,      0.7047,     0.70571,     0.70671,     0.70771,     0.70871,     0.70971,     0.71071,     0.71171,     0.71271,     0.71371,     0.71471,     0.71572,     0.71672,     0.71772,     0.71872,     0.71972,\n",
              "           0.72072,     0.72172,     0.72272,     0.72372,     0.72472,     0.72573,     0.72673,     0.72773,     0.72873,     0.72973,     0.73073,     0.73173,     0.73273,     0.73373,     0.73473,     0.73574,     0.73674,     0.73774,     0.73874,     0.73974,     0.74074,     0.74174,     0.74274,     0.74374,\n",
              "           0.74474,     0.74575,     0.74675,     0.74775,     0.74875,     0.74975,     0.75075,     0.75175,     0.75275,     0.75375,     0.75475,     0.75576,     0.75676,     0.75776,     0.75876,     0.75976,     0.76076,     0.76176,     0.76276,     0.76376,     0.76476,     0.76577,     0.76677,     0.76777,\n",
              "           0.76877,     0.76977,     0.77077,     0.77177,     0.77277,     0.77377,     0.77477,     0.77578,     0.77678,     0.77778,     0.77878,     0.77978,     0.78078,     0.78178,     0.78278,     0.78378,     0.78478,     0.78579,     0.78679,     0.78779,     0.78879,     0.78979,     0.79079,     0.79179,\n",
              "           0.79279,     0.79379,     0.79479,      0.7958,      0.7968,      0.7978,      0.7988,      0.7998,      0.8008,      0.8018,      0.8028,      0.8038,      0.8048,     0.80581,     0.80681,     0.80781,     0.80881,     0.80981,     0.81081,     0.81181,     0.81281,     0.81381,     0.81481,     0.81582,\n",
              "           0.81682,     0.81782,     0.81882,     0.81982,     0.82082,     0.82182,     0.82282,     0.82382,     0.82482,     0.82583,     0.82683,     0.82783,     0.82883,     0.82983,     0.83083,     0.83183,     0.83283,     0.83383,     0.83483,     0.83584,     0.83684,     0.83784,     0.83884,     0.83984,\n",
              "           0.84084,     0.84184,     0.84284,     0.84384,     0.84484,     0.84585,     0.84685,     0.84785,     0.84885,     0.84985,     0.85085,     0.85185,     0.85285,     0.85385,     0.85485,     0.85586,     0.85686,     0.85786,     0.85886,     0.85986,     0.86086,     0.86186,     0.86286,     0.86386,\n",
              "           0.86486,     0.86587,     0.86687,     0.86787,     0.86887,     0.86987,     0.87087,     0.87187,     0.87287,     0.87387,     0.87487,     0.87588,     0.87688,     0.87788,     0.87888,     0.87988,     0.88088,     0.88188,     0.88288,     0.88388,     0.88488,     0.88589,     0.88689,     0.88789,\n",
              "           0.88889,     0.88989,     0.89089,     0.89189,     0.89289,     0.89389,     0.89489,      0.8959,      0.8969,      0.8979,      0.8989,      0.8999,      0.9009,      0.9019,      0.9029,      0.9039,      0.9049,     0.90591,     0.90691,     0.90791,     0.90891,     0.90991,     0.91091,     0.91191,\n",
              "           0.91291,     0.91391,     0.91491,     0.91592,     0.91692,     0.91792,     0.91892,     0.91992,     0.92092,     0.92192,     0.92292,     0.92392,     0.92492,     0.92593,     0.92693,     0.92793,     0.92893,     0.92993,     0.93093,     0.93193,     0.93293,     0.93393,     0.93493,     0.93594,\n",
              "           0.93694,     0.93794,     0.93894,     0.93994,     0.94094,     0.94194,     0.94294,     0.94394,     0.94494,     0.94595,     0.94695,     0.94795,     0.94895,     0.94995,     0.95095,     0.95195,     0.95295,     0.95395,     0.95495,     0.95596,     0.95696,     0.95796,     0.95896,     0.95996,\n",
              "           0.96096,     0.96196,     0.96296,     0.96396,     0.96496,     0.96597,     0.96697,     0.96797,     0.96897,     0.96997,     0.97097,     0.97197,     0.97297,     0.97397,     0.97497,     0.97598,     0.97698,     0.97798,     0.97898,     0.97998,     0.98098,     0.98198,     0.98298,     0.98398,\n",
              "           0.98498,     0.98599,     0.98699,     0.98799,     0.98899,     0.98999,     0.99099,     0.99199,     0.99299,     0.99399,     0.99499,       0.996,       0.997,       0.998,       0.999,           1]), array([[    0.96842,     0.96842,     0.96842,     0.96842,     0.96842,     0.96842,     0.96842,     0.96842,     0.96842,     0.96316,     0.96053,     0.96053,     0.96053,     0.95789,     0.94737,     0.93684,     0.93684,     0.93275,     0.92105,     0.91842,     0.91579,     0.90526,     0.90263,\n",
              "                0.9,     0.89737,     0.88684,     0.88684,     0.88158,     0.87632,     0.87368,     0.87368,     0.87368,     0.87105,     0.86786,     0.86579,     0.86316,     0.86053,     0.86053,     0.86053,     0.85789,     0.85789,     0.85789,     0.85789,     0.85526,     0.85263,     0.85263,\n",
              "            0.85263,     0.85263,     0.85263,     0.85263,        0.85,     0.84737,     0.84737,     0.84737,     0.84737,     0.84737,     0.84737,     0.84474,     0.84474,     0.84211,     0.83947,     0.83684,     0.83684,     0.83684,     0.83421,     0.83158,     0.82932,     0.82895,     0.82895,\n",
              "            0.82632,     0.82368,     0.82368,     0.82368,     0.82368,     0.82368,     0.82105,     0.82105,     0.82105,     0.82105,     0.82105,     0.81842,     0.81842,     0.81059,     0.81053,     0.81053,     0.81053,     0.81053,     0.81053,     0.81053,     0.81053,     0.81053,     0.81053,\n",
              "            0.81053,     0.81053,     0.81053,     0.81053,     0.80663,     0.80526,     0.80526,     0.80526,     0.80526,     0.80526,     0.80526,     0.80526,     0.80526,     0.80233,         0.8,     0.79737,     0.79737,     0.79737,     0.79737,     0.79737,     0.79737,     0.79737,     0.79737,\n",
              "            0.79737,     0.79737,     0.79737,     0.79737,     0.79737,     0.79474,     0.79474,     0.79474,     0.79474,     0.79474,     0.78947,     0.78947,     0.78947,     0.78906,     0.78684,     0.78578,     0.78421,     0.78421,     0.78421,     0.78421,     0.78421,     0.78421,     0.78421,\n",
              "            0.78191,     0.78158,     0.77895,     0.77895,     0.77895,     0.77895,     0.77895,     0.77895,     0.77797,     0.77632,     0.77368,     0.77368,     0.77368,     0.77368,     0.77076,      0.7691,     0.76842,     0.76525,     0.76301,     0.76036,     0.75789,     0.75789,     0.75789,\n",
              "            0.75526,     0.75477,     0.75311,        0.75,        0.75,     0.74969,     0.74737,     0.74737,     0.73947,     0.73947,     0.73684,     0.73684,     0.73684,     0.73421,     0.73421,     0.73421,     0.73421,     0.73421,     0.73387,     0.73232,     0.73158,     0.73158,     0.73158,\n",
              "            0.73031,     0.72895,     0.72895,     0.72895,     0.72895,     0.72895,     0.72895,     0.72409,     0.72105,     0.72105,     0.72105,     0.72105,     0.72093,     0.71579,     0.71579,     0.71579,     0.71579,     0.71579,     0.71509,     0.71343,     0.71316,     0.71316,     0.71316,\n",
              "            0.71252,     0.71053,     0.71053,     0.70789,     0.70526,     0.70526,     0.70526,     0.70151,     0.70016,     0.69737,     0.69737,     0.69737,     0.69524,     0.69474,     0.69474,     0.69474,     0.69474,      0.6931,     0.69211,     0.69211,     0.69029,     0.68411,     0.68284,\n",
              "            0.68158,     0.68158,     0.68158,     0.68158,     0.68158,     0.68135,     0.67955,     0.67895,     0.67895,     0.67895,     0.67762,     0.67632,     0.67612,     0.67368,     0.67368,     0.67368,     0.67105,     0.67105,     0.67018,     0.66842,     0.66744,     0.66631,     0.66579,\n",
              "            0.66316,     0.66316,     0.66205,     0.66053,     0.66053,     0.66053,     0.65938,     0.65818,     0.65524,     0.65441,     0.65358,     0.65275,     0.65263,     0.65263,     0.65263,     0.65263,     0.65263,     0.65085,        0.65,     0.64892,     0.64737,     0.64367,     0.64164,\n",
              "            0.63947,     0.63947,     0.63947,     0.63665,     0.63582,     0.63499,     0.63421,     0.63371,     0.63217,     0.63158,     0.63158,     0.63158,     0.63078,     0.62898,     0.62631,     0.62574,     0.62518,     0.62461,     0.62404,     0.62368,     0.62368,     0.62368,     0.62368,\n",
              "            0.62368,     0.62368,     0.62368,     0.62368,     0.62368,     0.62368,     0.62368,     0.62368,     0.62368,     0.62051,     0.61842,     0.61842,     0.61842,     0.61842,     0.61842,     0.61842,     0.61842,     0.61765,     0.61645,     0.61579,     0.61579,     0.61579,     0.61316,\n",
              "            0.61316,     0.61316,     0.61316,     0.61316,     0.61316,     0.61316,     0.61316,     0.61316,     0.61234,     0.61151,     0.61068,     0.61053,     0.61007,      0.6093,     0.60853,     0.60741,     0.60482,     0.60267,     0.60214,     0.60116,     0.60018,     0.59657,     0.59559,\n",
              "            0.59427,     0.59211,     0.59211,     0.59211,     0.59211,     0.59186,     0.59154,     0.59121,     0.59088,     0.59056,     0.59023,      0.5899,     0.58957,     0.58947,     0.58947,     0.58947,     0.58947,     0.58603,     0.58398,     0.58326,     0.58254,     0.58182,     0.57895,\n",
              "            0.57895,     0.57895,     0.57368,     0.57368,     0.57314,     0.57134,     0.56842,     0.56842,     0.56842,     0.56842,     0.56842,     0.56842,     0.56578,     0.56515,     0.56451,     0.56388,     0.56324,      0.5613,     0.55966,     0.55831,     0.55696,     0.55561,     0.55412,\n",
              "            0.55254,     0.54984,     0.54737,     0.54172,     0.53927,     0.53873,     0.53819,     0.53765,     0.53711,     0.53608,     0.53453,     0.52788,     0.52653,     0.52405,     0.52135,     0.51968,     0.51818,     0.51683,     0.51568,     0.51521,     0.51474,     0.51427,     0.51381,\n",
              "            0.51334,     0.51299,     0.51271,     0.51243,     0.51216,     0.51188,      0.5116,     0.51133,     0.51105,     0.51077,     0.51053,     0.51053,     0.51053,     0.51053,     0.51053,     0.51037,      0.5097,     0.50902,     0.50835,     0.50701,     0.50472,     0.50318,     0.50089,\n",
              "            0.49819,      0.4955,     0.49474,     0.49474,     0.49267,     0.48997,     0.48684,     0.48609,     0.48519,     0.48429,     0.48298,     0.48163,     0.47808,     0.47718,     0.47629,     0.47557,     0.47485,     0.47413,     0.47267,     0.46997,     0.46464,     0.46255,      0.4612,\n",
              "            0.45918,     0.45761,     0.45707,     0.45653,     0.45599,     0.45545,     0.45352,     0.45173,     0.45038,      0.4464,     0.44505,     0.44267,     0.43997,     0.43947,     0.43947,     0.43947,     0.43947,     0.43947,     0.43694,     0.43632,     0.43578,     0.43524,      0.4347,\n",
              "            0.43416,     0.43363,     0.43309,     0.43255,     0.43201,     0.43102,     0.42632,     0.42632,     0.42632,     0.42632,     0.42632,     0.42632,     0.42632,     0.42577,     0.42442,     0.42368,      0.4224,     0.42038,     0.41903,     0.41431,     0.41264,     0.41174,     0.41084,\n",
              "            0.40878,     0.40082,     0.39812,     0.39543,     0.39407,     0.39317,     0.39227,       0.391,     0.38965,     0.38714,     0.38444,     0.38298,     0.38163,     0.38071,     0.37981,     0.37885,     0.37352,     0.37099,     0.37032,     0.36965,     0.36897,     0.36817,     0.36682,\n",
              "            0.36558,     0.36468,     0.36378,     0.36275,      0.3614,     0.36005,      0.3587,     0.35418,     0.34942,     0.34807,     0.34737,     0.34737,     0.34737,     0.34707,     0.34653,     0.34599,     0.34545,     0.34491,     0.34211,     0.34211,     0.34211,     0.34144,     0.34054,\n",
              "            0.33964,     0.33947,     0.33947,     0.33947,     0.33787,     0.33383,     0.33293,     0.33203,     0.33023,     0.32753,     0.32483,     0.32213,     0.32024,      0.3189,     0.31521,     0.31431,     0.31341,     0.31004,     0.30937,     0.30869,     0.30802,     0.30789,     0.30413,\n",
              "            0.30278,     0.30226,     0.30185,     0.30143,     0.30102,      0.3006,     0.30019,     0.29474,     0.29396,     0.29261,     0.29211,     0.29123,     0.28988,     0.28759,     0.28587,     0.28452,     0.28213,     0.28051,     0.27916,     0.27404,     0.27302,     0.27224,     0.27147,\n",
              "            0.26812,     0.26744,     0.26677,     0.26609,      0.2643,     0.26161,     0.25709,     0.25574,     0.25351,     0.24927,     0.24819,     0.24726,     0.24681,     0.24636,     0.24591,     0.24546,     0.24502,     0.24444,     0.24367,      0.2429,     0.24213,      0.2395,     0.23683,\n",
              "            0.23623,     0.23563,     0.23503,     0.23444,     0.23252,     0.23129,     0.23084,     0.23039,     0.22994,     0.22949,     0.22904,      0.2259,     0.22455,     0.22057,     0.21922,     0.21798,      0.2169,     0.21583,     0.21449,     0.21316,     0.21305,     0.21049,     0.20989,\n",
              "            0.20929,     0.20869,     0.20809,     0.20608,     0.20338,     0.19723,     0.19663,     0.19603,     0.19543,     0.19483,     0.19417,     0.19349,     0.19282,     0.19214,     0.19088,     0.18684,     0.18548,     0.18279,     0.17886,     0.17751,     0.17601,     0.17354,     0.17246,\n",
              "            0.17138,     0.16917,     0.16786,     0.16709,     0.16632,     0.16546,     0.16438,      0.1633,     0.16273,     0.16224,     0.16175,     0.16126,     0.16077,     0.15962,     0.15789,     0.15789,     0.15789,     0.15789,      0.1562,     0.15491,     0.15437,     0.15383,     0.15329,\n",
              "            0.15275,     0.15159,     0.15024,     0.14448,     0.14371,     0.14294,     0.14217,     0.13963,     0.13863,     0.13773,      0.1368,     0.13414,     0.13234,     0.13123,     0.13063,     0.13003,     0.12943,     0.12615,     0.12525,     0.12435,     0.12333,     0.12198,     0.12105,\n",
              "            0.12105,     0.12105,     0.12002,     0.11842,     0.11455,      0.1132,     0.11251,     0.11116,     0.10957,     0.10789,     0.10789,     0.10789,     0.10789,     0.10701,     0.10344,     0.10221,     0.10161,     0.10101,     0.10041,     0.09681,    0.095012,    0.091452,    0.090682,\n",
              "           0.089911,    0.089085,    0.088186,    0.087286,    0.083962,    0.083472,    0.082982,    0.082491,    0.082001,    0.081327,    0.079529,    0.076035,     0.07562,    0.075205,     0.07479,    0.074375,     0.07396,    0.072779,    0.067936,    0.066587,    0.060953,    0.060112,    0.059663,\n",
              "           0.059213,    0.058764,    0.058314,    0.057895,    0.057895,    0.057686,    0.055887,    0.055043,    0.054706,    0.054369,    0.054031,    0.053694,    0.053357,     0.05302,    0.052683,    0.052632,    0.052632,    0.052632,    0.052632,    0.052291,    0.051932,    0.051572,    0.051212,\n",
              "           0.050853,    0.050493,    0.050133,    0.049152,    0.047803,     0.04554,    0.044263,    0.043589,    0.042915,     0.04224,    0.041818,    0.041458,    0.041098,    0.040739,    0.040379,    0.040019,     0.03966,    0.036656,    0.036271,    0.035885,      0.0355,    0.035115,    0.034729,\n",
              "           0.034344,     0.03389,    0.033399,    0.032909,    0.032419,    0.031928,     0.03119,    0.029842,    0.028039,     0.02626,    0.026106,    0.025952,    0.025798,    0.025644,    0.025489,    0.025335,    0.025181,    0.025027,    0.024873,    0.024719,    0.024565,     0.02441,    0.024256,\n",
              "           0.024102,    0.023948,    0.023794,    0.023425,    0.022526,    0.021626,    0.020402,    0.018604,    0.018242,    0.018042,    0.017842,    0.017642,    0.017442,    0.017242,    0.017043,    0.016843,    0.016643,    0.016443,    0.016243,    0.016044,    0.015844,    0.015353,    0.014754,\n",
              "           0.014154,    0.013555,    0.013079,    0.012844,     0.01261,    0.012375,     0.01214,    0.011906,    0.011671,    0.011437,    0.011202,    0.010968,    0.010733,    0.010506,    0.010332,    0.010158,   0.0099836,   0.0098096,   0.0096355,   0.0094615,   0.0092875,   0.0091134,   0.0089394,\n",
              "          0.0087654,   0.0085914,   0.0084173,   0.0082433,   0.0080693,   0.0078952,   0.0076258,    0.007356,   0.0070863,   0.0068166,   0.0065468,   0.0062771,   0.0060073,   0.0057376,   0.0054678,   0.0052225,   0.0050539,   0.0048853,   0.0047167,   0.0045481,   0.0043795,    0.004211,   0.0040424,\n",
              "          0.0038738,   0.0037052,   0.0035366,    0.003368,   0.0031994,   0.0030308,   0.0028622,   0.0026936,           0,           0,           0,           0,           0,           0,           0,           0,           0,           0,           0,           0,           0,           0,           0,\n",
              "                  0,           0,           0,           0,           0,           0,           0,           0,           0,           0,           0,           0,           0,           0,           0,           0,           0,           0,           0,           0,           0,           0,           0,\n",
              "                  0,           0,           0,           0,           0,           0,           0,           0,           0,           0,           0,           0,           0,           0,           0,           0,           0,           0,           0,           0,           0,           0,           0,\n",
              "                  0,           0,           0,           0,           0,           0,           0,           0,           0,           0,           0,           0,           0,           0,           0,           0,           0,           0,           0,           0,           0,           0,           0,\n",
              "                  0,           0,           0,           0,           0,           0,           0,           0,           0,           0,           0]]), 'Confidence', 'Recall'], [array([          0,    0.001001,    0.002002,    0.003003,    0.004004,    0.005005,    0.006006,    0.007007,    0.008008,    0.009009,     0.01001,    0.011011,    0.012012,    0.013013,    0.014014,    0.015015,    0.016016,    0.017017,    0.018018,    0.019019,     0.02002,    0.021021,    0.022022,    0.023023,\n",
              "          0.024024,    0.025025,    0.026026,    0.027027,    0.028028,    0.029029,     0.03003,    0.031031,    0.032032,    0.033033,    0.034034,    0.035035,    0.036036,    0.037037,    0.038038,    0.039039,     0.04004,    0.041041,    0.042042,    0.043043,    0.044044,    0.045045,    0.046046,    0.047047,\n",
              "          0.048048,    0.049049,     0.05005,    0.051051,    0.052052,    0.053053,    0.054054,    0.055055,    0.056056,    0.057057,    0.058058,    0.059059,     0.06006,    0.061061,    0.062062,    0.063063,    0.064064,    0.065065,    0.066066,    0.067067,    0.068068,    0.069069,     0.07007,    0.071071,\n",
              "          0.072072,    0.073073,    0.074074,    0.075075,    0.076076,    0.077077,    0.078078,    0.079079,     0.08008,    0.081081,    0.082082,    0.083083,    0.084084,    0.085085,    0.086086,    0.087087,    0.088088,    0.089089,     0.09009,    0.091091,    0.092092,    0.093093,    0.094094,    0.095095,\n",
              "          0.096096,    0.097097,    0.098098,    0.099099,      0.1001,      0.1011,      0.1021,      0.1031,      0.1041,     0.10511,     0.10611,     0.10711,     0.10811,     0.10911,     0.11011,     0.11111,     0.11211,     0.11311,     0.11411,     0.11512,     0.11612,     0.11712,     0.11812,     0.11912,\n",
              "           0.12012,     0.12112,     0.12212,     0.12312,     0.12412,     0.12513,     0.12613,     0.12713,     0.12813,     0.12913,     0.13013,     0.13113,     0.13213,     0.13313,     0.13413,     0.13514,     0.13614,     0.13714,     0.13814,     0.13914,     0.14014,     0.14114,     0.14214,     0.14314,\n",
              "           0.14414,     0.14515,     0.14615,     0.14715,     0.14815,     0.14915,     0.15015,     0.15115,     0.15215,     0.15315,     0.15415,     0.15516,     0.15616,     0.15716,     0.15816,     0.15916,     0.16016,     0.16116,     0.16216,     0.16316,     0.16416,     0.16517,     0.16617,     0.16717,\n",
              "           0.16817,     0.16917,     0.17017,     0.17117,     0.17217,     0.17317,     0.17417,     0.17518,     0.17618,     0.17718,     0.17818,     0.17918,     0.18018,     0.18118,     0.18218,     0.18318,     0.18418,     0.18519,     0.18619,     0.18719,     0.18819,     0.18919,     0.19019,     0.19119,\n",
              "           0.19219,     0.19319,     0.19419,      0.1952,      0.1962,      0.1972,      0.1982,      0.1992,      0.2002,      0.2012,      0.2022,      0.2032,      0.2042,     0.20521,     0.20621,     0.20721,     0.20821,     0.20921,     0.21021,     0.21121,     0.21221,     0.21321,     0.21421,     0.21522,\n",
              "           0.21622,     0.21722,     0.21822,     0.21922,     0.22022,     0.22122,     0.22222,     0.22322,     0.22422,     0.22523,     0.22623,     0.22723,     0.22823,     0.22923,     0.23023,     0.23123,     0.23223,     0.23323,     0.23423,     0.23524,     0.23624,     0.23724,     0.23824,     0.23924,\n",
              "           0.24024,     0.24124,     0.24224,     0.24324,     0.24424,     0.24525,     0.24625,     0.24725,     0.24825,     0.24925,     0.25025,     0.25125,     0.25225,     0.25325,     0.25425,     0.25526,     0.25626,     0.25726,     0.25826,     0.25926,     0.26026,     0.26126,     0.26226,     0.26326,\n",
              "           0.26426,     0.26527,     0.26627,     0.26727,     0.26827,     0.26927,     0.27027,     0.27127,     0.27227,     0.27327,     0.27427,     0.27528,     0.27628,     0.27728,     0.27828,     0.27928,     0.28028,     0.28128,     0.28228,     0.28328,     0.28428,     0.28529,     0.28629,     0.28729,\n",
              "           0.28829,     0.28929,     0.29029,     0.29129,     0.29229,     0.29329,     0.29429,      0.2953,      0.2963,      0.2973,      0.2983,      0.2993,      0.3003,      0.3013,      0.3023,      0.3033,      0.3043,     0.30531,     0.30631,     0.30731,     0.30831,     0.30931,     0.31031,     0.31131,\n",
              "           0.31231,     0.31331,     0.31431,     0.31532,     0.31632,     0.31732,     0.31832,     0.31932,     0.32032,     0.32132,     0.32232,     0.32332,     0.32432,     0.32533,     0.32633,     0.32733,     0.32833,     0.32933,     0.33033,     0.33133,     0.33233,     0.33333,     0.33433,     0.33534,\n",
              "           0.33634,     0.33734,     0.33834,     0.33934,     0.34034,     0.34134,     0.34234,     0.34334,     0.34434,     0.34535,     0.34635,     0.34735,     0.34835,     0.34935,     0.35035,     0.35135,     0.35235,     0.35335,     0.35435,     0.35536,     0.35636,     0.35736,     0.35836,     0.35936,\n",
              "           0.36036,     0.36136,     0.36236,     0.36336,     0.36436,     0.36537,     0.36637,     0.36737,     0.36837,     0.36937,     0.37037,     0.37137,     0.37237,     0.37337,     0.37437,     0.37538,     0.37638,     0.37738,     0.37838,     0.37938,     0.38038,     0.38138,     0.38238,     0.38338,\n",
              "           0.38438,     0.38539,     0.38639,     0.38739,     0.38839,     0.38939,     0.39039,     0.39139,     0.39239,     0.39339,     0.39439,      0.3954,      0.3964,      0.3974,      0.3984,      0.3994,      0.4004,      0.4014,      0.4024,      0.4034,      0.4044,     0.40541,     0.40641,     0.40741,\n",
              "           0.40841,     0.40941,     0.41041,     0.41141,     0.41241,     0.41341,     0.41441,     0.41542,     0.41642,     0.41742,     0.41842,     0.41942,     0.42042,     0.42142,     0.42242,     0.42342,     0.42442,     0.42543,     0.42643,     0.42743,     0.42843,     0.42943,     0.43043,     0.43143,\n",
              "           0.43243,     0.43343,     0.43443,     0.43544,     0.43644,     0.43744,     0.43844,     0.43944,     0.44044,     0.44144,     0.44244,     0.44344,     0.44444,     0.44545,     0.44645,     0.44745,     0.44845,     0.44945,     0.45045,     0.45145,     0.45245,     0.45345,     0.45445,     0.45546,\n",
              "           0.45646,     0.45746,     0.45846,     0.45946,     0.46046,     0.46146,     0.46246,     0.46346,     0.46446,     0.46547,     0.46647,     0.46747,     0.46847,     0.46947,     0.47047,     0.47147,     0.47247,     0.47347,     0.47447,     0.47548,     0.47648,     0.47748,     0.47848,     0.47948,\n",
              "           0.48048,     0.48148,     0.48248,     0.48348,     0.48448,     0.48549,     0.48649,     0.48749,     0.48849,     0.48949,     0.49049,     0.49149,     0.49249,     0.49349,     0.49449,      0.4955,      0.4965,      0.4975,      0.4985,      0.4995,      0.5005,      0.5015,      0.5025,      0.5035,\n",
              "            0.5045,     0.50551,     0.50651,     0.50751,     0.50851,     0.50951,     0.51051,     0.51151,     0.51251,     0.51351,     0.51451,     0.51552,     0.51652,     0.51752,     0.51852,     0.51952,     0.52052,     0.52152,     0.52252,     0.52352,     0.52452,     0.52553,     0.52653,     0.52753,\n",
              "           0.52853,     0.52953,     0.53053,     0.53153,     0.53253,     0.53353,     0.53453,     0.53554,     0.53654,     0.53754,     0.53854,     0.53954,     0.54054,     0.54154,     0.54254,     0.54354,     0.54454,     0.54555,     0.54655,     0.54755,     0.54855,     0.54955,     0.55055,     0.55155,\n",
              "           0.55255,     0.55355,     0.55455,     0.55556,     0.55656,     0.55756,     0.55856,     0.55956,     0.56056,     0.56156,     0.56256,     0.56356,     0.56456,     0.56557,     0.56657,     0.56757,     0.56857,     0.56957,     0.57057,     0.57157,     0.57257,     0.57357,     0.57457,     0.57558,\n",
              "           0.57658,     0.57758,     0.57858,     0.57958,     0.58058,     0.58158,     0.58258,     0.58358,     0.58458,     0.58559,     0.58659,     0.58759,     0.58859,     0.58959,     0.59059,     0.59159,     0.59259,     0.59359,     0.59459,      0.5956,      0.5966,      0.5976,      0.5986,      0.5996,\n",
              "            0.6006,      0.6016,      0.6026,      0.6036,      0.6046,     0.60561,     0.60661,     0.60761,     0.60861,     0.60961,     0.61061,     0.61161,     0.61261,     0.61361,     0.61461,     0.61562,     0.61662,     0.61762,     0.61862,     0.61962,     0.62062,     0.62162,     0.62262,     0.62362,\n",
              "           0.62462,     0.62563,     0.62663,     0.62763,     0.62863,     0.62963,     0.63063,     0.63163,     0.63263,     0.63363,     0.63463,     0.63564,     0.63664,     0.63764,     0.63864,     0.63964,     0.64064,     0.64164,     0.64264,     0.64364,     0.64464,     0.64565,     0.64665,     0.64765,\n",
              "           0.64865,     0.64965,     0.65065,     0.65165,     0.65265,     0.65365,     0.65465,     0.65566,     0.65666,     0.65766,     0.65866,     0.65966,     0.66066,     0.66166,     0.66266,     0.66366,     0.66466,     0.66567,     0.66667,     0.66767,     0.66867,     0.66967,     0.67067,     0.67167,\n",
              "           0.67267,     0.67367,     0.67467,     0.67568,     0.67668,     0.67768,     0.67868,     0.67968,     0.68068,     0.68168,     0.68268,     0.68368,     0.68468,     0.68569,     0.68669,     0.68769,     0.68869,     0.68969,     0.69069,     0.69169,     0.69269,     0.69369,     0.69469,      0.6957,\n",
              "            0.6967,      0.6977,      0.6987,      0.6997,      0.7007,      0.7017,      0.7027,      0.7037,      0.7047,     0.70571,     0.70671,     0.70771,     0.70871,     0.70971,     0.71071,     0.71171,     0.71271,     0.71371,     0.71471,     0.71572,     0.71672,     0.71772,     0.71872,     0.71972,\n",
              "           0.72072,     0.72172,     0.72272,     0.72372,     0.72472,     0.72573,     0.72673,     0.72773,     0.72873,     0.72973,     0.73073,     0.73173,     0.73273,     0.73373,     0.73473,     0.73574,     0.73674,     0.73774,     0.73874,     0.73974,     0.74074,     0.74174,     0.74274,     0.74374,\n",
              "           0.74474,     0.74575,     0.74675,     0.74775,     0.74875,     0.74975,     0.75075,     0.75175,     0.75275,     0.75375,     0.75475,     0.75576,     0.75676,     0.75776,     0.75876,     0.75976,     0.76076,     0.76176,     0.76276,     0.76376,     0.76476,     0.76577,     0.76677,     0.76777,\n",
              "           0.76877,     0.76977,     0.77077,     0.77177,     0.77277,     0.77377,     0.77477,     0.77578,     0.77678,     0.77778,     0.77878,     0.77978,     0.78078,     0.78178,     0.78278,     0.78378,     0.78478,     0.78579,     0.78679,     0.78779,     0.78879,     0.78979,     0.79079,     0.79179,\n",
              "           0.79279,     0.79379,     0.79479,      0.7958,      0.7968,      0.7978,      0.7988,      0.7998,      0.8008,      0.8018,      0.8028,      0.8038,      0.8048,     0.80581,     0.80681,     0.80781,     0.80881,     0.80981,     0.81081,     0.81181,     0.81281,     0.81381,     0.81481,     0.81582,\n",
              "           0.81682,     0.81782,     0.81882,     0.81982,     0.82082,     0.82182,     0.82282,     0.82382,     0.82482,     0.82583,     0.82683,     0.82783,     0.82883,     0.82983,     0.83083,     0.83183,     0.83283,     0.83383,     0.83483,     0.83584,     0.83684,     0.83784,     0.83884,     0.83984,\n",
              "           0.84084,     0.84184,     0.84284,     0.84384,     0.84484,     0.84585,     0.84685,     0.84785,     0.84885,     0.84985,     0.85085,     0.85185,     0.85285,     0.85385,     0.85485,     0.85586,     0.85686,     0.85786,     0.85886,     0.85986,     0.86086,     0.86186,     0.86286,     0.86386,\n",
              "           0.86486,     0.86587,     0.86687,     0.86787,     0.86887,     0.86987,     0.87087,     0.87187,     0.87287,     0.87387,     0.87487,     0.87588,     0.87688,     0.87788,     0.87888,     0.87988,     0.88088,     0.88188,     0.88288,     0.88388,     0.88488,     0.88589,     0.88689,     0.88789,\n",
              "           0.88889,     0.88989,     0.89089,     0.89189,     0.89289,     0.89389,     0.89489,      0.8959,      0.8969,      0.8979,      0.8989,      0.8999,      0.9009,      0.9019,      0.9029,      0.9039,      0.9049,     0.90591,     0.90691,     0.90791,     0.90891,     0.90991,     0.91091,     0.91191,\n",
              "           0.91291,     0.91391,     0.91491,     0.91592,     0.91692,     0.91792,     0.91892,     0.91992,     0.92092,     0.92192,     0.92292,     0.92392,     0.92492,     0.92593,     0.92693,     0.92793,     0.92893,     0.92993,     0.93093,     0.93193,     0.93293,     0.93393,     0.93493,     0.93594,\n",
              "           0.93694,     0.93794,     0.93894,     0.93994,     0.94094,     0.94194,     0.94294,     0.94394,     0.94494,     0.94595,     0.94695,     0.94795,     0.94895,     0.94995,     0.95095,     0.95195,     0.95295,     0.95395,     0.95495,     0.95596,     0.95696,     0.95796,     0.95896,     0.95996,\n",
              "           0.96096,     0.96196,     0.96296,     0.96396,     0.96496,     0.96597,     0.96697,     0.96797,     0.96897,     0.96997,     0.97097,     0.97197,     0.97297,     0.97397,     0.97497,     0.97598,     0.97698,     0.97798,     0.97898,     0.97998,     0.98098,     0.98198,     0.98298,     0.98398,\n",
              "           0.98498,     0.98599,     0.98699,     0.98799,     0.98899,     0.98999,     0.99099,     0.99199,     0.99299,     0.99399,     0.99499,       0.996,       0.997,       0.998,       0.999,           1]), array([[          1,           1,           1,           1,           1,           1,           1,           1,           1,           1,           1,           1,           1,           1,           1,           1,           1,           1,           1,           1,           1,           1,           1,\n",
              "                  1,           1,           1,           1,           1,           1,           1,           1,           1,           1,           1,           1,           1,           1,           1,           1,           1,           1,           1,           1,           1,           1,           1,\n",
              "                  1,           1,           1,           1,           1,           1,           1,     0.95652,     0.95652,     0.95652,     0.95652,     0.95652,     0.95349,     0.95349,     0.95349,     0.95349,     0.95349,     0.95349,     0.95349,     0.95349,     0.95349,     0.95349,     0.95349,\n",
              "            0.95349,     0.95349,     0.95349,     0.95349,     0.95349,     0.95349,     0.95349,     0.95349,     0.95349,     0.95349,     0.95349,     0.95349,     0.95349,     0.95349,     0.95349,     0.95349,     0.95349,     0.95349,     0.95349,     0.95349,     0.95349,     0.95349,     0.95349,\n",
              "            0.95349,     0.95349,     0.95349,     0.95349,     0.95349,     0.95349,     0.95349,     0.95349,     0.95349,     0.95349,     0.95349,     0.95349,     0.95349,     0.95349,     0.95349,     0.95349,     0.93478,     0.93478,     0.93478,     0.93478,     0.93478,     0.93478,     0.91837,\n",
              "            0.91837,     0.91837,     0.91837,     0.91837,     0.90196,     0.90196,     0.89516,     0.89516,     0.89516,     0.89516,     0.89516,     0.89516,     0.89516,     0.89516,     0.89516,     0.89516,     0.89516,     0.89516,     0.89516,     0.89516,     0.89516,     0.89516,     0.89516,\n",
              "            0.89516,     0.89516,     0.89516,     0.89516,     0.89516,     0.89516,     0.89516,     0.89516,     0.89516,     0.89516,     0.89516,     0.89516,     0.89516,     0.89516,     0.89516,     0.89516,     0.89516,     0.89516,     0.89516,     0.89516,     0.89516,     0.89516,     0.89516,\n",
              "            0.89516,     0.89516,     0.89516,     0.89516,     0.89516,     0.89516,     0.89516,     0.89516,     0.89516,     0.89516,     0.89516,     0.89516,     0.89516,     0.89516,     0.89516,     0.89516,     0.89516,     0.89516,     0.89516,     0.89516,     0.89516,     0.89516,     0.89516,\n",
              "            0.89516,     0.89516,     0.89516,     0.89516,     0.89516,     0.89516,     0.89516,     0.89516,     0.89516,     0.89516,     0.89516,     0.89516,     0.89516,     0.89516,     0.89516,     0.89516,     0.89516,     0.89516,     0.89516,     0.89516,     0.89516,     0.89516,     0.89516,\n",
              "            0.89516,     0.89516,     0.89516,     0.89516,     0.89516,     0.89516,     0.89516,     0.89516,     0.89516,     0.89516,     0.89516,     0.89516,     0.89516,     0.89516,     0.89516,     0.89516,     0.89516,     0.89516,     0.89516,     0.89516,     0.89516,     0.89516,     0.89516,\n",
              "            0.89516,     0.89516,     0.89516,     0.89516,     0.89516,     0.89516,     0.89516,     0.89516,     0.89516,     0.89516,     0.89516,     0.89516,     0.89516,     0.89516,     0.89516,     0.89516,     0.89516,     0.89516,     0.89516,     0.89516,     0.89516,     0.89516,     0.89516,\n",
              "            0.89516,     0.89516,     0.89516,     0.89516,     0.89516,     0.89516,     0.89516,     0.89516,     0.89516,     0.89516,     0.89516,     0.89516,     0.89516,     0.89516,     0.89516,     0.89516,     0.89516,     0.89516,     0.89516,     0.89516,     0.89516,     0.89516,     0.89516,\n",
              "            0.89516,     0.89516,     0.89516,     0.89516,     0.89516,     0.89516,     0.89516,     0.89516,     0.89516,     0.89516,     0.89516,     0.89516,     0.89516,     0.89516,     0.89516,     0.89516,     0.87786,     0.87786,     0.87786,     0.87786,     0.87786,     0.87786,     0.87786,\n",
              "            0.87786,     0.87786,     0.87786,     0.87786,     0.87586,     0.87586,     0.87586,     0.87586,     0.87586,     0.87586,     0.87586,     0.87586,     0.87586,     0.87586,     0.87586,     0.87586,     0.87586,     0.87586,     0.87586,     0.87586,     0.87586,     0.87586,     0.87586,\n",
              "            0.87586,     0.87586,     0.87586,     0.87586,     0.87586,     0.87586,     0.87586,     0.87586,     0.87586,     0.87586,     0.87586,     0.87586,     0.87162,     0.87162,     0.87162,     0.87162,     0.87162,     0.87162,     0.86592,     0.86592,     0.86592,     0.86592,     0.86592,\n",
              "            0.86592,     0.86592,     0.86592,     0.86592,     0.86592,     0.86592,     0.86592,     0.86592,     0.86592,     0.86592,     0.86592,     0.86592,     0.86592,     0.86592,     0.86592,     0.86592,     0.86592,     0.86592,     0.86592,     0.86592,     0.86592,     0.86592,     0.86592,\n",
              "            0.86592,     0.86592,     0.86592,     0.86592,     0.86592,     0.86592,     0.86592,     0.86592,     0.86592,     0.86592,     0.86592,     0.86592,     0.86592,     0.86592,     0.86592,     0.86592,     0.86592,     0.86592,     0.86592,     0.86592,     0.86592,     0.86592,     0.86592,\n",
              "            0.86592,     0.86592,     0.86592,     0.86592,     0.86592,     0.86592,     0.86592,     0.86592,     0.86592,     0.86592,     0.86592,     0.86592,     0.86592,     0.86592,     0.86592,     0.86592,     0.86592,     0.86432,     0.86432,     0.86432,     0.86432,     0.86432,     0.86432,\n",
              "            0.86432,     0.86432,     0.86432,     0.86432,     0.86432,     0.86432,     0.86432,     0.86432,     0.86432,     0.86432,     0.86432,     0.86432,     0.86432,     0.86432,     0.86432,     0.86432,     0.86432,     0.86432,     0.86432,     0.86432,     0.86432,     0.86432,     0.86432,\n",
              "            0.86432,     0.86432,     0.86432,     0.86432,     0.86432,     0.86432,     0.86432,     0.86432,     0.86432,     0.86432,     0.86432,     0.86432,     0.86432,     0.86432,     0.86432,     0.86432,     0.86275,     0.86275,     0.86275,     0.86275,     0.86275,     0.86275,     0.86275,\n",
              "            0.86275,     0.86275,     0.86275,     0.86256,     0.86256,     0.86256,     0.86256,     0.86256,     0.86256,     0.86256,     0.86256,     0.86256,     0.86256,     0.86256,     0.86256,     0.86256,     0.86256,     0.86256,     0.86256,     0.86047,     0.86047,     0.86047,     0.86047,\n",
              "            0.86047,     0.86047,     0.86047,     0.86047,     0.84821,     0.84821,     0.84821,     0.84821,     0.84821,     0.84821,     0.84821,     0.84821,     0.84821,     0.84821,     0.84821,     0.84821,     0.84821,     0.84647,     0.84647,     0.84647,     0.84647,     0.84647,     0.84647,\n",
              "            0.84647,     0.84647,     0.84647,     0.84647,     0.84647,     0.84647,     0.84647,     0.84647,     0.84647,     0.84647,     0.84647,     0.84647,     0.84647,     0.84647,     0.84647,     0.84647,     0.84647,     0.84647,     0.84647,     0.84647,     0.84647,     0.84647,     0.84647,\n",
              "            0.84647,     0.84647,     0.84647,     0.84647,     0.84647,     0.84647,     0.84647,     0.84647,     0.84362,     0.84362,        0.84,        0.84,        0.84,        0.84,        0.84,        0.84,        0.84,        0.84,        0.84,        0.84,        0.84,        0.84,        0.84,\n",
              "               0.84,      0.8373,      0.8373,     0.83465,     0.83465,     0.83465,     0.82558,     0.82558,     0.82308,     0.82308,     0.82308,     0.81273,     0.81273,     0.81273,     0.81273,     0.81273,     0.81273,     0.81273,     0.81273,      0.8125,      0.8125,      0.8125,      0.8125,\n",
              "             0.8125,      0.8125,      0.8125,      0.8125,      0.8125,      0.8125,     0.81022,     0.81022,     0.81022,     0.80866,     0.80866,     0.80866,     0.80866,     0.80866,     0.80714,     0.80714,     0.80714,     0.80714,     0.80714,     0.80714,     0.80634,     0.80634,     0.80634,\n",
              "            0.80634,     0.80634,     0.80634,     0.80634,     0.80634,     0.79038,     0.79038,     0.78305,     0.78305,     0.78305,     0.77852,     0.77852,     0.76645,     0.76645,     0.76645,     0.75728,     0.75728,     0.75728,     0.75563,     0.75563,     0.75399,     0.75399,     0.75399,\n",
              "            0.75078,     0.75078,     0.75078,     0.75078,     0.75078,     0.75078,     0.75078,     0.75078,     0.75078,     0.75078,     0.75078,     0.75078,     0.75078,     0.74618,     0.74618,     0.74618,     0.74618,     0.74618,     0.74618,     0.74618,     0.74618,     0.74242,     0.74242,\n",
              "            0.74242,     0.73874,     0.73874,     0.72941,     0.72941,     0.72941,     0.72941,     0.72941,     0.72384,     0.72384,     0.72384,     0.72046,     0.72046,     0.72046,     0.71714,     0.71714,     0.70986,     0.70986,     0.70986,     0.70474,     0.70474,     0.70474,      0.6978,\n",
              "             0.6978,     0.69755,     0.69755,     0.69755,     0.69755,     0.69755,     0.69755,     0.68901,     0.68901,     0.68883,     0.68883,     0.68883,     0.68883,     0.68883,     0.68063,     0.68063,     0.68063,     0.67792,     0.67792,     0.67792,     0.66751,     0.66751,     0.66751,\n",
              "            0.66751,     0.66751,     0.66334,     0.66334,     0.66334,     0.66334,     0.66334,     0.66334,     0.66334,     0.66334,     0.65602,     0.65602,     0.65207,     0.65207,     0.65207,      0.6285,      0.6285,      0.6285,     0.62731,     0.62731,     0.62731,     0.62731,     0.62731,\n",
              "            0.61678,     0.61678,     0.61678,     0.61074,     0.61074,     0.60976,     0.60976,     0.60976,     0.60976,     0.60976,     0.60659,     0.60659,     0.60659,     0.59448,     0.59448,     0.59448,     0.59448,     0.59448,     0.59448,     0.59448,     0.59448,     0.59448,     0.59448,\n",
              "            0.59448,     0.58664,     0.58664,     0.58163,     0.58163,     0.58163,     0.58163,     0.58163,     0.58163,     0.58163,     0.58163,     0.58163,     0.58163,     0.58163,      0.5743,      0.5743,     0.57285,     0.57285,     0.57285,     0.57256,     0.57256,     0.57256,     0.56445,\n",
              "            0.56445,      0.5642,      0.5642,      0.5642,     0.54906,     0.54906,     0.54906,     0.54784,     0.54784,      0.5436,      0.5436,      0.5436,     0.53261,     0.53261,     0.53249,     0.53249,     0.53249,     0.50859,     0.50859,     0.50859,     0.50853,     0.50853,     0.50853,\n",
              "            0.50853,     0.50853,     0.48071,     0.48071,     0.48071,     0.47923,     0.47923,      0.4741,      0.4741,      0.4741,      0.4741,      0.4741,     0.46544,     0.46544,     0.46544,     0.45921,     0.45921,     0.45921,     0.44284,     0.44284,     0.44284,     0.44284,     0.44284,\n",
              "            0.43423,     0.43423,     0.43423,     0.43319,     0.43319,     0.40026,     0.40026,     0.40026,      0.3949,      0.3949,      0.3849,      0.3849,      0.3849,     0.38282,     0.38282,     0.38282,     0.37337,     0.37337,     0.37337,     0.37337,     0.37337,     0.37059,     0.37059,\n",
              "            0.37059,     0.36406,     0.36406,     0.33439,     0.33439,     0.33439,     0.33438,     0.33438,     0.33438,     0.32255,     0.32255,     0.31098,     0.31098,     0.31098,     0.30784,     0.30784,     0.30784,     0.30784,     0.30784,     0.30443,     0.30443,     0.30443,     0.28622,\n",
              "            0.28622,     0.28509,     0.28509,     0.28509,     0.27698,     0.27698,     0.27698,     0.27665,     0.27665,     0.27063,     0.27063,     0.27063,     0.26426,     0.26426,       0.264,       0.264,       0.264,     0.26084,     0.26084,     0.26084,     0.25578,     0.25578,     0.24758,\n",
              "            0.24758,     0.24758,      0.2438,      0.2438,      0.2438,     0.24188,     0.24188,     0.23285,     0.23285,     0.23285,     0.22362,     0.22362,     0.22281,     0.22281,     0.22281,      0.2223,      0.2223,      0.2223,     0.21601,     0.21601,     0.20679,     0.20679,     0.20679,\n",
              "            0.20129,     0.20129,     0.20129,     0.19896,     0.19896,     0.19896,     0.19896,     0.19896,     0.19625,     0.19625,     0.18941,     0.18941,     0.18941,     0.18941,     0.18941,     0.18941,      0.1861,      0.1861,     0.18524,     0.18524,     0.18524,     0.18411,     0.18411,\n",
              "            0.18411,     0.18367,     0.18367,     0.18238,     0.18238,     0.18238,      0.1814,      0.1814,      0.1814,     0.17951,     0.17951,     0.17076,     0.17076,     0.17076,     0.17017,     0.17017,     0.16927,     0.16927,     0.16927,     0.16399,     0.16399,     0.16399,     0.16237,\n",
              "            0.16237,     0.16143,     0.16143,     0.16143,     0.16102,     0.16102,     0.16102,     0.15725,     0.15725,     0.15701,     0.15701,     0.15701,     0.14016,     0.14016,     0.13836,     0.13836,     0.13836,     0.12033,     0.11724,     0.11416,     0.11107,     0.10799,      0.1049,\n",
              "            0.10182,     0.09873,    0.095645,    0.092559,    0.089474,    0.086389,    0.083303,    0.080218,    0.077133,    0.074047,    0.070962,    0.067877,    0.064791,    0.061706,    0.058621,    0.055536,     0.05245,    0.049365,     0.04628,    0.043194,    0.040109,    0.037024,    0.033938,\n",
              "           0.030853,    0.027768,    0.024682,    0.021597,    0.018512,    0.015427,    0.012341,   0.0092559,   0.0061706,   0.0030853,           0]]), 'Recall', 'Precision'], [array([          0,    0.001001,    0.002002,    0.003003,    0.004004,    0.005005,    0.006006,    0.007007,    0.008008,    0.009009,     0.01001,    0.011011,    0.012012,    0.013013,    0.014014,    0.015015,    0.016016,    0.017017,    0.018018,    0.019019,     0.02002,    0.021021,    0.022022,    0.023023,\n",
              "          0.024024,    0.025025,    0.026026,    0.027027,    0.028028,    0.029029,     0.03003,    0.031031,    0.032032,    0.033033,    0.034034,    0.035035,    0.036036,    0.037037,    0.038038,    0.039039,     0.04004,    0.041041,    0.042042,    0.043043,    0.044044,    0.045045,    0.046046,    0.047047,\n",
              "          0.048048,    0.049049,     0.05005,    0.051051,    0.052052,    0.053053,    0.054054,    0.055055,    0.056056,    0.057057,    0.058058,    0.059059,     0.06006,    0.061061,    0.062062,    0.063063,    0.064064,    0.065065,    0.066066,    0.067067,    0.068068,    0.069069,     0.07007,    0.071071,\n",
              "          0.072072,    0.073073,    0.074074,    0.075075,    0.076076,    0.077077,    0.078078,    0.079079,     0.08008,    0.081081,    0.082082,    0.083083,    0.084084,    0.085085,    0.086086,    0.087087,    0.088088,    0.089089,     0.09009,    0.091091,    0.092092,    0.093093,    0.094094,    0.095095,\n",
              "          0.096096,    0.097097,    0.098098,    0.099099,      0.1001,      0.1011,      0.1021,      0.1031,      0.1041,     0.10511,     0.10611,     0.10711,     0.10811,     0.10911,     0.11011,     0.11111,     0.11211,     0.11311,     0.11411,     0.11512,     0.11612,     0.11712,     0.11812,     0.11912,\n",
              "           0.12012,     0.12112,     0.12212,     0.12312,     0.12412,     0.12513,     0.12613,     0.12713,     0.12813,     0.12913,     0.13013,     0.13113,     0.13213,     0.13313,     0.13413,     0.13514,     0.13614,     0.13714,     0.13814,     0.13914,     0.14014,     0.14114,     0.14214,     0.14314,\n",
              "           0.14414,     0.14515,     0.14615,     0.14715,     0.14815,     0.14915,     0.15015,     0.15115,     0.15215,     0.15315,     0.15415,     0.15516,     0.15616,     0.15716,     0.15816,     0.15916,     0.16016,     0.16116,     0.16216,     0.16316,     0.16416,     0.16517,     0.16617,     0.16717,\n",
              "           0.16817,     0.16917,     0.17017,     0.17117,     0.17217,     0.17317,     0.17417,     0.17518,     0.17618,     0.17718,     0.17818,     0.17918,     0.18018,     0.18118,     0.18218,     0.18318,     0.18418,     0.18519,     0.18619,     0.18719,     0.18819,     0.18919,     0.19019,     0.19119,\n",
              "           0.19219,     0.19319,     0.19419,      0.1952,      0.1962,      0.1972,      0.1982,      0.1992,      0.2002,      0.2012,      0.2022,      0.2032,      0.2042,     0.20521,     0.20621,     0.20721,     0.20821,     0.20921,     0.21021,     0.21121,     0.21221,     0.21321,     0.21421,     0.21522,\n",
              "           0.21622,     0.21722,     0.21822,     0.21922,     0.22022,     0.22122,     0.22222,     0.22322,     0.22422,     0.22523,     0.22623,     0.22723,     0.22823,     0.22923,     0.23023,     0.23123,     0.23223,     0.23323,     0.23423,     0.23524,     0.23624,     0.23724,     0.23824,     0.23924,\n",
              "           0.24024,     0.24124,     0.24224,     0.24324,     0.24424,     0.24525,     0.24625,     0.24725,     0.24825,     0.24925,     0.25025,     0.25125,     0.25225,     0.25325,     0.25425,     0.25526,     0.25626,     0.25726,     0.25826,     0.25926,     0.26026,     0.26126,     0.26226,     0.26326,\n",
              "           0.26426,     0.26527,     0.26627,     0.26727,     0.26827,     0.26927,     0.27027,     0.27127,     0.27227,     0.27327,     0.27427,     0.27528,     0.27628,     0.27728,     0.27828,     0.27928,     0.28028,     0.28128,     0.28228,     0.28328,     0.28428,     0.28529,     0.28629,     0.28729,\n",
              "           0.28829,     0.28929,     0.29029,     0.29129,     0.29229,     0.29329,     0.29429,      0.2953,      0.2963,      0.2973,      0.2983,      0.2993,      0.3003,      0.3013,      0.3023,      0.3033,      0.3043,     0.30531,     0.30631,     0.30731,     0.30831,     0.30931,     0.31031,     0.31131,\n",
              "           0.31231,     0.31331,     0.31431,     0.31532,     0.31632,     0.31732,     0.31832,     0.31932,     0.32032,     0.32132,     0.32232,     0.32332,     0.32432,     0.32533,     0.32633,     0.32733,     0.32833,     0.32933,     0.33033,     0.33133,     0.33233,     0.33333,     0.33433,     0.33534,\n",
              "           0.33634,     0.33734,     0.33834,     0.33934,     0.34034,     0.34134,     0.34234,     0.34334,     0.34434,     0.34535,     0.34635,     0.34735,     0.34835,     0.34935,     0.35035,     0.35135,     0.35235,     0.35335,     0.35435,     0.35536,     0.35636,     0.35736,     0.35836,     0.35936,\n",
              "           0.36036,     0.36136,     0.36236,     0.36336,     0.36436,     0.36537,     0.36637,     0.36737,     0.36837,     0.36937,     0.37037,     0.37137,     0.37237,     0.37337,     0.37437,     0.37538,     0.37638,     0.37738,     0.37838,     0.37938,     0.38038,     0.38138,     0.38238,     0.38338,\n",
              "           0.38438,     0.38539,     0.38639,     0.38739,     0.38839,     0.38939,     0.39039,     0.39139,     0.39239,     0.39339,     0.39439,      0.3954,      0.3964,      0.3974,      0.3984,      0.3994,      0.4004,      0.4014,      0.4024,      0.4034,      0.4044,     0.40541,     0.40641,     0.40741,\n",
              "           0.40841,     0.40941,     0.41041,     0.41141,     0.41241,     0.41341,     0.41441,     0.41542,     0.41642,     0.41742,     0.41842,     0.41942,     0.42042,     0.42142,     0.42242,     0.42342,     0.42442,     0.42543,     0.42643,     0.42743,     0.42843,     0.42943,     0.43043,     0.43143,\n",
              "           0.43243,     0.43343,     0.43443,     0.43544,     0.43644,     0.43744,     0.43844,     0.43944,     0.44044,     0.44144,     0.44244,     0.44344,     0.44444,     0.44545,     0.44645,     0.44745,     0.44845,     0.44945,     0.45045,     0.45145,     0.45245,     0.45345,     0.45445,     0.45546,\n",
              "           0.45646,     0.45746,     0.45846,     0.45946,     0.46046,     0.46146,     0.46246,     0.46346,     0.46446,     0.46547,     0.46647,     0.46747,     0.46847,     0.46947,     0.47047,     0.47147,     0.47247,     0.47347,     0.47447,     0.47548,     0.47648,     0.47748,     0.47848,     0.47948,\n",
              "           0.48048,     0.48148,     0.48248,     0.48348,     0.48448,     0.48549,     0.48649,     0.48749,     0.48849,     0.48949,     0.49049,     0.49149,     0.49249,     0.49349,     0.49449,      0.4955,      0.4965,      0.4975,      0.4985,      0.4995,      0.5005,      0.5015,      0.5025,      0.5035,\n",
              "            0.5045,     0.50551,     0.50651,     0.50751,     0.50851,     0.50951,     0.51051,     0.51151,     0.51251,     0.51351,     0.51451,     0.51552,     0.51652,     0.51752,     0.51852,     0.51952,     0.52052,     0.52152,     0.52252,     0.52352,     0.52452,     0.52553,     0.52653,     0.52753,\n",
              "           0.52853,     0.52953,     0.53053,     0.53153,     0.53253,     0.53353,     0.53453,     0.53554,     0.53654,     0.53754,     0.53854,     0.53954,     0.54054,     0.54154,     0.54254,     0.54354,     0.54454,     0.54555,     0.54655,     0.54755,     0.54855,     0.54955,     0.55055,     0.55155,\n",
              "           0.55255,     0.55355,     0.55455,     0.55556,     0.55656,     0.55756,     0.55856,     0.55956,     0.56056,     0.56156,     0.56256,     0.56356,     0.56456,     0.56557,     0.56657,     0.56757,     0.56857,     0.56957,     0.57057,     0.57157,     0.57257,     0.57357,     0.57457,     0.57558,\n",
              "           0.57658,     0.57758,     0.57858,     0.57958,     0.58058,     0.58158,     0.58258,     0.58358,     0.58458,     0.58559,     0.58659,     0.58759,     0.58859,     0.58959,     0.59059,     0.59159,     0.59259,     0.59359,     0.59459,      0.5956,      0.5966,      0.5976,      0.5986,      0.5996,\n",
              "            0.6006,      0.6016,      0.6026,      0.6036,      0.6046,     0.60561,     0.60661,     0.60761,     0.60861,     0.60961,     0.61061,     0.61161,     0.61261,     0.61361,     0.61461,     0.61562,     0.61662,     0.61762,     0.61862,     0.61962,     0.62062,     0.62162,     0.62262,     0.62362,\n",
              "           0.62462,     0.62563,     0.62663,     0.62763,     0.62863,     0.62963,     0.63063,     0.63163,     0.63263,     0.63363,     0.63463,     0.63564,     0.63664,     0.63764,     0.63864,     0.63964,     0.64064,     0.64164,     0.64264,     0.64364,     0.64464,     0.64565,     0.64665,     0.64765,\n",
              "           0.64865,     0.64965,     0.65065,     0.65165,     0.65265,     0.65365,     0.65465,     0.65566,     0.65666,     0.65766,     0.65866,     0.65966,     0.66066,     0.66166,     0.66266,     0.66366,     0.66466,     0.66567,     0.66667,     0.66767,     0.66867,     0.66967,     0.67067,     0.67167,\n",
              "           0.67267,     0.67367,     0.67467,     0.67568,     0.67668,     0.67768,     0.67868,     0.67968,     0.68068,     0.68168,     0.68268,     0.68368,     0.68468,     0.68569,     0.68669,     0.68769,     0.68869,     0.68969,     0.69069,     0.69169,     0.69269,     0.69369,     0.69469,      0.6957,\n",
              "            0.6967,      0.6977,      0.6987,      0.6997,      0.7007,      0.7017,      0.7027,      0.7037,      0.7047,     0.70571,     0.70671,     0.70771,     0.70871,     0.70971,     0.71071,     0.71171,     0.71271,     0.71371,     0.71471,     0.71572,     0.71672,     0.71772,     0.71872,     0.71972,\n",
              "           0.72072,     0.72172,     0.72272,     0.72372,     0.72472,     0.72573,     0.72673,     0.72773,     0.72873,     0.72973,     0.73073,     0.73173,     0.73273,     0.73373,     0.73473,     0.73574,     0.73674,     0.73774,     0.73874,     0.73974,     0.74074,     0.74174,     0.74274,     0.74374,\n",
              "           0.74474,     0.74575,     0.74675,     0.74775,     0.74875,     0.74975,     0.75075,     0.75175,     0.75275,     0.75375,     0.75475,     0.75576,     0.75676,     0.75776,     0.75876,     0.75976,     0.76076,     0.76176,     0.76276,     0.76376,     0.76476,     0.76577,     0.76677,     0.76777,\n",
              "           0.76877,     0.76977,     0.77077,     0.77177,     0.77277,     0.77377,     0.77477,     0.77578,     0.77678,     0.77778,     0.77878,     0.77978,     0.78078,     0.78178,     0.78278,     0.78378,     0.78478,     0.78579,     0.78679,     0.78779,     0.78879,     0.78979,     0.79079,     0.79179,\n",
              "           0.79279,     0.79379,     0.79479,      0.7958,      0.7968,      0.7978,      0.7988,      0.7998,      0.8008,      0.8018,      0.8028,      0.8038,      0.8048,     0.80581,     0.80681,     0.80781,     0.80881,     0.80981,     0.81081,     0.81181,     0.81281,     0.81381,     0.81481,     0.81582,\n",
              "           0.81682,     0.81782,     0.81882,     0.81982,     0.82082,     0.82182,     0.82282,     0.82382,     0.82482,     0.82583,     0.82683,     0.82783,     0.82883,     0.82983,     0.83083,     0.83183,     0.83283,     0.83383,     0.83483,     0.83584,     0.83684,     0.83784,     0.83884,     0.83984,\n",
              "           0.84084,     0.84184,     0.84284,     0.84384,     0.84484,     0.84585,     0.84685,     0.84785,     0.84885,     0.84985,     0.85085,     0.85185,     0.85285,     0.85385,     0.85485,     0.85586,     0.85686,     0.85786,     0.85886,     0.85986,     0.86086,     0.86186,     0.86286,     0.86386,\n",
              "           0.86486,     0.86587,     0.86687,     0.86787,     0.86887,     0.86987,     0.87087,     0.87187,     0.87287,     0.87387,     0.87487,     0.87588,     0.87688,     0.87788,     0.87888,     0.87988,     0.88088,     0.88188,     0.88288,     0.88388,     0.88488,     0.88589,     0.88689,     0.88789,\n",
              "           0.88889,     0.88989,     0.89089,     0.89189,     0.89289,     0.89389,     0.89489,      0.8959,      0.8969,      0.8979,      0.8989,      0.8999,      0.9009,      0.9019,      0.9029,      0.9039,      0.9049,     0.90591,     0.90691,     0.90791,     0.90891,     0.90991,     0.91091,     0.91191,\n",
              "           0.91291,     0.91391,     0.91491,     0.91592,     0.91692,     0.91792,     0.91892,     0.91992,     0.92092,     0.92192,     0.92292,     0.92392,     0.92492,     0.92593,     0.92693,     0.92793,     0.92893,     0.92993,     0.93093,     0.93193,     0.93293,     0.93393,     0.93493,     0.93594,\n",
              "           0.93694,     0.93794,     0.93894,     0.93994,     0.94094,     0.94194,     0.94294,     0.94394,     0.94494,     0.94595,     0.94695,     0.94795,     0.94895,     0.94995,     0.95095,     0.95195,     0.95295,     0.95395,     0.95495,     0.95596,     0.95696,     0.95796,     0.95896,     0.95996,\n",
              "           0.96096,     0.96196,     0.96296,     0.96396,     0.96496,     0.96597,     0.96697,     0.96797,     0.96897,     0.96997,     0.97097,     0.97197,     0.97297,     0.97397,     0.97497,     0.97598,     0.97698,     0.97798,     0.97898,     0.97998,     0.98098,     0.98198,     0.98298,     0.98398,\n",
              "           0.98498,     0.98599,     0.98699,     0.98799,     0.98899,     0.98999,     0.99099,     0.99199,     0.99299,     0.99399,     0.99499,       0.996,       0.997,       0.998,       0.999,           1]), array([[    0.21598,     0.21598,     0.21598,     0.21598,     0.21598,     0.21805,     0.22379,     0.22984,     0.23679,     0.24525,     0.25349,     0.25959,     0.26781,     0.27492,     0.28123,     0.28856,     0.29561,     0.30312,     0.31064,     0.31858,     0.32591,     0.33306,     0.33743,\n",
              "            0.34569,     0.35224,     0.35777,     0.36654,     0.37167,     0.37914,     0.38516,     0.38939,      0.3949,     0.39995,      0.4047,     0.40926,     0.41406,     0.41785,     0.42285,     0.42739,     0.43031,     0.43837,      0.4444,     0.44811,      0.4504,     0.45358,     0.45675,\n",
              "            0.46136,     0.46596,     0.46957,     0.47429,     0.47687,     0.47944,     0.48326,      0.4885,     0.49426,     0.49717,     0.50051,     0.50557,     0.50986,     0.51122,     0.51344,     0.51502,      0.5177,     0.52134,     0.52275,     0.52354,     0.52581,     0.52878,      0.5313,\n",
              "            0.53382,     0.53659,     0.54042,     0.54223,     0.54664,      0.5484,     0.55426,     0.55742,     0.55909,     0.56263,     0.56437,     0.56614,     0.56911,     0.56932,     0.57123,     0.57231,     0.57468,     0.57676,     0.57958,     0.58218,     0.58377,     0.58739,     0.58837,\n",
              "            0.59162,     0.59333,     0.59449,     0.59631,     0.59613,     0.59825,     0.60083,     0.60292,     0.60488,      0.6095,     0.61201,     0.61258,     0.61316,     0.61538,     0.61488,     0.61525,     0.61581,     0.61856,     0.61887,     0.61951,     0.62319,      0.6243,     0.62509,\n",
              "            0.62563,      0.6263,      0.6275,     0.62911,     0.63057,     0.63043,     0.62986,     0.63458,      0.6357,     0.63665,     0.63688,     0.63794,     0.63906,     0.63942,     0.63883,     0.63895,      0.6392,     0.64005,     0.64154,     0.64345,     0.64457,     0.64563,      0.6474,\n",
              "            0.64744,     0.64782,     0.64695,     0.64807,     0.64951,     0.65041,     0.65092,     0.65122,     0.65096,      0.6509,     0.65023,     0.65099,     0.65383,     0.65427,     0.65345,     0.65248,     0.65253,     0.65095,     0.65202,     0.65415,     0.65289,     0.65494,     0.65786,\n",
              "            0.65517,     0.65378,     0.65277,     0.65431,      0.6573,     0.66089,     0.65979,      0.6602,     0.65958,     0.66005,     0.65867,     0.65913,     0.66158,     0.66143,     0.66329,     0.66469,     0.66576,     0.66736,     0.66563,     0.66466,     0.66438,     0.66474,     0.66529,\n",
              "            0.66504,     0.66519,     0.66568,     0.66606,      0.6664,     0.66697,      0.6681,     0.67239,     0.67378,     0.67445,      0.6748,     0.67524,     0.67681,     0.67614,     0.67716,      0.6776,     0.67797,     0.67832,     0.67808,     0.67702,     0.67824,      0.6796,     0.68025,\n",
              "            0.67907,     0.67783,     0.67827,     0.67711,     0.67885,     0.67919,     0.67953,     0.67654,     0.67699,     0.67939,     0.68048,     0.68176,     0.68096,     0.68088,     0.68117,     0.68146,     0.68226,     0.68134,     0.68114,     0.68266,       0.684,     0.68254,     0.68169,\n",
              "            0.68085,     0.68153,     0.68217,      0.6828,     0.68348,     0.68525,     0.68405,     0.68201,     0.68232,     0.68264,      0.6819,     0.68411,     0.68458,     0.68467,     0.68513,     0.68549,     0.68443,     0.68528,      0.6861,     0.68749,       0.687,     0.68623,     0.68657,\n",
              "            0.68605,     0.68735,     0.68708,     0.68623,     0.68753,     0.68883,     0.68809,     0.68726,     0.68525,     0.68555,     0.68585,     0.68615,     0.68704,     0.68837,     0.68903,     0.68945,     0.68984,      0.6888,     0.68871,     0.68939,     0.68983,     0.68763,      0.6862,\n",
              "            0.68519,      0.6863,     0.68753,     0.68558,     0.68499,     0.68439,      0.6818,      0.6797,     0.67859,     0.67898,      0.6802,     0.68078,     0.68052,     0.67921,     0.67924,     0.67883,     0.67841,       0.678,     0.67759,     0.67968,     0.68045,     0.68086,     0.68127,\n",
              "            0.68044,     0.68085,     0.68126,     0.68149,     0.68166,     0.68183,       0.682,     0.68217,     0.68234,     0.68396,     0.68246,     0.68263,     0.68281,     0.68298,     0.68315,     0.68332,     0.68395,     0.68387,     0.68298,     0.68342,     0.68408,     0.68488,     0.68378,\n",
              "            0.68416,     0.68454,     0.68496,     0.68538,     0.68678,     0.68708,     0.68738,     0.68768,     0.68801,     0.68834,     0.68866,     0.68941,     0.68942,     0.68884,     0.68826,     0.68742,     0.68547,     0.68384,     0.68448,     0.68374,     0.68299,     0.68128,     0.68053,\n",
              "            0.67952,     0.67798,     0.67826,     0.67854,     0.67883,     0.67871,     0.67846,     0.67821,     0.67796,     0.67771,     0.67746,     0.67721,     0.67695,     0.67704,     0.67728,     0.67751,     0.67775,     0.67525,     0.67366,     0.67311,     0.67255,     0.67199,      0.6702,\n",
              "            0.67016,     0.66875,      0.6659,       0.668,     0.66832,      0.6669,     0.66709,     0.66775,       0.668,     0.66826,     0.66851,     0.66877,     0.66666,     0.66615,     0.66564,     0.66513,     0.66462,     0.66304,     0.66172,     0.66062,     0.65953,     0.65843,     0.65722,\n",
              "            0.65709,     0.65798,     0.65604,     0.65235,     0.65032,     0.64987,     0.64942,     0.64897,     0.64852,     0.64766,     0.64637,      0.6408,     0.63966,     0.63757,     0.63528,     0.63386,     0.63258,     0.63143,     0.63045,     0.63005,     0.62965,     0.62925,     0.62884,\n",
              "            0.62844,     0.62814,     0.62791,     0.62767,     0.62743,     0.62719,     0.62696,     0.62672,     0.62648,     0.62624,     0.62614,      0.6272,     0.62816,     0.62851,     0.62887,     0.62901,     0.62842,     0.62784,     0.62726,      0.6261,     0.62411,     0.62277,     0.62078,\n",
              "            0.61842,     0.61843,     0.61949,     0.62056,     0.62003,     0.61764,     0.61574,     0.61523,     0.61443,     0.61363,     0.61246,     0.61125,     0.60807,     0.60726,     0.60645,      0.6058,     0.60515,      0.6045,     0.60317,     0.60175,     0.59689,     0.59497,     0.59373,\n",
              "            0.59288,     0.59143,     0.59093,     0.59043,     0.58993,     0.58943,     0.58763,     0.58596,      0.5847,     0.58097,      0.5797,     0.57745,      0.5749,      0.5746,     0.57481,     0.57501,     0.57522,     0.57543,     0.57303,     0.57244,     0.57192,     0.57141,     0.57089,\n",
              "            0.57038,     0.56986,     0.56935,     0.56883,     0.56831,     0.56736,     0.56275,     0.56237,       0.562,     0.56163,     0.56125,     0.56088,     0.56051,     0.55976,     0.55845,     0.55819,     0.55747,     0.55549,     0.55417,     0.55051,     0.54886,     0.54797,     0.54708,\n",
              "            0.54503,     0.53706,     0.53434,     0.53161,     0.53023,     0.52932,      0.5284,     0.52711,     0.52573,     0.52315,     0.52038,     0.51887,     0.51748,     0.51775,     0.51807,     0.51828,     0.51274,     0.51011,      0.5094,     0.50869,     0.50799,     0.50715,     0.50573,\n",
              "            0.50442,     0.50347,     0.50252,     0.50142,     0.49999,     0.49856,     0.49713,     0.49229,     0.49094,     0.48948,     0.48887,     0.48919,      0.4895,     0.48932,     0.48874,     0.48815,     0.48757,     0.48698,     0.48793,     0.48824,     0.48856,     0.48791,     0.48693,\n",
              "            0.48595,     0.48456,     0.48309,     0.48371,     0.48205,     0.47759,     0.47659,     0.47559,     0.47359,     0.47059,     0.46757,     0.46454,     0.46241,     0.46089,      0.4567,     0.45568,     0.45465,      0.4508,     0.45003,     0.44926,     0.44848,     0.44908,     0.44879,\n",
              "            0.44723,     0.44663,     0.44615,     0.44567,     0.44519,     0.44471,     0.44422,     0.43836,     0.43899,     0.43944,     0.44016,     0.43945,     0.43786,     0.43515,     0.43311,     0.43151,     0.42866,     0.42672,      0.4251,     0.41894,      0.4177,     0.41677,     0.41583,\n",
              "            0.41175,     0.41093,      0.4101,     0.40928,     0.40708,     0.40377,     0.39818,     0.39651,     0.39374,     0.38923,     0.38787,      0.3867,     0.38613,     0.38556,     0.38499,     0.38443,     0.38386,     0.38313,     0.38216,     0.38118,      0.3802,     0.37684,     0.37343,\n",
              "            0.37266,     0.37189,     0.37112,     0.37035,     0.36789,     0.36629,     0.36571,     0.36512,     0.36454,     0.36396,     0.36338,     0.35929,     0.35753,     0.35231,     0.35053,      0.3489,     0.34747,     0.34604,     0.34426,     0.34251,     0.34308,     0.33965,     0.33885,\n",
              "            0.33804,     0.33724,     0.33643,     0.33372,     0.33007,      0.3217,     0.32087,     0.32005,     0.31923,     0.31841,     0.31843,     0.31861,     0.31878,     0.31896,     0.31796,     0.31056,     0.30679,     0.30301,     0.29747,     0.29556,     0.29342,      0.2899,     0.28835,\n",
              "            0.28681,     0.28363,     0.28176,     0.28064,     0.27953,     0.27828,     0.27671,     0.27515,     0.27432,     0.27361,      0.2729,     0.27218,     0.27147,     0.26979,     0.26727,     0.26744,     0.26762,     0.26779,     0.26537,     0.26346,     0.26267,     0.26187,     0.26107,\n",
              "            0.26027,     0.25854,     0.25654,     0.24792,     0.24676,      0.2456,     0.24444,     0.24059,     0.23907,     0.23771,     0.23629,     0.23223,     0.22948,      0.2283,     0.22737,     0.22645,     0.22552,     0.22043,     0.21903,     0.21763,     0.21604,     0.21393,     0.21302,\n",
              "            0.21319,     0.21335,     0.21183,     0.20971,     0.20363,     0.20147,     0.20084,     0.19867,     0.19611,      0.1934,     0.19352,     0.19364,     0.19376,     0.19242,     0.18659,     0.18458,      0.1836,     0.18262,     0.18163,     0.17569,     0.17271,     0.16677,     0.16549,\n",
              "            0.16419,     0.16281,      0.1613,     0.15978,     0.15417,     0.15334,     0.15251,     0.15167,     0.15084,     0.14969,     0.14662,     0.14064,     0.13992,     0.13921,     0.13849,     0.13778,     0.13706,     0.13502,      0.1266,     0.12425,     0.11434,     0.11285,     0.11205,\n",
              "            0.11125,     0.11045,     0.10966,     0.10892,     0.10906,     0.10881,      0.1056,     0.10408,     0.10348,     0.10287,     0.10227,     0.10166,     0.10106,     0.10045,    0.099843,    0.099807,    0.099872,    0.099935,    0.099997,    0.099386,    0.098736,    0.098086,    0.097435,\n",
              "           0.096784,    0.096132,     0.09548,    0.093698,    0.091244,    0.087113,    0.084774,    0.083537,    0.082297,    0.081057,    0.080278,    0.079615,    0.078952,    0.078288,    0.077624,    0.076959,    0.076294,     0.07072,    0.070002,    0.069284,    0.068566,    0.067847,    0.067127,\n",
              "           0.066407,    0.065558,     0.06464,    0.063721,    0.062801,     0.06188,    0.060494,    0.057954,    0.054548,    0.051176,    0.050884,    0.050591,    0.050298,    0.050005,    0.049712,    0.049418,    0.049125,    0.048832,    0.048538,    0.048245,    0.047951,    0.047658,    0.047364,\n",
              "            0.04707,    0.046776,    0.046482,    0.045777,    0.044059,    0.042337,    0.039988,    0.036528,    0.035829,    0.035444,    0.035058,    0.034673,    0.034287,      0.0339,    0.033514,    0.033128,    0.032741,    0.032354,    0.031968,    0.031581,    0.031193,    0.030242,    0.029078,\n",
              "           0.027913,    0.026747,     0.02582,    0.025362,    0.024905,    0.024447,     0.02399,    0.023532,    0.023073,    0.022615,    0.022156,    0.021697,    0.021238,    0.020793,    0.020452,    0.020111,     0.01977,    0.019429,    0.019087,    0.018746,    0.018404,    0.018062,     0.01772,\n",
              "           0.017378,    0.017036,    0.016694,    0.016352,    0.016009,    0.015667,    0.015136,    0.014605,    0.014073,    0.013541,    0.013008,    0.012476,    0.011943,     0.01141,    0.010876,    0.010391,    0.010057,   0.0097231,   0.0093892,   0.0090551,   0.0087209,   0.0083866,   0.0080522,\n",
              "          0.0077177,    0.007383,   0.0070483,   0.0067134,   0.0063784,   0.0060433,   0.0057081,   0.0053728,           0,           0,           0,           0,           0,           0,           0,           0,           0,           0,           0,           0,           0,           0,           0,\n",
              "                  0,           0,           0,           0,           0,           0,           0,           0,           0,           0,           0,           0,           0,           0,           0,           0,           0,           0,           0,           0,           0,           0,           0,\n",
              "                  0,           0,           0,           0,           0,           0,           0,           0,           0,           0,           0,           0,           0,           0,           0,           0,           0,           0,           0,           0,           0,           0,           0,\n",
              "                  0,           0,           0,           0,           0,           0,           0,           0,           0,           0,           0,           0,           0,           0,           0,           0,           0,           0,           0,           0,           0,           0,           0,\n",
              "                  0,           0,           0,           0,           0,           0,           0,           0,           0,           0,           0]]), 'Confidence', 'F1'], [array([          0,    0.001001,    0.002002,    0.003003,    0.004004,    0.005005,    0.006006,    0.007007,    0.008008,    0.009009,     0.01001,    0.011011,    0.012012,    0.013013,    0.014014,    0.015015,    0.016016,    0.017017,    0.018018,    0.019019,     0.02002,    0.021021,    0.022022,    0.023023,\n",
              "          0.024024,    0.025025,    0.026026,    0.027027,    0.028028,    0.029029,     0.03003,    0.031031,    0.032032,    0.033033,    0.034034,    0.035035,    0.036036,    0.037037,    0.038038,    0.039039,     0.04004,    0.041041,    0.042042,    0.043043,    0.044044,    0.045045,    0.046046,    0.047047,\n",
              "          0.048048,    0.049049,     0.05005,    0.051051,    0.052052,    0.053053,    0.054054,    0.055055,    0.056056,    0.057057,    0.058058,    0.059059,     0.06006,    0.061061,    0.062062,    0.063063,    0.064064,    0.065065,    0.066066,    0.067067,    0.068068,    0.069069,     0.07007,    0.071071,\n",
              "          0.072072,    0.073073,    0.074074,    0.075075,    0.076076,    0.077077,    0.078078,    0.079079,     0.08008,    0.081081,    0.082082,    0.083083,    0.084084,    0.085085,    0.086086,    0.087087,    0.088088,    0.089089,     0.09009,    0.091091,    0.092092,    0.093093,    0.094094,    0.095095,\n",
              "          0.096096,    0.097097,    0.098098,    0.099099,      0.1001,      0.1011,      0.1021,      0.1031,      0.1041,     0.10511,     0.10611,     0.10711,     0.10811,     0.10911,     0.11011,     0.11111,     0.11211,     0.11311,     0.11411,     0.11512,     0.11612,     0.11712,     0.11812,     0.11912,\n",
              "           0.12012,     0.12112,     0.12212,     0.12312,     0.12412,     0.12513,     0.12613,     0.12713,     0.12813,     0.12913,     0.13013,     0.13113,     0.13213,     0.13313,     0.13413,     0.13514,     0.13614,     0.13714,     0.13814,     0.13914,     0.14014,     0.14114,     0.14214,     0.14314,\n",
              "           0.14414,     0.14515,     0.14615,     0.14715,     0.14815,     0.14915,     0.15015,     0.15115,     0.15215,     0.15315,     0.15415,     0.15516,     0.15616,     0.15716,     0.15816,     0.15916,     0.16016,     0.16116,     0.16216,     0.16316,     0.16416,     0.16517,     0.16617,     0.16717,\n",
              "           0.16817,     0.16917,     0.17017,     0.17117,     0.17217,     0.17317,     0.17417,     0.17518,     0.17618,     0.17718,     0.17818,     0.17918,     0.18018,     0.18118,     0.18218,     0.18318,     0.18418,     0.18519,     0.18619,     0.18719,     0.18819,     0.18919,     0.19019,     0.19119,\n",
              "           0.19219,     0.19319,     0.19419,      0.1952,      0.1962,      0.1972,      0.1982,      0.1992,      0.2002,      0.2012,      0.2022,      0.2032,      0.2042,     0.20521,     0.20621,     0.20721,     0.20821,     0.20921,     0.21021,     0.21121,     0.21221,     0.21321,     0.21421,     0.21522,\n",
              "           0.21622,     0.21722,     0.21822,     0.21922,     0.22022,     0.22122,     0.22222,     0.22322,     0.22422,     0.22523,     0.22623,     0.22723,     0.22823,     0.22923,     0.23023,     0.23123,     0.23223,     0.23323,     0.23423,     0.23524,     0.23624,     0.23724,     0.23824,     0.23924,\n",
              "           0.24024,     0.24124,     0.24224,     0.24324,     0.24424,     0.24525,     0.24625,     0.24725,     0.24825,     0.24925,     0.25025,     0.25125,     0.25225,     0.25325,     0.25425,     0.25526,     0.25626,     0.25726,     0.25826,     0.25926,     0.26026,     0.26126,     0.26226,     0.26326,\n",
              "           0.26426,     0.26527,     0.26627,     0.26727,     0.26827,     0.26927,     0.27027,     0.27127,     0.27227,     0.27327,     0.27427,     0.27528,     0.27628,     0.27728,     0.27828,     0.27928,     0.28028,     0.28128,     0.28228,     0.28328,     0.28428,     0.28529,     0.28629,     0.28729,\n",
              "           0.28829,     0.28929,     0.29029,     0.29129,     0.29229,     0.29329,     0.29429,      0.2953,      0.2963,      0.2973,      0.2983,      0.2993,      0.3003,      0.3013,      0.3023,      0.3033,      0.3043,     0.30531,     0.30631,     0.30731,     0.30831,     0.30931,     0.31031,     0.31131,\n",
              "           0.31231,     0.31331,     0.31431,     0.31532,     0.31632,     0.31732,     0.31832,     0.31932,     0.32032,     0.32132,     0.32232,     0.32332,     0.32432,     0.32533,     0.32633,     0.32733,     0.32833,     0.32933,     0.33033,     0.33133,     0.33233,     0.33333,     0.33433,     0.33534,\n",
              "           0.33634,     0.33734,     0.33834,     0.33934,     0.34034,     0.34134,     0.34234,     0.34334,     0.34434,     0.34535,     0.34635,     0.34735,     0.34835,     0.34935,     0.35035,     0.35135,     0.35235,     0.35335,     0.35435,     0.35536,     0.35636,     0.35736,     0.35836,     0.35936,\n",
              "           0.36036,     0.36136,     0.36236,     0.36336,     0.36436,     0.36537,     0.36637,     0.36737,     0.36837,     0.36937,     0.37037,     0.37137,     0.37237,     0.37337,     0.37437,     0.37538,     0.37638,     0.37738,     0.37838,     0.37938,     0.38038,     0.38138,     0.38238,     0.38338,\n",
              "           0.38438,     0.38539,     0.38639,     0.38739,     0.38839,     0.38939,     0.39039,     0.39139,     0.39239,     0.39339,     0.39439,      0.3954,      0.3964,      0.3974,      0.3984,      0.3994,      0.4004,      0.4014,      0.4024,      0.4034,      0.4044,     0.40541,     0.40641,     0.40741,\n",
              "           0.40841,     0.40941,     0.41041,     0.41141,     0.41241,     0.41341,     0.41441,     0.41542,     0.41642,     0.41742,     0.41842,     0.41942,     0.42042,     0.42142,     0.42242,     0.42342,     0.42442,     0.42543,     0.42643,     0.42743,     0.42843,     0.42943,     0.43043,     0.43143,\n",
              "           0.43243,     0.43343,     0.43443,     0.43544,     0.43644,     0.43744,     0.43844,     0.43944,     0.44044,     0.44144,     0.44244,     0.44344,     0.44444,     0.44545,     0.44645,     0.44745,     0.44845,     0.44945,     0.45045,     0.45145,     0.45245,     0.45345,     0.45445,     0.45546,\n",
              "           0.45646,     0.45746,     0.45846,     0.45946,     0.46046,     0.46146,     0.46246,     0.46346,     0.46446,     0.46547,     0.46647,     0.46747,     0.46847,     0.46947,     0.47047,     0.47147,     0.47247,     0.47347,     0.47447,     0.47548,     0.47648,     0.47748,     0.47848,     0.47948,\n",
              "           0.48048,     0.48148,     0.48248,     0.48348,     0.48448,     0.48549,     0.48649,     0.48749,     0.48849,     0.48949,     0.49049,     0.49149,     0.49249,     0.49349,     0.49449,      0.4955,      0.4965,      0.4975,      0.4985,      0.4995,      0.5005,      0.5015,      0.5025,      0.5035,\n",
              "            0.5045,     0.50551,     0.50651,     0.50751,     0.50851,     0.50951,     0.51051,     0.51151,     0.51251,     0.51351,     0.51451,     0.51552,     0.51652,     0.51752,     0.51852,     0.51952,     0.52052,     0.52152,     0.52252,     0.52352,     0.52452,     0.52553,     0.52653,     0.52753,\n",
              "           0.52853,     0.52953,     0.53053,     0.53153,     0.53253,     0.53353,     0.53453,     0.53554,     0.53654,     0.53754,     0.53854,     0.53954,     0.54054,     0.54154,     0.54254,     0.54354,     0.54454,     0.54555,     0.54655,     0.54755,     0.54855,     0.54955,     0.55055,     0.55155,\n",
              "           0.55255,     0.55355,     0.55455,     0.55556,     0.55656,     0.55756,     0.55856,     0.55956,     0.56056,     0.56156,     0.56256,     0.56356,     0.56456,     0.56557,     0.56657,     0.56757,     0.56857,     0.56957,     0.57057,     0.57157,     0.57257,     0.57357,     0.57457,     0.57558,\n",
              "           0.57658,     0.57758,     0.57858,     0.57958,     0.58058,     0.58158,     0.58258,     0.58358,     0.58458,     0.58559,     0.58659,     0.58759,     0.58859,     0.58959,     0.59059,     0.59159,     0.59259,     0.59359,     0.59459,      0.5956,      0.5966,      0.5976,      0.5986,      0.5996,\n",
              "            0.6006,      0.6016,      0.6026,      0.6036,      0.6046,     0.60561,     0.60661,     0.60761,     0.60861,     0.60961,     0.61061,     0.61161,     0.61261,     0.61361,     0.61461,     0.61562,     0.61662,     0.61762,     0.61862,     0.61962,     0.62062,     0.62162,     0.62262,     0.62362,\n",
              "           0.62462,     0.62563,     0.62663,     0.62763,     0.62863,     0.62963,     0.63063,     0.63163,     0.63263,     0.63363,     0.63463,     0.63564,     0.63664,     0.63764,     0.63864,     0.63964,     0.64064,     0.64164,     0.64264,     0.64364,     0.64464,     0.64565,     0.64665,     0.64765,\n",
              "           0.64865,     0.64965,     0.65065,     0.65165,     0.65265,     0.65365,     0.65465,     0.65566,     0.65666,     0.65766,     0.65866,     0.65966,     0.66066,     0.66166,     0.66266,     0.66366,     0.66466,     0.66567,     0.66667,     0.66767,     0.66867,     0.66967,     0.67067,     0.67167,\n",
              "           0.67267,     0.67367,     0.67467,     0.67568,     0.67668,     0.67768,     0.67868,     0.67968,     0.68068,     0.68168,     0.68268,     0.68368,     0.68468,     0.68569,     0.68669,     0.68769,     0.68869,     0.68969,     0.69069,     0.69169,     0.69269,     0.69369,     0.69469,      0.6957,\n",
              "            0.6967,      0.6977,      0.6987,      0.6997,      0.7007,      0.7017,      0.7027,      0.7037,      0.7047,     0.70571,     0.70671,     0.70771,     0.70871,     0.70971,     0.71071,     0.71171,     0.71271,     0.71371,     0.71471,     0.71572,     0.71672,     0.71772,     0.71872,     0.71972,\n",
              "           0.72072,     0.72172,     0.72272,     0.72372,     0.72472,     0.72573,     0.72673,     0.72773,     0.72873,     0.72973,     0.73073,     0.73173,     0.73273,     0.73373,     0.73473,     0.73574,     0.73674,     0.73774,     0.73874,     0.73974,     0.74074,     0.74174,     0.74274,     0.74374,\n",
              "           0.74474,     0.74575,     0.74675,     0.74775,     0.74875,     0.74975,     0.75075,     0.75175,     0.75275,     0.75375,     0.75475,     0.75576,     0.75676,     0.75776,     0.75876,     0.75976,     0.76076,     0.76176,     0.76276,     0.76376,     0.76476,     0.76577,     0.76677,     0.76777,\n",
              "           0.76877,     0.76977,     0.77077,     0.77177,     0.77277,     0.77377,     0.77477,     0.77578,     0.77678,     0.77778,     0.77878,     0.77978,     0.78078,     0.78178,     0.78278,     0.78378,     0.78478,     0.78579,     0.78679,     0.78779,     0.78879,     0.78979,     0.79079,     0.79179,\n",
              "           0.79279,     0.79379,     0.79479,      0.7958,      0.7968,      0.7978,      0.7988,      0.7998,      0.8008,      0.8018,      0.8028,      0.8038,      0.8048,     0.80581,     0.80681,     0.80781,     0.80881,     0.80981,     0.81081,     0.81181,     0.81281,     0.81381,     0.81481,     0.81582,\n",
              "           0.81682,     0.81782,     0.81882,     0.81982,     0.82082,     0.82182,     0.82282,     0.82382,     0.82482,     0.82583,     0.82683,     0.82783,     0.82883,     0.82983,     0.83083,     0.83183,     0.83283,     0.83383,     0.83483,     0.83584,     0.83684,     0.83784,     0.83884,     0.83984,\n",
              "           0.84084,     0.84184,     0.84284,     0.84384,     0.84484,     0.84585,     0.84685,     0.84785,     0.84885,     0.84985,     0.85085,     0.85185,     0.85285,     0.85385,     0.85485,     0.85586,     0.85686,     0.85786,     0.85886,     0.85986,     0.86086,     0.86186,     0.86286,     0.86386,\n",
              "           0.86486,     0.86587,     0.86687,     0.86787,     0.86887,     0.86987,     0.87087,     0.87187,     0.87287,     0.87387,     0.87487,     0.87588,     0.87688,     0.87788,     0.87888,     0.87988,     0.88088,     0.88188,     0.88288,     0.88388,     0.88488,     0.88589,     0.88689,     0.88789,\n",
              "           0.88889,     0.88989,     0.89089,     0.89189,     0.89289,     0.89389,     0.89489,      0.8959,      0.8969,      0.8979,      0.8989,      0.8999,      0.9009,      0.9019,      0.9029,      0.9039,      0.9049,     0.90591,     0.90691,     0.90791,     0.90891,     0.90991,     0.91091,     0.91191,\n",
              "           0.91291,     0.91391,     0.91491,     0.91592,     0.91692,     0.91792,     0.91892,     0.91992,     0.92092,     0.92192,     0.92292,     0.92392,     0.92492,     0.92593,     0.92693,     0.92793,     0.92893,     0.92993,     0.93093,     0.93193,     0.93293,     0.93393,     0.93493,     0.93594,\n",
              "           0.93694,     0.93794,     0.93894,     0.93994,     0.94094,     0.94194,     0.94294,     0.94394,     0.94494,     0.94595,     0.94695,     0.94795,     0.94895,     0.94995,     0.95095,     0.95195,     0.95295,     0.95395,     0.95495,     0.95596,     0.95696,     0.95796,     0.95896,     0.95996,\n",
              "           0.96096,     0.96196,     0.96296,     0.96396,     0.96496,     0.96597,     0.96697,     0.96797,     0.96897,     0.96997,     0.97097,     0.97197,     0.97297,     0.97397,     0.97497,     0.97598,     0.97698,     0.97798,     0.97898,     0.97998,     0.98098,     0.98198,     0.98298,     0.98398,\n",
              "           0.98498,     0.98599,     0.98699,     0.98799,     0.98899,     0.98999,     0.99099,     0.99199,     0.99299,     0.99399,     0.99499,       0.996,       0.997,       0.998,       0.999,           1]), array([[    0.12167,     0.12167,     0.12167,     0.12167,     0.12167,     0.12299,     0.12665,     0.13054,     0.13504,     0.14068,     0.14614,      0.1502,     0.15573,     0.16072,     0.16536,     0.17063,     0.17568,     0.18116,     0.18715,     0.19318,     0.19873,     0.20448,     0.20792,\n",
              "            0.21423,     0.21944,     0.22425,     0.23119,     0.23547,      0.2417,     0.24682,     0.25052,     0.25511,     0.25957,     0.26387,     0.26822,     0.27262,     0.27646,     0.28085,     0.28487,     0.28807,     0.29534,     0.30085,      0.3046,     0.30741,     0.31074,     0.31372,\n",
              "            0.31809,     0.32247,     0.32635,     0.33092,     0.33386,     0.33682,      0.3406,     0.34582,     0.35163,     0.35458,     0.35799,     0.36369,     0.36815,     0.37009,     0.37296,     0.37518,     0.37803,     0.38192,     0.38402,     0.38546,     0.38792,     0.39116,     0.39393,\n",
              "            0.39733,     0.40105,     0.40534,     0.40738,     0.41238,     0.41439,     0.42111,     0.42477,     0.42671,     0.43085,      0.4329,     0.43652,     0.44006,     0.44188,      0.4442,     0.44551,     0.44839,     0.45093,     0.45439,     0.45759,     0.46044,     0.46495,     0.46708,\n",
              "            0.47119,     0.47376,     0.47674,     0.47909,     0.48031,     0.48358,     0.48696,     0.48971,      0.4923,     0.49845,     0.50182,     0.50259,     0.50336,     0.50759,      0.5079,     0.50954,      0.5103,     0.51409,     0.51452,     0.51541,     0.52052,     0.52207,     0.52317,\n",
              "            0.52393,     0.52488,     0.52656,     0.52884,     0.53089,     0.53193,     0.53237,     0.53915,     0.54077,     0.54214,     0.54379,     0.54534,     0.54698,     0.54771,     0.54799,     0.54871,     0.54988,     0.55115,     0.55336,      0.5562,     0.55788,     0.55946,     0.56213,\n",
              "            0.56346,     0.56421,     0.56434,     0.56604,     0.56825,     0.56963,     0.57179,     0.57237,     0.57254,     0.57339,     0.57389,     0.57508,     0.57952,     0.58021,     0.58068,     0.58014,     0.58064,     0.58007,     0.58306,     0.58659,     0.58611,     0.58942,     0.59418,\n",
              "            0.59321,     0.59298,     0.59243,      0.5953,     0.60027,     0.60649,     0.60626,     0.60695,     0.60965,     0.61045,     0.60999,     0.61079,     0.61501,      0.6167,     0.61994,     0.62239,     0.62426,      0.6271,     0.62634,     0.62583,     0.62591,     0.62654,     0.62752,\n",
              "            0.62808,     0.62943,      0.6303,     0.63099,      0.6316,     0.63262,     0.63465,     0.64245,     0.64499,     0.64622,     0.64686,     0.64766,     0.65056,     0.65157,     0.65348,      0.6543,     0.65498,     0.65564,      0.6558,     0.65526,     0.65779,     0.66035,     0.66158,\n",
              "            0.66229,     0.66172,     0.66257,     0.66276,     0.66608,     0.66674,      0.6674,     0.66654,     0.66742,     0.67209,     0.67423,     0.67674,     0.67724,     0.67758,     0.67816,     0.67874,     0.68033,     0.68011,     0.68069,     0.68375,     0.68644,     0.68898,     0.68857,\n",
              "            0.68818,     0.68956,     0.69087,     0.69217,     0.69357,     0.69748,     0.69691,     0.69617,     0.69682,     0.69747,     0.69738,     0.70347,     0.70467,     0.70763,     0.70861,     0.70939,     0.71013,     0.71197,     0.71374,     0.71675,     0.71684,     0.71649,     0.71786,\n",
              "            0.71988,     0.72274,      0.7235,     0.72347,     0.72637,     0.72929,     0.72906,      0.7287,     0.72783,     0.72851,     0.72919,     0.72988,     0.73189,     0.73492,     0.73643,     0.73737,     0.73828,     0.73821,     0.73911,      0.7421,     0.74523,     0.74508,     0.74448,\n",
              "            0.74508,     0.74771,     0.75065,     0.74994,      0.7497,     0.74945,     0.74837,     0.74748,     0.74701,     0.74883,     0.75181,     0.75321,     0.75375,     0.75321,     0.75728,     0.75711,     0.75694,     0.75677,      0.7566,     0.76239,     0.76434,     0.76537,      0.7664,\n",
              "            0.76845,      0.7695,     0.77054,     0.77111,     0.77155,     0.77199,     0.77243,     0.77287,      0.7733,     0.77837,     0.77788,     0.77833,     0.77878,     0.77923,     0.77968,     0.78012,     0.78176,     0.78284,      0.7825,     0.78476,     0.78649,      0.7886,     0.79018,\n",
              "             0.7912,     0.79222,     0.79333,     0.79446,     0.79823,     0.79905,     0.79987,     0.80069,     0.80157,     0.80246,     0.80334,     0.80539,     0.80622,     0.80602,     0.80582,     0.80553,     0.80485,     0.80428,     0.80702,     0.80676,      0.8065,     0.80845,      0.8082,\n",
              "            0.80785,     0.80759,      0.8084,      0.8092,     0.81001,     0.81016,     0.81007,     0.80998,      0.8099,     0.80981,     0.80972,     0.80964,     0.80955,     0.80999,     0.81067,     0.81135,     0.81203,     0.81159,     0.81105,     0.81086,     0.81066,     0.81047,     0.81102,\n",
              "            0.81252,     0.81204,     0.81449,     0.82082,     0.82294,     0.82247,     0.82944,     0.83148,     0.83227,     0.83305,     0.83384,     0.83463,        0.84,     0.83984,     0.83969,     0.83953,     0.83938,      0.8389,     0.83849,     0.83816,     0.83782,     0.83749,     0.83711,\n",
              "            0.84028,     0.84358,     0.84327,     0.84509,     0.84449,     0.84435,     0.84422,     0.84408,     0.84395,     0.84369,      0.8433,     0.84161,     0.84126,     0.84061,     0.83991,     0.83946,     0.83907,     0.83871,      0.8384,     0.83827,     0.83815,     0.83802,     0.83789,\n",
              "            0.83777,     0.83767,      0.8376,     0.83752,     0.83745,     0.83737,      0.8373,     0.83722,     0.83715,     0.83707,     0.83741,     0.84121,     0.84465,     0.84593,     0.84722,     0.84817,       0.848,     0.84783,     0.84765,      0.8473,      0.8467,      0.8463,     0.84569,\n",
              "            0.84497,      0.8475,      0.8515,     0.85554,     0.85995,     0.85928,     0.86189,     0.86237,     0.86215,     0.86192,      0.8616,     0.86126,     0.86036,     0.86013,      0.8599,     0.85971,     0.85953,     0.85934,     0.85896,     0.86247,     0.86109,     0.86054,     0.86018,\n",
              "            0.86397,     0.86356,     0.86342,     0.86328,     0.86314,     0.86299,     0.86248,       0.862,     0.86164,     0.86056,     0.86019,     0.85953,     0.85878,      0.8594,     0.86032,     0.86125,     0.86217,      0.8631,     0.86246,     0.86229,     0.86214,     0.86199,     0.86184,\n",
              "            0.86169,     0.86154,     0.86139,     0.86123,     0.86108,      0.8608,     0.85943,     0.85932,     0.85921,      0.8591,     0.85899,     0.85887,     0.85876,     0.85854,     0.85814,      0.8601,     0.86227,     0.86168,     0.86129,     0.86474,     0.86426,     0.86399,     0.86373,\n",
              "            0.86312,     0.86072,     0.85988,     0.85904,     0.85861,     0.85833,     0.85804,     0.85763,      0.8572,     0.85638,      0.8555,     0.85501,     0.85456,     0.85626,     0.85804,     0.85972,     0.85797,     0.85712,     0.85689,     0.85667,     0.85644,     0.85616,      0.8557,\n",
              "            0.85527,     0.85496,     0.85465,     0.85429,     0.85381,     0.85333,     0.85285,     0.85121,       0.856,     0.85552,     0.85619,     0.85812,     0.86006,     0.86082,     0.86063,     0.86044,     0.86025,     0.86006,     0.86711,     0.86911,     0.87111,      0.8714,      0.8711,\n",
              "             0.8708,     0.87038,     0.86992,      0.8752,     0.87534,       0.874,     0.87369,     0.87339,     0.87278,     0.87185,     0.87091,     0.86995,     0.86927,     0.86878,     0.86743,      0.8671,     0.86676,     0.86548,     0.86523,     0.86497,     0.86471,     0.87016,     0.87746,\n",
              "            0.87698,     0.87679,     0.87664,     0.87649,     0.87634,     0.87619,     0.87604,     0.87793,     0.88303,     0.88664,     0.89258,     0.89488,     0.89444,     0.89369,     0.89312,     0.89267,     0.89185,      0.8913,     0.89083,     0.88902,     0.88865,     0.88836,     0.88808,\n",
              "            0.88684,     0.88659,     0.88633,     0.88608,     0.88539,     0.88435,     0.88256,     0.88201,      0.8811,     0.88756,     0.88712,     0.88675,     0.88657,     0.88638,      0.8862,     0.88601,     0.88583,     0.88559,     0.88527,     0.88495,     0.88463,     0.88351,     0.88235,\n",
              "            0.88208,     0.88182,     0.88155,     0.88129,     0.88043,     0.87987,     0.87966,     0.87945,     0.87924,     0.87904,     0.87883,     0.87735,      0.8767,     0.87476,     0.87408,     0.87346,     0.87291,     0.87236,     0.87166,     0.87112,     0.88038,      0.8791,      0.8788,\n",
              "            0.87849,     0.87818,     0.87788,     0.87683,      0.8754,     0.87201,     0.87167,     0.87133,     0.87098,     0.87064,     0.87283,     0.87549,     0.87814,      0.8808,     0.89095,     0.88821,     0.88676,     0.88528,     0.88307,     0.88228,     0.88139,     0.87991,     0.87924,\n",
              "            0.87858,     0.87718,     0.87635,     0.87585,     0.87535,     0.87478,     0.87406,     0.87333,     0.87295,     0.87261,     0.87227,     0.87193,      0.8716,     0.87079,     0.86972,     0.87346,     0.87721,     0.88095,     0.88123,     0.88036,     0.87998,     0.87961,     0.87924,\n",
              "            0.87887,     0.87805,     0.87709,     0.87282,     0.87222,     0.87162,     0.87102,     0.86897,     0.86815,      0.8674,     0.86663,     0.86434,     0.86274,      0.8769,      0.8764,     0.87591,     0.87541,     0.87258,     0.87177,     0.87097,     0.87004,     0.86879,     0.88645,\n",
              "            0.89238,     0.89831,     0.90119,     0.91535,     0.91583,     0.91492,     0.93443,     0.93368,     0.93278,     0.93219,     0.93774,     0.94329,     0.94885,     0.95312,     0.95158,     0.95102,     0.95075,     0.95047,     0.95019,     0.94843,     0.94751,     0.94557,     0.94513,\n",
              "            0.94469,     0.94421,     0.94367,     0.94313,     0.94101,     0.94068,     0.94034,     0.94001,     0.93968,     0.93921,     0.93792,     0.93525,     0.93492,     0.93458,     0.93424,      0.9339,     0.93356,     0.93254,     0.92808,     0.92673,      0.9205,     0.91948,     0.91891,\n",
              "            0.91834,     0.91777,      0.9172,     0.91804,     0.93847,     0.95636,     0.95501,     0.95436,     0.95409,     0.95381,     0.95353,     0.95326,     0.95298,      0.9527,     0.95242,     0.96273,     0.97493,     0.98714,     0.99934,           1,           1,           1,           1,\n",
              "                  1,           1,           1,           1,           1,           1,           1,           1,           1,           1,           1,           1,           1,           1,           1,           1,           1,           1,           1,           1,           1,           1,           1,\n",
              "                  1,           1,           1,           1,           1,           1,           1,           1,           1,           1,           1,           1,           1,           1,           1,           1,           1,           1,           1,           1,           1,           1,           1,\n",
              "                  1,           1,           1,           1,           1,           1,           1,           1,           1,           1,           1,           1,           1,           1,           1,           1,           1,           1,           1,           1,           1,           1,           1,\n",
              "                  1,           1,           1,           1,           1,           1,           1,           1,           1,           1,           1,           1,           1,           1,           1,           1,           1,           1,           1,           1,           1,           1,           1,\n",
              "                  1,           1,           1,           1,           1,           1,           1,           1,           1,           1,           1,           1,           1,           1,           1,           1,           1,           1,           1,           1,           1,           1,           1,\n",
              "                  1,           1,           1,           1,           1,           1,           1,           1,           1,           1,           1,           1,           1,           1,           1,           1,           1,           1,           1,           1,           1,           1,           1,\n",
              "                  1,           1,           1,           1,           1,           1,           1,           1,           1,           1,           1,           1,           1,           1,           1,           1,           1,           1,           1,           1,           1,           1,           1,\n",
              "                  1,           1,           1,           1,           1,           1,           1,           1,           1,           1,           1,           1,           1,           1,           1,           1,           1,           1,           1,           1,           1,           1,           1,\n",
              "                  1,           1,           1,           1,           1,           1,           1,           1,           1,           1,           1,           1,           1,           1,           1,           1,           1,           1,           1,           1,           1,           1,           1,\n",
              "                  1,           1,           1,           1,           1,           1,           1,           1,           1,           1,           1]]), 'Confidence', 'Precision'], [array([          0,    0.001001,    0.002002,    0.003003,    0.004004,    0.005005,    0.006006,    0.007007,    0.008008,    0.009009,     0.01001,    0.011011,    0.012012,    0.013013,    0.014014,    0.015015,    0.016016,    0.017017,    0.018018,    0.019019,     0.02002,    0.021021,    0.022022,    0.023023,\n",
              "          0.024024,    0.025025,    0.026026,    0.027027,    0.028028,    0.029029,     0.03003,    0.031031,    0.032032,    0.033033,    0.034034,    0.035035,    0.036036,    0.037037,    0.038038,    0.039039,     0.04004,    0.041041,    0.042042,    0.043043,    0.044044,    0.045045,    0.046046,    0.047047,\n",
              "          0.048048,    0.049049,     0.05005,    0.051051,    0.052052,    0.053053,    0.054054,    0.055055,    0.056056,    0.057057,    0.058058,    0.059059,     0.06006,    0.061061,    0.062062,    0.063063,    0.064064,    0.065065,    0.066066,    0.067067,    0.068068,    0.069069,     0.07007,    0.071071,\n",
              "          0.072072,    0.073073,    0.074074,    0.075075,    0.076076,    0.077077,    0.078078,    0.079079,     0.08008,    0.081081,    0.082082,    0.083083,    0.084084,    0.085085,    0.086086,    0.087087,    0.088088,    0.089089,     0.09009,    0.091091,    0.092092,    0.093093,    0.094094,    0.095095,\n",
              "          0.096096,    0.097097,    0.098098,    0.099099,      0.1001,      0.1011,      0.1021,      0.1031,      0.1041,     0.10511,     0.10611,     0.10711,     0.10811,     0.10911,     0.11011,     0.11111,     0.11211,     0.11311,     0.11411,     0.11512,     0.11612,     0.11712,     0.11812,     0.11912,\n",
              "           0.12012,     0.12112,     0.12212,     0.12312,     0.12412,     0.12513,     0.12613,     0.12713,     0.12813,     0.12913,     0.13013,     0.13113,     0.13213,     0.13313,     0.13413,     0.13514,     0.13614,     0.13714,     0.13814,     0.13914,     0.14014,     0.14114,     0.14214,     0.14314,\n",
              "           0.14414,     0.14515,     0.14615,     0.14715,     0.14815,     0.14915,     0.15015,     0.15115,     0.15215,     0.15315,     0.15415,     0.15516,     0.15616,     0.15716,     0.15816,     0.15916,     0.16016,     0.16116,     0.16216,     0.16316,     0.16416,     0.16517,     0.16617,     0.16717,\n",
              "           0.16817,     0.16917,     0.17017,     0.17117,     0.17217,     0.17317,     0.17417,     0.17518,     0.17618,     0.17718,     0.17818,     0.17918,     0.18018,     0.18118,     0.18218,     0.18318,     0.18418,     0.18519,     0.18619,     0.18719,     0.18819,     0.18919,     0.19019,     0.19119,\n",
              "           0.19219,     0.19319,     0.19419,      0.1952,      0.1962,      0.1972,      0.1982,      0.1992,      0.2002,      0.2012,      0.2022,      0.2032,      0.2042,     0.20521,     0.20621,     0.20721,     0.20821,     0.20921,     0.21021,     0.21121,     0.21221,     0.21321,     0.21421,     0.21522,\n",
              "           0.21622,     0.21722,     0.21822,     0.21922,     0.22022,     0.22122,     0.22222,     0.22322,     0.22422,     0.22523,     0.22623,     0.22723,     0.22823,     0.22923,     0.23023,     0.23123,     0.23223,     0.23323,     0.23423,     0.23524,     0.23624,     0.23724,     0.23824,     0.23924,\n",
              "           0.24024,     0.24124,     0.24224,     0.24324,     0.24424,     0.24525,     0.24625,     0.24725,     0.24825,     0.24925,     0.25025,     0.25125,     0.25225,     0.25325,     0.25425,     0.25526,     0.25626,     0.25726,     0.25826,     0.25926,     0.26026,     0.26126,     0.26226,     0.26326,\n",
              "           0.26426,     0.26527,     0.26627,     0.26727,     0.26827,     0.26927,     0.27027,     0.27127,     0.27227,     0.27327,     0.27427,     0.27528,     0.27628,     0.27728,     0.27828,     0.27928,     0.28028,     0.28128,     0.28228,     0.28328,     0.28428,     0.28529,     0.28629,     0.28729,\n",
              "           0.28829,     0.28929,     0.29029,     0.29129,     0.29229,     0.29329,     0.29429,      0.2953,      0.2963,      0.2973,      0.2983,      0.2993,      0.3003,      0.3013,      0.3023,      0.3033,      0.3043,     0.30531,     0.30631,     0.30731,     0.30831,     0.30931,     0.31031,     0.31131,\n",
              "           0.31231,     0.31331,     0.31431,     0.31532,     0.31632,     0.31732,     0.31832,     0.31932,     0.32032,     0.32132,     0.32232,     0.32332,     0.32432,     0.32533,     0.32633,     0.32733,     0.32833,     0.32933,     0.33033,     0.33133,     0.33233,     0.33333,     0.33433,     0.33534,\n",
              "           0.33634,     0.33734,     0.33834,     0.33934,     0.34034,     0.34134,     0.34234,     0.34334,     0.34434,     0.34535,     0.34635,     0.34735,     0.34835,     0.34935,     0.35035,     0.35135,     0.35235,     0.35335,     0.35435,     0.35536,     0.35636,     0.35736,     0.35836,     0.35936,\n",
              "           0.36036,     0.36136,     0.36236,     0.36336,     0.36436,     0.36537,     0.36637,     0.36737,     0.36837,     0.36937,     0.37037,     0.37137,     0.37237,     0.37337,     0.37437,     0.37538,     0.37638,     0.37738,     0.37838,     0.37938,     0.38038,     0.38138,     0.38238,     0.38338,\n",
              "           0.38438,     0.38539,     0.38639,     0.38739,     0.38839,     0.38939,     0.39039,     0.39139,     0.39239,     0.39339,     0.39439,      0.3954,      0.3964,      0.3974,      0.3984,      0.3994,      0.4004,      0.4014,      0.4024,      0.4034,      0.4044,     0.40541,     0.40641,     0.40741,\n",
              "           0.40841,     0.40941,     0.41041,     0.41141,     0.41241,     0.41341,     0.41441,     0.41542,     0.41642,     0.41742,     0.41842,     0.41942,     0.42042,     0.42142,     0.42242,     0.42342,     0.42442,     0.42543,     0.42643,     0.42743,     0.42843,     0.42943,     0.43043,     0.43143,\n",
              "           0.43243,     0.43343,     0.43443,     0.43544,     0.43644,     0.43744,     0.43844,     0.43944,     0.44044,     0.44144,     0.44244,     0.44344,     0.44444,     0.44545,     0.44645,     0.44745,     0.44845,     0.44945,     0.45045,     0.45145,     0.45245,     0.45345,     0.45445,     0.45546,\n",
              "           0.45646,     0.45746,     0.45846,     0.45946,     0.46046,     0.46146,     0.46246,     0.46346,     0.46446,     0.46547,     0.46647,     0.46747,     0.46847,     0.46947,     0.47047,     0.47147,     0.47247,     0.47347,     0.47447,     0.47548,     0.47648,     0.47748,     0.47848,     0.47948,\n",
              "           0.48048,     0.48148,     0.48248,     0.48348,     0.48448,     0.48549,     0.48649,     0.48749,     0.48849,     0.48949,     0.49049,     0.49149,     0.49249,     0.49349,     0.49449,      0.4955,      0.4965,      0.4975,      0.4985,      0.4995,      0.5005,      0.5015,      0.5025,      0.5035,\n",
              "            0.5045,     0.50551,     0.50651,     0.50751,     0.50851,     0.50951,     0.51051,     0.51151,     0.51251,     0.51351,     0.51451,     0.51552,     0.51652,     0.51752,     0.51852,     0.51952,     0.52052,     0.52152,     0.52252,     0.52352,     0.52452,     0.52553,     0.52653,     0.52753,\n",
              "           0.52853,     0.52953,     0.53053,     0.53153,     0.53253,     0.53353,     0.53453,     0.53554,     0.53654,     0.53754,     0.53854,     0.53954,     0.54054,     0.54154,     0.54254,     0.54354,     0.54454,     0.54555,     0.54655,     0.54755,     0.54855,     0.54955,     0.55055,     0.55155,\n",
              "           0.55255,     0.55355,     0.55455,     0.55556,     0.55656,     0.55756,     0.55856,     0.55956,     0.56056,     0.56156,     0.56256,     0.56356,     0.56456,     0.56557,     0.56657,     0.56757,     0.56857,     0.56957,     0.57057,     0.57157,     0.57257,     0.57357,     0.57457,     0.57558,\n",
              "           0.57658,     0.57758,     0.57858,     0.57958,     0.58058,     0.58158,     0.58258,     0.58358,     0.58458,     0.58559,     0.58659,     0.58759,     0.58859,     0.58959,     0.59059,     0.59159,     0.59259,     0.59359,     0.59459,      0.5956,      0.5966,      0.5976,      0.5986,      0.5996,\n",
              "            0.6006,      0.6016,      0.6026,      0.6036,      0.6046,     0.60561,     0.60661,     0.60761,     0.60861,     0.60961,     0.61061,     0.61161,     0.61261,     0.61361,     0.61461,     0.61562,     0.61662,     0.61762,     0.61862,     0.61962,     0.62062,     0.62162,     0.62262,     0.62362,\n",
              "           0.62462,     0.62563,     0.62663,     0.62763,     0.62863,     0.62963,     0.63063,     0.63163,     0.63263,     0.63363,     0.63463,     0.63564,     0.63664,     0.63764,     0.63864,     0.63964,     0.64064,     0.64164,     0.64264,     0.64364,     0.64464,     0.64565,     0.64665,     0.64765,\n",
              "           0.64865,     0.64965,     0.65065,     0.65165,     0.65265,     0.65365,     0.65465,     0.65566,     0.65666,     0.65766,     0.65866,     0.65966,     0.66066,     0.66166,     0.66266,     0.66366,     0.66466,     0.66567,     0.66667,     0.66767,     0.66867,     0.66967,     0.67067,     0.67167,\n",
              "           0.67267,     0.67367,     0.67467,     0.67568,     0.67668,     0.67768,     0.67868,     0.67968,     0.68068,     0.68168,     0.68268,     0.68368,     0.68468,     0.68569,     0.68669,     0.68769,     0.68869,     0.68969,     0.69069,     0.69169,     0.69269,     0.69369,     0.69469,      0.6957,\n",
              "            0.6967,      0.6977,      0.6987,      0.6997,      0.7007,      0.7017,      0.7027,      0.7037,      0.7047,     0.70571,     0.70671,     0.70771,     0.70871,     0.70971,     0.71071,     0.71171,     0.71271,     0.71371,     0.71471,     0.71572,     0.71672,     0.71772,     0.71872,     0.71972,\n",
              "           0.72072,     0.72172,     0.72272,     0.72372,     0.72472,     0.72573,     0.72673,     0.72773,     0.72873,     0.72973,     0.73073,     0.73173,     0.73273,     0.73373,     0.73473,     0.73574,     0.73674,     0.73774,     0.73874,     0.73974,     0.74074,     0.74174,     0.74274,     0.74374,\n",
              "           0.74474,     0.74575,     0.74675,     0.74775,     0.74875,     0.74975,     0.75075,     0.75175,     0.75275,     0.75375,     0.75475,     0.75576,     0.75676,     0.75776,     0.75876,     0.75976,     0.76076,     0.76176,     0.76276,     0.76376,     0.76476,     0.76577,     0.76677,     0.76777,\n",
              "           0.76877,     0.76977,     0.77077,     0.77177,     0.77277,     0.77377,     0.77477,     0.77578,     0.77678,     0.77778,     0.77878,     0.77978,     0.78078,     0.78178,     0.78278,     0.78378,     0.78478,     0.78579,     0.78679,     0.78779,     0.78879,     0.78979,     0.79079,     0.79179,\n",
              "           0.79279,     0.79379,     0.79479,      0.7958,      0.7968,      0.7978,      0.7988,      0.7998,      0.8008,      0.8018,      0.8028,      0.8038,      0.8048,     0.80581,     0.80681,     0.80781,     0.80881,     0.80981,     0.81081,     0.81181,     0.81281,     0.81381,     0.81481,     0.81582,\n",
              "           0.81682,     0.81782,     0.81882,     0.81982,     0.82082,     0.82182,     0.82282,     0.82382,     0.82482,     0.82583,     0.82683,     0.82783,     0.82883,     0.82983,     0.83083,     0.83183,     0.83283,     0.83383,     0.83483,     0.83584,     0.83684,     0.83784,     0.83884,     0.83984,\n",
              "           0.84084,     0.84184,     0.84284,     0.84384,     0.84484,     0.84585,     0.84685,     0.84785,     0.84885,     0.84985,     0.85085,     0.85185,     0.85285,     0.85385,     0.85485,     0.85586,     0.85686,     0.85786,     0.85886,     0.85986,     0.86086,     0.86186,     0.86286,     0.86386,\n",
              "           0.86486,     0.86587,     0.86687,     0.86787,     0.86887,     0.86987,     0.87087,     0.87187,     0.87287,     0.87387,     0.87487,     0.87588,     0.87688,     0.87788,     0.87888,     0.87988,     0.88088,     0.88188,     0.88288,     0.88388,     0.88488,     0.88589,     0.88689,     0.88789,\n",
              "           0.88889,     0.88989,     0.89089,     0.89189,     0.89289,     0.89389,     0.89489,      0.8959,      0.8969,      0.8979,      0.8989,      0.8999,      0.9009,      0.9019,      0.9029,      0.9039,      0.9049,     0.90591,     0.90691,     0.90791,     0.90891,     0.90991,     0.91091,     0.91191,\n",
              "           0.91291,     0.91391,     0.91491,     0.91592,     0.91692,     0.91792,     0.91892,     0.91992,     0.92092,     0.92192,     0.92292,     0.92392,     0.92492,     0.92593,     0.92693,     0.92793,     0.92893,     0.92993,     0.93093,     0.93193,     0.93293,     0.93393,     0.93493,     0.93594,\n",
              "           0.93694,     0.93794,     0.93894,     0.93994,     0.94094,     0.94194,     0.94294,     0.94394,     0.94494,     0.94595,     0.94695,     0.94795,     0.94895,     0.94995,     0.95095,     0.95195,     0.95295,     0.95395,     0.95495,     0.95596,     0.95696,     0.95796,     0.95896,     0.95996,\n",
              "           0.96096,     0.96196,     0.96296,     0.96396,     0.96496,     0.96597,     0.96697,     0.96797,     0.96897,     0.96997,     0.97097,     0.97197,     0.97297,     0.97397,     0.97497,     0.97598,     0.97698,     0.97798,     0.97898,     0.97998,     0.98098,     0.98198,     0.98298,     0.98398,\n",
              "           0.98498,     0.98599,     0.98699,     0.98799,     0.98899,     0.98999,     0.99099,     0.99199,     0.99299,     0.99399,     0.99499,       0.996,       0.997,       0.998,       0.999,           1]), array([[    0.96053,     0.96053,     0.96053,     0.96053,     0.96053,     0.96053,     0.96053,     0.96053,     0.96053,     0.95526,     0.95526,     0.95526,     0.95526,        0.95,     0.93947,     0.93421,     0.93158,     0.92748,     0.91316,     0.90789,     0.90526,     0.89737,     0.89474,\n",
              "            0.89474,     0.89211,     0.88421,     0.88421,     0.88158,     0.87895,     0.87632,     0.87368,     0.87368,     0.87105,     0.86786,     0.86316,     0.86053,     0.85526,     0.85526,     0.85526,        0.85,        0.85,        0.85,     0.84737,     0.84211,     0.83947,     0.83947,\n",
              "            0.83947,     0.83947,     0.83684,     0.83684,     0.83421,     0.83158,     0.83158,     0.83158,     0.83158,     0.83158,     0.83158,     0.82895,     0.82895,     0.82632,     0.82368,     0.82105,     0.82105,     0.82105,     0.81842,     0.81579,     0.81579,     0.81579,     0.81579,\n",
              "            0.81316,     0.81053,     0.81053,     0.81053,     0.81053,     0.81053,     0.81053,     0.81053,     0.81053,     0.81053,     0.81053,     0.80526,     0.80526,     0.80006,         0.8,         0.8,         0.8,         0.8,         0.8,         0.8,     0.79737,     0.79737,     0.79474,\n",
              "            0.79474,     0.79365,     0.78947,     0.78947,     0.78558,     0.78421,     0.78421,     0.78421,     0.78421,     0.78421,     0.78421,     0.78421,     0.78421,     0.78127,     0.77895,     0.77632,     0.77632,     0.77632,     0.77632,     0.77632,     0.77632,     0.77632,     0.77632,\n",
              "            0.77632,     0.77632,     0.77632,     0.77632,     0.77632,     0.77368,     0.77105,     0.77105,     0.77105,     0.77105,     0.76842,     0.76842,     0.76842,     0.76801,     0.76579,     0.76472,     0.76316,     0.76316,     0.76316,     0.76316,     0.76316,     0.76316,     0.76316,\n",
              "            0.76085,     0.76053,     0.75789,     0.75789,     0.75789,     0.75789,     0.75549,     0.75526,     0.75429,     0.75263,        0.75,        0.75,        0.75,        0.75,     0.74708,     0.74542,     0.74474,     0.74156,     0.73947,     0.73931,     0.73684,     0.73684,     0.73684,\n",
              "            0.73158,     0.72845,      0.7268,     0.72632,     0.72632,     0.72601,     0.72368,     0.72368,     0.71842,     0.71842,     0.71579,     0.71579,     0.71579,     0.71316,     0.71316,     0.71316,     0.71316,     0.71316,     0.71018,     0.70864,     0.70789,     0.70789,     0.70789,\n",
              "            0.70662,     0.70526,     0.70526,     0.70526,     0.70526,     0.70526,     0.70526,     0.70526,     0.70526,     0.70526,     0.70526,     0.70526,     0.70526,     0.70263,     0.70263,     0.70263,     0.70263,     0.70263,     0.70194,     0.70028,         0.7,         0.7,         0.7,\n",
              "            0.69673,     0.69474,     0.69474,     0.69211,     0.69211,     0.69211,     0.69211,     0.68684,     0.68684,     0.68684,     0.68684,     0.68684,     0.68472,     0.68421,     0.68421,     0.68421,     0.68421,     0.68257,     0.68158,     0.68158,     0.68158,     0.67622,     0.67495,\n",
              "            0.67368,     0.67368,     0.67368,     0.67368,     0.67368,     0.67345,     0.67166,     0.66842,     0.66842,     0.66842,     0.66709,     0.66579,     0.66559,     0.66316,     0.66316,     0.66316,     0.66053,     0.66053,     0.66053,     0.66053,     0.65955,     0.65841,     0.65789,\n",
              "            0.65526,     0.65526,     0.65416,     0.65263,     0.65263,     0.65263,     0.65148,     0.65028,     0.64737,     0.64737,     0.64737,     0.64737,     0.64737,     0.64737,     0.64737,     0.64737,     0.64737,     0.64559,     0.64474,     0.64366,     0.64211,     0.63841,     0.63638,\n",
              "            0.63421,     0.63421,     0.63421,     0.63139,     0.63056,     0.62973,     0.62612,     0.62318,     0.62164,     0.62105,     0.62105,     0.62105,     0.62025,     0.61845,     0.61579,     0.61522,     0.61465,     0.61408,     0.61351,     0.61316,     0.61316,     0.61316,     0.61316,\n",
              "            0.61053,     0.61053,     0.61053,     0.61053,     0.61053,     0.61053,     0.61053,     0.61053,     0.61053,     0.60998,     0.60789,     0.60789,     0.60789,     0.60789,     0.60789,     0.60789,     0.60789,     0.60713,     0.60593,     0.60526,     0.60526,     0.60526,     0.60263,\n",
              "            0.60263,     0.60263,     0.60263,     0.60263,     0.60263,     0.60263,     0.60263,     0.60263,     0.60263,     0.60263,     0.60263,     0.60263,     0.60217,      0.6014,     0.60063,     0.59952,     0.59693,     0.59477,     0.59425,     0.59327,     0.59229,     0.58868,      0.5877,\n",
              "            0.58637,     0.58421,     0.58421,     0.58421,     0.58421,     0.58397,     0.58364,     0.58331,     0.58299,     0.58266,     0.58233,     0.58201,     0.58168,     0.58158,     0.58158,     0.58158,     0.58158,     0.57813,     0.57608,     0.57536,     0.57464,     0.57392,     0.57105,\n",
              "            0.57025,     0.56845,     0.56316,     0.56316,     0.56262,     0.56082,     0.55789,     0.55789,     0.55789,     0.55789,     0.55789,     0.55789,     0.55263,     0.55199,     0.55136,     0.55072,     0.55009,     0.54814,      0.5465,     0.54515,      0.5438,     0.54245,     0.54096,\n",
              "            0.53947,     0.53932,     0.53684,     0.53119,     0.52874,     0.52821,     0.52767,     0.52713,     0.52659,     0.52555,     0.52401,     0.51736,     0.51601,     0.51353,     0.51083,     0.50916,     0.50765,      0.5063,     0.50516,     0.50469,     0.50422,     0.50375,     0.50328,\n",
              "            0.50281,     0.50246,     0.50218,     0.50191,     0.50163,     0.50135,     0.50108,      0.5008,     0.50052,     0.50025,         0.5,         0.5,         0.5,         0.5,         0.5,     0.49984,     0.49917,      0.4985,     0.49782,     0.49648,     0.49419,     0.49265,     0.49037,\n",
              "            0.48767,     0.48684,     0.48684,     0.48684,     0.48477,     0.48208,     0.47895,     0.47819,     0.47729,     0.47639,     0.47508,     0.47374,     0.47019,     0.46929,      0.4684,     0.46768,     0.46696,     0.46624,     0.46477,     0.46208,     0.45675,     0.45466,     0.45331,\n",
              "            0.45129,     0.44972,     0.44918,     0.44864,      0.4481,     0.44756,     0.44563,     0.44383,     0.44248,      0.4385,     0.43716,     0.43477,     0.43207,     0.43158,     0.43158,     0.43158,     0.43158,     0.43158,     0.42905,     0.42843,     0.42789,     0.42735,     0.42681,\n",
              "            0.42627,     0.42573,     0.42519,     0.42465,     0.42411,     0.42313,     0.41833,     0.41795,     0.41756,     0.41718,     0.41679,     0.41641,     0.41602,     0.41525,      0.4139,     0.41316,     0.41188,     0.40985,      0.4085,     0.40378,     0.40212,     0.40122,     0.40032,\n",
              "            0.39826,      0.3903,      0.3876,      0.3849,     0.38354,     0.38264,     0.38174,     0.38048,     0.37913,     0.37661,     0.37391,     0.37245,      0.3711,     0.37105,     0.37105,     0.37095,     0.36562,      0.3631,     0.36243,     0.36175,     0.36108,     0.36028,     0.35893,\n",
              "            0.35769,     0.35679,     0.35589,     0.35485,      0.3535,     0.35215,      0.3508,     0.34628,     0.34416,     0.34281,     0.34211,     0.34211,     0.34211,     0.34181,     0.34127,     0.34073,     0.34019,     0.33965,     0.33947,     0.33947,     0.33947,      0.3388,      0.3379,\n",
              "            0.33701,     0.33574,     0.33439,     0.33421,     0.33261,     0.32856,     0.32766,     0.32676,     0.32496,     0.32227,     0.31957,     0.31687,     0.31498,     0.31363,     0.30994,     0.30904,     0.30815,     0.30478,      0.3041,     0.30343,     0.30275,     0.30263,     0.30149,\n",
              "            0.30015,     0.29963,     0.29921,      0.2988,     0.29838,     0.29797,     0.29755,     0.29211,     0.29211,     0.29211,     0.29211,     0.29123,     0.28988,     0.28759,     0.28587,     0.28452,     0.28213,     0.28051,     0.27916,     0.27404,     0.27302,     0.27224,     0.27147,\n",
              "            0.26812,     0.26744,     0.26677,     0.26609,      0.2643,     0.26161,     0.25709,     0.25574,     0.25351,     0.24927,     0.24819,     0.24726,     0.24681,     0.24636,     0.24591,     0.24546,     0.24502,     0.24444,     0.24367,      0.2429,     0.24213,      0.2395,     0.23683,\n",
              "            0.23623,     0.23563,     0.23503,     0.23444,     0.23252,     0.23129,     0.23084,     0.23039,     0.22994,     0.22949,     0.22904,      0.2259,     0.22455,     0.22057,     0.21922,     0.21798,      0.2169,     0.21583,     0.21449,     0.21316,     0.21305,     0.21049,     0.20989,\n",
              "            0.20929,     0.20869,     0.20809,     0.20608,     0.20338,     0.19723,     0.19663,     0.19603,     0.19543,     0.19483,     0.19474,     0.19474,     0.19474,     0.19474,     0.19351,     0.18818,     0.18548,     0.18279,     0.17886,     0.17751,     0.17601,     0.17354,     0.17246,\n",
              "            0.17138,     0.16917,     0.16786,     0.16709,     0.16632,     0.16546,     0.16438,      0.1633,     0.16273,     0.16224,     0.16175,     0.16126,     0.16077,     0.15962,     0.15789,     0.15789,     0.15789,     0.15789,      0.1562,     0.15491,     0.15437,     0.15383,     0.15329,\n",
              "            0.15275,     0.15159,     0.15024,     0.14448,     0.14371,     0.14294,     0.14217,     0.13963,     0.13863,     0.13773,      0.1368,     0.13414,     0.13234,     0.13123,     0.13063,     0.13003,     0.12943,     0.12615,     0.12525,     0.12435,     0.12333,     0.12198,     0.12105,\n",
              "            0.12105,     0.12105,     0.12002,     0.11842,     0.11455,      0.1132,     0.11251,     0.11116,     0.10957,     0.10789,     0.10789,     0.10789,     0.10789,     0.10701,     0.10344,     0.10221,     0.10161,     0.10101,     0.10041,     0.09681,    0.095012,    0.091452,    0.090682,\n",
              "           0.089911,    0.089085,    0.088186,    0.087286,    0.083962,    0.083472,    0.082982,    0.082491,    0.082001,    0.081327,    0.079529,    0.076035,     0.07562,    0.075205,     0.07479,    0.074375,     0.07396,    0.072779,    0.067936,    0.066587,    0.060953,    0.060112,    0.059663,\n",
              "           0.059213,    0.058764,    0.058314,    0.057895,    0.057895,    0.057686,    0.055887,    0.055043,    0.054706,    0.054369,    0.054031,    0.053694,    0.053357,     0.05302,    0.052683,    0.052632,    0.052632,    0.052632,    0.052632,    0.052291,    0.051932,    0.051572,    0.051212,\n",
              "           0.050853,    0.050493,    0.050133,    0.049152,    0.047803,     0.04554,    0.044263,    0.043589,    0.042915,     0.04224,    0.041818,    0.041458,    0.041098,    0.040739,    0.040379,    0.040019,     0.03966,    0.036656,    0.036271,    0.035885,      0.0355,    0.035115,    0.034729,\n",
              "           0.034344,     0.03389,    0.033399,    0.032909,    0.032419,    0.031928,     0.03119,    0.029842,    0.028039,     0.02626,    0.026106,    0.025952,    0.025798,    0.025644,    0.025489,    0.025335,    0.025181,    0.025027,    0.024873,    0.024719,    0.024565,     0.02441,    0.024256,\n",
              "           0.024102,    0.023948,    0.023794,    0.023425,    0.022526,    0.021626,    0.020402,    0.018604,    0.018242,    0.018042,    0.017842,    0.017642,    0.017442,    0.017242,    0.017043,    0.016843,    0.016643,    0.016443,    0.016243,    0.016044,    0.015844,    0.015353,    0.014754,\n",
              "           0.014154,    0.013555,    0.013079,    0.012844,     0.01261,    0.012375,     0.01214,    0.011906,    0.011671,    0.011437,    0.011202,    0.010968,    0.010733,    0.010506,    0.010332,    0.010158,   0.0099836,   0.0098096,   0.0096355,   0.0094615,   0.0092875,   0.0091134,   0.0089394,\n",
              "          0.0087654,   0.0085914,   0.0084173,   0.0082433,   0.0080693,   0.0078952,   0.0076258,    0.007356,   0.0070863,   0.0068166,   0.0065468,   0.0062771,   0.0060073,   0.0057376,   0.0054678,   0.0052225,   0.0050539,   0.0048853,   0.0047167,   0.0045481,   0.0043795,    0.004211,   0.0040424,\n",
              "          0.0038738,   0.0037052,   0.0035366,    0.003368,   0.0031994,   0.0030308,   0.0028622,   0.0026936,           0,           0,           0,           0,           0,           0,           0,           0,           0,           0,           0,           0,           0,           0,           0,\n",
              "                  0,           0,           0,           0,           0,           0,           0,           0,           0,           0,           0,           0,           0,           0,           0,           0,           0,           0,           0,           0,           0,           0,           0,\n",
              "                  0,           0,           0,           0,           0,           0,           0,           0,           0,           0,           0,           0,           0,           0,           0,           0,           0,           0,           0,           0,           0,           0,           0,\n",
              "                  0,           0,           0,           0,           0,           0,           0,           0,           0,           0,           0,           0,           0,           0,           0,           0,           0,           0,           0,           0,           0,           0,           0,\n",
              "                  0,           0,           0,           0,           0,           0,           0,           0,           0,           0,           0]]), 'Confidence', 'Recall']]\n",
              "fitness: 0.6797517711367691\n",
              "keys: ['metrics/precision(B)', 'metrics/recall(B)', 'metrics/mAP50(B)', 'metrics/mAP50-95(B)', 'metrics/precision(M)', 'metrics/recall(M)', 'metrics/mAP50(M)', 'metrics/mAP50-95(M)']\n",
              "maps: array([    0.59627])\n",
              "names: {0: 'building'}\n",
              "plot: True\n",
              "results_dict: {'metrics/precision(B)': 0.7700644107133632, 'metrics/recall(B)': 0.6257438879322536, 'metrics/mAP50(B)': 0.7245462063238794, 'metrics/mAP50-95(B)': 0.3247717610885731, 'metrics/precision(M)': 0.7571102930070738, 'metrics/recall(M)': 0.61521757214278, 'metrics/mAP50(M)': 0.7065701477760371, 'metrics/mAP50-95(M)': 0.271495056385624, 'fitness': 0.6797517711367691}\n",
              "save_dir: PosixPath('runs/segment/train3')\n",
              "seg: ultralytics.utils.metrics.Metric object\n",
              "speed: {'preprocess': 0.2498149871826172, 'inference': 4.545187950134277, 'loss': 0.0015020370483398438, 'postprocess': 2.6336193084716797}\n",
              "task: 'segment'"
            ]
          },
          "execution_count": 12,
          "metadata": {},
          "output_type": "execute_result"
        }
      ],
      "source": [
        "\n",
        "import os\n",
        "\n",
        "from ultralytics import YOLO\n",
        "\n",
        "\n",
        "model = YOLO('yolov8n-seg.pt')  # load a pretrained model (recommended for training)\n",
        "\n",
        "model.train(data='/content/gdrive/MyDrive/yoloproject/yolobuild/config.yaml', epochs=10, imgsz=640)\n"
      ]
    },
    {
      "cell_type": "markdown",
      "metadata": {
        "id": "JM0RkcGWWZYo"
      },
      "source": []
    },
    {
      "cell_type": "markdown",
      "source": [
        "# Inference on Validation Data\n",
        "\n",
        "This section demonstrates:\n",
        "- Loading the trained YOLO model.\n",
        "- Performing inference on a single image from the validation set to visualize how the model is performing.\n"
      ],
      "metadata": {
        "id": "zv9zLjPLGyQD"
      }
    },
    {
      "cell_type": "code",
      "execution_count": null,
      "metadata": {
        "colab": {
          "base_uri": "https://localhost:8080/"
        },
        "id": "CGCSMhDzhiGg",
        "outputId": "ac2b37d5-13ce-4991-b9ea-0537597590b9"
      },
      "outputs": [
        {
          "name": "stdout",
          "output_type": "stream",
          "text": [
            "\n",
            "image 1/1 /content/gdrive/MyDrive/yoloproject/yolobuild/data/images/val/kel-mesogarage_png.rf.142cb570b907769b522c12996b1551ab.jpg: 640x640 22 buildings, 18.9ms\n",
            "Speed: 1.9ms preprocess, 18.9ms inference, 10.8ms postprocess per image at shape (1, 3, 640, 640)\n"
          ]
        }
      ],
      "source": [
        "results = model('/content/gdrive/MyDrive/yoloproject/yolobuild/data/images/val/kel-mesogarage_png.rf.142cb570b907769b522c12996b1551ab.jpg')"
      ]
    },
    {
      "cell_type": "code",
      "execution_count": null,
      "metadata": {
        "id": "j7Y2P9xzQ-I6"
      },
      "outputs": [],
      "source": [
        "model1= YOLO('/content/gdrive/MyDrive/yoloproject/yolobuild/runs/segment/train/weights/best.pt')"
      ]
    },
    {
      "cell_type": "markdown",
      "source": [
        "# Inference on Test Dataset\n",
        "\n",
        "Following steps are executed here:\n",
        "- Iterate through images in a specified test folder.\n",
        "- Use the trained model to detect objects in each image.\n",
        "- Plot the results and save them back to Google Drive.\n"
      ],
      "metadata": {
        "id": "_4Pk6G_yG-tv"
      }
    },
    {
      "cell_type": "code",
      "execution_count": null,
      "metadata": {
        "colab": {
          "base_uri": "https://localhost:8080/"
        },
        "id": "kbyUfRRJSPt8",
        "outputId": "71128a7e-62e5-409a-9bd2-c0b42f8df6f6"
      },
      "outputs": [
        {
          "name": "stderr",
          "output_type": "stream",
          "text": [
            "\r  0%|          | 0/108 [00:00<?, ?it/s]"
          ]
        },
        {
          "name": "stdout",
          "output_type": "stream",
          "text": [
            "\n",
            "image 1/1 /content/gdrive/MyDrive/yoloproject/yolobuild/test/000000000000.jpg: 640x640 (no detections), 17.7ms\n",
            "Speed: 2.4ms preprocess, 17.7ms inference, 0.6ms postprocess per image at shape (1, 3, 640, 640)\n"
          ]
        },
        {
          "name": "stderr",
          "output_type": "stream",
          "text": [
            "\r  1%|          | 1/108 [00:01<02:33,  1.43s/it]"
          ]
        },
        {
          "name": "stdout",
          "output_type": "stream",
          "text": [
            "\n",
            "image 1/1 /content/gdrive/MyDrive/yoloproject/yolobuild/test/000000000001.jpg: 640x640 12 buildings, 39.2ms\n",
            "Speed: 4.2ms preprocess, 39.2ms inference, 9.5ms postprocess per image at shape (1, 3, 640, 640)\n"
          ]
        },
        {
          "name": "stderr",
          "output_type": "stream",
          "text": [
            "\r  2%|▏         | 2/108 [00:02<02:21,  1.34s/it]"
          ]
        },
        {
          "name": "stdout",
          "output_type": "stream",
          "text": [
            "\n",
            "image 1/1 /content/gdrive/MyDrive/yoloproject/yolobuild/test/000000000003.jpg: 640x640 16 buildings, 34.1ms\n",
            "Speed: 3.1ms preprocess, 34.1ms inference, 9.7ms postprocess per image at shape (1, 3, 640, 640)\n"
          ]
        },
        {
          "name": "stderr",
          "output_type": "stream",
          "text": [
            "\r  3%|▎         | 3/108 [00:03<01:44,  1.00it/s]"
          ]
        },
        {
          "name": "stdout",
          "output_type": "stream",
          "text": [
            "\n",
            "image 1/1 /content/gdrive/MyDrive/yoloproject/yolobuild/test/000000000002.jpg: 640x640 25 buildings, 19.6ms\n",
            "Speed: 3.3ms preprocess, 19.6ms inference, 10.7ms postprocess per image at shape (1, 3, 640, 640)\n"
          ]
        },
        {
          "name": "stderr",
          "output_type": "stream",
          "text": [
            "\r  4%|▎         | 4/108 [00:03<01:26,  1.20it/s]"
          ]
        },
        {
          "name": "stdout",
          "output_type": "stream",
          "text": [
            "\n",
            "image 1/1 /content/gdrive/MyDrive/yoloproject/yolobuild/test/000000000004.jpg: 640x640 1 building, 18.0ms\n",
            "Speed: 2.9ms preprocess, 18.0ms inference, 4.3ms postprocess per image at shape (1, 3, 640, 640)\n"
          ]
        },
        {
          "name": "stderr",
          "output_type": "stream",
          "text": [
            "\r  5%|▍         | 5/108 [00:04<01:15,  1.37it/s]"
          ]
        },
        {
          "name": "stdout",
          "output_type": "stream",
          "text": [
            "\n",
            "image 1/1 /content/gdrive/MyDrive/yoloproject/yolobuild/test/000000000005.jpg: 640x640 1 building, 18.3ms\n",
            "Speed: 2.9ms preprocess, 18.3ms inference, 3.6ms postprocess per image at shape (1, 3, 640, 640)\n"
          ]
        },
        {
          "name": "stderr",
          "output_type": "stream",
          "text": [
            "\r  6%|▌         | 6/108 [00:04<01:08,  1.50it/s]"
          ]
        },
        {
          "name": "stdout",
          "output_type": "stream",
          "text": [
            "\n",
            "image 1/1 /content/gdrive/MyDrive/yoloproject/yolobuild/test/000000000006.jpg: 640x640 7 buildings, 17.8ms\n",
            "Speed: 2.6ms preprocess, 17.8ms inference, 5.4ms postprocess per image at shape (1, 3, 640, 640)\n"
          ]
        },
        {
          "name": "stderr",
          "output_type": "stream",
          "text": [
            "\r  6%|▋         | 7/108 [00:05<01:03,  1.60it/s]"
          ]
        },
        {
          "name": "stdout",
          "output_type": "stream",
          "text": [
            "\n",
            "image 1/1 /content/gdrive/MyDrive/yoloproject/yolobuild/test/000000000007.jpg: 640x640 15 buildings, 17.7ms\n",
            "Speed: 3.0ms preprocess, 17.7ms inference, 7.7ms postprocess per image at shape (1, 3, 640, 640)\n"
          ]
        },
        {
          "name": "stderr",
          "output_type": "stream",
          "text": [
            "\r  7%|▋         | 8/108 [00:06<01:00,  1.65it/s]"
          ]
        },
        {
          "name": "stdout",
          "output_type": "stream",
          "text": [
            "\n",
            "image 1/1 /content/gdrive/MyDrive/yoloproject/yolobuild/test/000000000008.jpg: 640x640 10 buildings, 17.4ms\n",
            "Speed: 2.4ms preprocess, 17.4ms inference, 6.1ms postprocess per image at shape (1, 3, 640, 640)\n"
          ]
        },
        {
          "name": "stderr",
          "output_type": "stream",
          "text": [
            "\r  8%|▊         | 9/108 [00:07<01:10,  1.40it/s]"
          ]
        },
        {
          "name": "stdout",
          "output_type": "stream",
          "text": [
            "\n",
            "image 1/1 /content/gdrive/MyDrive/yoloproject/yolobuild/test/000000000010.jpg: 640x640 3 buildings, 17.5ms\n",
            "Speed: 2.4ms preprocess, 17.5ms inference, 4.0ms postprocess per image at shape (1, 3, 640, 640)\n"
          ]
        },
        {
          "name": "stderr",
          "output_type": "stream",
          "text": [
            "\r  9%|▉         | 10/108 [00:07<01:12,  1.36it/s]"
          ]
        },
        {
          "name": "stdout",
          "output_type": "stream",
          "text": [
            "\n",
            "image 1/1 /content/gdrive/MyDrive/yoloproject/yolobuild/test/000000000009.jpg: 640x640 11 buildings, 21.2ms\n",
            "Speed: 3.4ms preprocess, 21.2ms inference, 7.7ms postprocess per image at shape (1, 3, 640, 640)\n"
          ]
        },
        {
          "name": "stderr",
          "output_type": "stream",
          "text": [
            "\r 10%|█         | 11/108 [00:08<01:07,  1.43it/s]"
          ]
        },
        {
          "name": "stdout",
          "output_type": "stream",
          "text": [
            "\n",
            "image 1/1 /content/gdrive/MyDrive/yoloproject/yolobuild/test/000000000011.jpg: 640x640 4 buildings, 21.0ms\n",
            "Speed: 3.1ms preprocess, 21.0ms inference, 5.3ms postprocess per image at shape (1, 3, 640, 640)\n"
          ]
        },
        {
          "name": "stderr",
          "output_type": "stream",
          "text": [
            "\r 11%|█         | 12/108 [00:08<00:59,  1.60it/s]"
          ]
        },
        {
          "name": "stdout",
          "output_type": "stream",
          "text": [
            "\n",
            "image 1/1 /content/gdrive/MyDrive/yoloproject/yolobuild/test/000000000012.jpg: 640x640 14 buildings, 21.3ms\n",
            "Speed: 3.1ms preprocess, 21.3ms inference, 8.4ms postprocess per image at shape (1, 3, 640, 640)\n"
          ]
        },
        {
          "name": "stderr",
          "output_type": "stream",
          "text": [
            "\r 12%|█▏        | 13/108 [00:09<01:00,  1.57it/s]"
          ]
        },
        {
          "name": "stdout",
          "output_type": "stream",
          "text": [
            "\n",
            "image 1/1 /content/gdrive/MyDrive/yoloproject/yolobuild/test/000000000013.jpg: 640x640 4 buildings, 40.3ms\n",
            "Speed: 5.1ms preprocess, 40.3ms inference, 7.7ms postprocess per image at shape (1, 3, 640, 640)\n"
          ]
        },
        {
          "name": "stderr",
          "output_type": "stream",
          "text": [
            "\r 13%|█▎        | 14/108 [00:10<01:00,  1.56it/s]"
          ]
        },
        {
          "name": "stdout",
          "output_type": "stream",
          "text": [
            "\n",
            "image 1/1 /content/gdrive/MyDrive/yoloproject/yolobuild/test/000000000014.jpg: 640x640 16 buildings, 38.1ms\n",
            "Speed: 5.5ms preprocess, 38.1ms inference, 25.0ms postprocess per image at shape (1, 3, 640, 640)\n"
          ]
        },
        {
          "name": "stderr",
          "output_type": "stream",
          "text": [
            "\r 14%|█▍        | 15/108 [00:10<01:01,  1.52it/s]"
          ]
        },
        {
          "name": "stdout",
          "output_type": "stream",
          "text": [
            "\n",
            "image 1/1 /content/gdrive/MyDrive/yoloproject/yolobuild/test/000000000021.jpg: 640x640 16 buildings, 30.2ms\n",
            "Speed: 3.3ms preprocess, 30.2ms inference, 14.9ms postprocess per image at shape (1, 3, 640, 640)\n"
          ]
        },
        {
          "name": "stderr",
          "output_type": "stream",
          "text": [
            "\r 15%|█▍        | 16/108 [00:11<01:00,  1.53it/s]"
          ]
        },
        {
          "name": "stdout",
          "output_type": "stream",
          "text": [
            "\n",
            "image 1/1 /content/gdrive/MyDrive/yoloproject/yolobuild/test/000000000020.jpg: 640x640 19 buildings, 60.0ms\n",
            "Speed: 7.2ms preprocess, 60.0ms inference, 14.2ms postprocess per image at shape (1, 3, 640, 640)\n"
          ]
        },
        {
          "name": "stderr",
          "output_type": "stream",
          "text": [
            "\r 16%|█▌        | 17/108 [00:12<01:01,  1.48it/s]"
          ]
        },
        {
          "name": "stdout",
          "output_type": "stream",
          "text": [
            "\n",
            "image 1/1 /content/gdrive/MyDrive/yoloproject/yolobuild/test/000000000022.jpg: 640x640 10 buildings, 21.0ms\n",
            "Speed: 3.2ms preprocess, 21.0ms inference, 18.5ms postprocess per image at shape (1, 3, 640, 640)\n"
          ]
        },
        {
          "name": "stderr",
          "output_type": "stream",
          "text": [
            "\r 17%|█▋        | 18/108 [00:12<01:01,  1.47it/s]"
          ]
        },
        {
          "name": "stdout",
          "output_type": "stream",
          "text": [
            "\n",
            "image 1/1 /content/gdrive/MyDrive/yoloproject/yolobuild/test/000000000015.jpg: 640x640 10 buildings, 28.4ms\n",
            "Speed: 11.3ms preprocess, 28.4ms inference, 11.2ms postprocess per image at shape (1, 3, 640, 640)\n"
          ]
        },
        {
          "name": "stderr",
          "output_type": "stream",
          "text": [
            "\r 18%|█▊        | 19/108 [00:13<01:01,  1.46it/s]"
          ]
        },
        {
          "name": "stdout",
          "output_type": "stream",
          "text": [
            "\n",
            "image 1/1 /content/gdrive/MyDrive/yoloproject/yolobuild/test/000000000018.jpg: 640x640 1 building, 31.0ms\n",
            "Speed: 3.2ms preprocess, 31.0ms inference, 5.4ms postprocess per image at shape (1, 3, 640, 640)\n"
          ]
        },
        {
          "name": "stderr",
          "output_type": "stream",
          "text": [
            "\r 19%|█▊        | 20/108 [00:14<01:01,  1.44it/s]"
          ]
        },
        {
          "name": "stdout",
          "output_type": "stream",
          "text": [
            "\n",
            "image 1/1 /content/gdrive/MyDrive/yoloproject/yolobuild/test/000000000017.jpg: 640x640 2 buildings, 20.3ms\n",
            "Speed: 2.9ms preprocess, 20.3ms inference, 4.4ms postprocess per image at shape (1, 3, 640, 640)\n"
          ]
        },
        {
          "name": "stderr",
          "output_type": "stream",
          "text": [
            "\r 19%|█▉        | 21/108 [00:14<00:58,  1.49it/s]"
          ]
        },
        {
          "name": "stdout",
          "output_type": "stream",
          "text": [
            "\n",
            "image 1/1 /content/gdrive/MyDrive/yoloproject/yolobuild/test/000000000016.jpg: 640x640 13 buildings, 18.1ms\n",
            "Speed: 2.5ms preprocess, 18.1ms inference, 7.0ms postprocess per image at shape (1, 3, 640, 640)\n"
          ]
        },
        {
          "name": "stderr",
          "output_type": "stream",
          "text": [
            "\r 20%|██        | 22/108 [00:15<00:56,  1.53it/s]"
          ]
        },
        {
          "name": "stdout",
          "output_type": "stream",
          "text": [
            "\n",
            "image 1/1 /content/gdrive/MyDrive/yoloproject/yolobuild/test/000000000023.jpg: 640x640 18 buildings, 17.5ms\n",
            "Speed: 2.9ms preprocess, 17.5ms inference, 8.7ms postprocess per image at shape (1, 3, 640, 640)\n"
          ]
        },
        {
          "name": "stderr",
          "output_type": "stream",
          "text": [
            "\r 21%|██▏       | 23/108 [00:16<00:52,  1.61it/s]"
          ]
        },
        {
          "name": "stdout",
          "output_type": "stream",
          "text": [
            "\n",
            "image 1/1 /content/gdrive/MyDrive/yoloproject/yolobuild/test/000000000019.jpg: 640x640 4 buildings, 18.0ms\n",
            "Speed: 2.3ms preprocess, 18.0ms inference, 4.1ms postprocess per image at shape (1, 3, 640, 640)\n"
          ]
        },
        {
          "name": "stderr",
          "output_type": "stream",
          "text": [
            "\r 22%|██▏       | 24/108 [00:16<00:47,  1.79it/s]"
          ]
        },
        {
          "name": "stdout",
          "output_type": "stream",
          "text": [
            "\n",
            "image 1/1 /content/gdrive/MyDrive/yoloproject/yolobuild/test/000000000025.jpg: 640x640 12 buildings, 17.6ms\n",
            "Speed: 2.4ms preprocess, 17.6ms inference, 6.6ms postprocess per image at shape (1, 3, 640, 640)\n"
          ]
        },
        {
          "name": "stderr",
          "output_type": "stream",
          "text": [
            "\r 23%|██▎       | 25/108 [00:17<00:50,  1.66it/s]"
          ]
        },
        {
          "name": "stdout",
          "output_type": "stream",
          "text": [
            "\n",
            "image 1/1 /content/gdrive/MyDrive/yoloproject/yolobuild/test/000000000024.jpg: 640x640 18 buildings, 17.9ms\n",
            "Speed: 2.9ms preprocess, 17.9ms inference, 8.4ms postprocess per image at shape (1, 3, 640, 640)\n"
          ]
        },
        {
          "name": "stderr",
          "output_type": "stream",
          "text": [
            "\r 24%|██▍       | 26/108 [00:17<00:48,  1.70it/s]"
          ]
        },
        {
          "name": "stdout",
          "output_type": "stream",
          "text": [
            "\n",
            "image 1/1 /content/gdrive/MyDrive/yoloproject/yolobuild/test/000000000026.jpg: 640x640 14 buildings, 17.4ms\n",
            "Speed: 2.4ms preprocess, 17.4ms inference, 7.2ms postprocess per image at shape (1, 3, 640, 640)\n"
          ]
        },
        {
          "name": "stderr",
          "output_type": "stream",
          "text": [
            "\r 25%|██▌       | 27/108 [00:18<00:46,  1.75it/s]"
          ]
        },
        {
          "name": "stdout",
          "output_type": "stream",
          "text": [
            "\n",
            "image 1/1 /content/gdrive/MyDrive/yoloproject/yolobuild/test/000000000027.jpg: 640x640 5 buildings, 17.5ms\n",
            "Speed: 3.2ms preprocess, 17.5ms inference, 4.7ms postprocess per image at shape (1, 3, 640, 640)\n"
          ]
        },
        {
          "name": "stderr",
          "output_type": "stream",
          "text": [
            "\r 26%|██▌       | 28/108 [00:18<00:43,  1.85it/s]"
          ]
        },
        {
          "name": "stdout",
          "output_type": "stream",
          "text": [
            "\n",
            "image 1/1 /content/gdrive/MyDrive/yoloproject/yolobuild/test/000000000033.jpg: 640x640 8 buildings, 18.4ms\n",
            "Speed: 2.9ms preprocess, 18.4ms inference, 15.8ms postprocess per image at shape (1, 3, 640, 640)\n"
          ]
        },
        {
          "name": "stderr",
          "output_type": "stream",
          "text": [
            "\r 27%|██▋       | 29/108 [00:19<00:46,  1.70it/s]"
          ]
        },
        {
          "name": "stdout",
          "output_type": "stream",
          "text": [
            "\n",
            "image 1/1 /content/gdrive/MyDrive/yoloproject/yolobuild/test/000000000031.jpg: 640x640 4 buildings, 18.1ms\n",
            "Speed: 2.9ms preprocess, 18.1ms inference, 4.1ms postprocess per image at shape (1, 3, 640, 640)\n"
          ]
        },
        {
          "name": "stderr",
          "output_type": "stream",
          "text": [
            "\r 28%|██▊       | 30/108 [00:20<00:46,  1.68it/s]"
          ]
        },
        {
          "name": "stdout",
          "output_type": "stream",
          "text": [
            "\n",
            "image 1/1 /content/gdrive/MyDrive/yoloproject/yolobuild/test/000000000038.jpg: 640x640 13 buildings, 17.4ms\n",
            "Speed: 2.4ms preprocess, 17.4ms inference, 6.8ms postprocess per image at shape (1, 3, 640, 640)\n"
          ]
        },
        {
          "name": "stderr",
          "output_type": "stream",
          "text": [
            "\r 29%|██▊       | 31/108 [00:20<00:45,  1.68it/s]"
          ]
        },
        {
          "name": "stdout",
          "output_type": "stream",
          "text": [
            "\n",
            "image 1/1 /content/gdrive/MyDrive/yoloproject/yolobuild/test/000000000035.jpg: 640x640 7 buildings, 17.9ms\n",
            "Speed: 2.4ms preprocess, 17.9ms inference, 5.1ms postprocess per image at shape (1, 3, 640, 640)\n"
          ]
        },
        {
          "name": "stderr",
          "output_type": "stream",
          "text": [
            "\r 30%|██▉       | 32/108 [00:21<00:41,  1.81it/s]"
          ]
        },
        {
          "name": "stdout",
          "output_type": "stream",
          "text": [
            "\n",
            "image 1/1 /content/gdrive/MyDrive/yoloproject/yolobuild/test/000000000037.jpg: 640x640 36 buildings, 17.9ms\n",
            "Speed: 2.6ms preprocess, 17.9ms inference, 14.3ms postprocess per image at shape (1, 3, 640, 640)\n"
          ]
        },
        {
          "name": "stderr",
          "output_type": "stream",
          "text": [
            "\r 31%|███       | 33/108 [00:21<00:44,  1.70it/s]"
          ]
        },
        {
          "name": "stdout",
          "output_type": "stream",
          "text": [
            "\n",
            "image 1/1 /content/gdrive/MyDrive/yoloproject/yolobuild/test/000000000029.jpg: 640x640 17 buildings, 17.4ms\n",
            "Speed: 2.4ms preprocess, 17.4ms inference, 8.3ms postprocess per image at shape (1, 3, 640, 640)\n"
          ]
        },
        {
          "name": "stderr",
          "output_type": "stream",
          "text": [
            "\r 31%|███▏      | 34/108 [00:22<00:41,  1.76it/s]"
          ]
        },
        {
          "name": "stdout",
          "output_type": "stream",
          "text": [
            "\n",
            "image 1/1 /content/gdrive/MyDrive/yoloproject/yolobuild/test/000000000028.jpg: 640x640 5 buildings, 17.3ms\n",
            "Speed: 2.3ms preprocess, 17.3ms inference, 4.4ms postprocess per image at shape (1, 3, 640, 640)\n"
          ]
        },
        {
          "name": "stderr",
          "output_type": "stream",
          "text": [
            "\r 32%|███▏      | 35/108 [00:22<00:41,  1.78it/s]"
          ]
        },
        {
          "name": "stdout",
          "output_type": "stream",
          "text": [
            "\n",
            "image 1/1 /content/gdrive/MyDrive/yoloproject/yolobuild/test/000000000032.jpg: 640x640 13 buildings, 17.7ms\n",
            "Speed: 2.3ms preprocess, 17.7ms inference, 7.0ms postprocess per image at shape (1, 3, 640, 640)\n"
          ]
        },
        {
          "name": "stderr",
          "output_type": "stream",
          "text": [
            "\r 33%|███▎      | 36/108 [00:23<00:40,  1.78it/s]"
          ]
        },
        {
          "name": "stdout",
          "output_type": "stream",
          "text": [
            "\n",
            "image 1/1 /content/gdrive/MyDrive/yoloproject/yolobuild/test/000000000036.jpg: 640x640 12 buildings, 23.2ms\n",
            "Speed: 3.1ms preprocess, 23.2ms inference, 7.4ms postprocess per image at shape (1, 3, 640, 640)\n"
          ]
        },
        {
          "name": "stderr",
          "output_type": "stream",
          "text": [
            "\r 34%|███▍      | 37/108 [00:24<00:41,  1.69it/s]"
          ]
        },
        {
          "name": "stdout",
          "output_type": "stream",
          "text": [
            "\n",
            "image 1/1 /content/gdrive/MyDrive/yoloproject/yolobuild/test/000000000034.jpg: 640x640 11 buildings, 23.0ms\n",
            "Speed: 3.2ms preprocess, 23.0ms inference, 7.6ms postprocess per image at shape (1, 3, 640, 640)\n"
          ]
        },
        {
          "name": "stderr",
          "output_type": "stream",
          "text": [
            "\r 35%|███▌      | 38/108 [00:24<00:41,  1.69it/s]"
          ]
        },
        {
          "name": "stdout",
          "output_type": "stream",
          "text": [
            "\n",
            "image 1/1 /content/gdrive/MyDrive/yoloproject/yolobuild/test/000000000030.jpg: 640x640 6 buildings, 19.4ms\n",
            "Speed: 3.3ms preprocess, 19.4ms inference, 5.5ms postprocess per image at shape (1, 3, 640, 640)\n"
          ]
        },
        {
          "name": "stderr",
          "output_type": "stream",
          "text": [
            "\r 36%|███▌      | 39/108 [00:25<00:41,  1.65it/s]"
          ]
        },
        {
          "name": "stdout",
          "output_type": "stream",
          "text": [
            "\n",
            "image 1/1 /content/gdrive/MyDrive/yoloproject/yolobuild/test/000000000039.jpg: 640x640 8 buildings, 28.8ms\n",
            "Speed: 3.1ms preprocess, 28.8ms inference, 7.2ms postprocess per image at shape (1, 3, 640, 640)\n"
          ]
        },
        {
          "name": "stderr",
          "output_type": "stream",
          "text": [
            "\r 37%|███▋      | 40/108 [00:25<00:41,  1.65it/s]"
          ]
        },
        {
          "name": "stdout",
          "output_type": "stream",
          "text": [
            "\n",
            "image 1/1 /content/gdrive/MyDrive/yoloproject/yolobuild/test/000000000040.jpg: 640x640 6 buildings, 17.5ms\n",
            "Speed: 2.4ms preprocess, 17.5ms inference, 4.9ms postprocess per image at shape (1, 3, 640, 640)\n"
          ]
        },
        {
          "name": "stderr",
          "output_type": "stream",
          "text": [
            "\r 38%|███▊      | 41/108 [00:26<00:39,  1.68it/s]"
          ]
        },
        {
          "name": "stdout",
          "output_type": "stream",
          "text": [
            "\n",
            "image 1/1 /content/gdrive/MyDrive/yoloproject/yolobuild/test/000000000053.jpg: 640x640 15 buildings, 19.1ms\n",
            "Speed: 2.8ms preprocess, 19.1ms inference, 8.3ms postprocess per image at shape (1, 3, 640, 640)\n"
          ]
        },
        {
          "name": "stderr",
          "output_type": "stream",
          "text": [
            "\r 39%|███▉      | 42/108 [00:27<00:39,  1.68it/s]"
          ]
        },
        {
          "name": "stdout",
          "output_type": "stream",
          "text": [
            "\n",
            "image 1/1 /content/gdrive/MyDrive/yoloproject/yolobuild/test/000000000047.jpg: 640x640 8 buildings, 17.7ms\n",
            "Speed: 2.4ms preprocess, 17.7ms inference, 5.3ms postprocess per image at shape (1, 3, 640, 640)\n"
          ]
        },
        {
          "name": "stderr",
          "output_type": "stream",
          "text": [
            "\r 40%|███▉      | 43/108 [00:27<00:39,  1.64it/s]"
          ]
        },
        {
          "name": "stdout",
          "output_type": "stream",
          "text": [
            "\n",
            "image 1/1 /content/gdrive/MyDrive/yoloproject/yolobuild/test/000000000043.jpg: 640x640 21 buildings, 17.7ms\n",
            "Speed: 2.4ms preprocess, 17.7ms inference, 9.4ms postprocess per image at shape (1, 3, 640, 640)\n"
          ]
        },
        {
          "name": "stderr",
          "output_type": "stream",
          "text": [
            "\r 41%|████      | 44/108 [00:28<00:38,  1.66it/s]"
          ]
        },
        {
          "name": "stdout",
          "output_type": "stream",
          "text": [
            "\n",
            "image 1/1 /content/gdrive/MyDrive/yoloproject/yolobuild/test/000000000054.jpg: 640x640 21 buildings, 17.6ms\n",
            "Speed: 2.4ms preprocess, 17.6ms inference, 12.1ms postprocess per image at shape (1, 3, 640, 640)\n"
          ]
        },
        {
          "name": "stderr",
          "output_type": "stream",
          "text": [
            "\r 42%|████▏     | 45/108 [00:28<00:38,  1.66it/s]"
          ]
        },
        {
          "name": "stdout",
          "output_type": "stream",
          "text": [
            "\n",
            "image 1/1 /content/gdrive/MyDrive/yoloproject/yolobuild/test/000000000051.jpg: 640x640 10 buildings, 21.2ms\n",
            "Speed: 2.4ms preprocess, 21.2ms inference, 6.2ms postprocess per image at shape (1, 3, 640, 640)\n"
          ]
        },
        {
          "name": "stderr",
          "output_type": "stream",
          "text": [
            "\r 43%|████▎     | 46/108 [00:29<00:38,  1.59it/s]"
          ]
        },
        {
          "name": "stdout",
          "output_type": "stream",
          "text": [
            "\n",
            "image 1/1 /content/gdrive/MyDrive/yoloproject/yolobuild/test/000000000050.jpg: 640x640 4 buildings, 17.6ms\n",
            "Speed: 2.3ms preprocess, 17.6ms inference, 4.1ms postprocess per image at shape (1, 3, 640, 640)\n"
          ]
        },
        {
          "name": "stderr",
          "output_type": "stream",
          "text": [
            "\r 44%|████▎     | 47/108 [00:30<00:36,  1.67it/s]"
          ]
        },
        {
          "name": "stdout",
          "output_type": "stream",
          "text": [
            "\n",
            "image 1/1 /content/gdrive/MyDrive/yoloproject/yolobuild/test/000000000042.jpg: 640x640 15 buildings, 17.6ms\n",
            "Speed: 2.9ms preprocess, 17.6ms inference, 7.5ms postprocess per image at shape (1, 3, 640, 640)\n"
          ]
        },
        {
          "name": "stderr",
          "output_type": "stream",
          "text": [
            "\r 44%|████▍     | 48/108 [00:30<00:35,  1.69it/s]"
          ]
        },
        {
          "name": "stdout",
          "output_type": "stream",
          "text": [
            "\n",
            "image 1/1 /content/gdrive/MyDrive/yoloproject/yolobuild/test/000000000052.jpg: 640x640 14 buildings, 17.5ms\n",
            "Speed: 3.1ms preprocess, 17.5ms inference, 7.2ms postprocess per image at shape (1, 3, 640, 640)\n"
          ]
        },
        {
          "name": "stderr",
          "output_type": "stream",
          "text": [
            "\r 45%|████▌     | 49/108 [00:31<00:36,  1.63it/s]"
          ]
        },
        {
          "name": "stdout",
          "output_type": "stream",
          "text": [
            "\n",
            "image 1/1 /content/gdrive/MyDrive/yoloproject/yolobuild/test/000000000046.jpg: 640x640 9 buildings, 17.6ms\n",
            "Speed: 2.4ms preprocess, 17.6ms inference, 5.9ms postprocess per image at shape (1, 3, 640, 640)\n"
          ]
        },
        {
          "name": "stderr",
          "output_type": "stream",
          "text": [
            "\r 46%|████▋     | 50/108 [00:31<00:33,  1.72it/s]"
          ]
        },
        {
          "name": "stdout",
          "output_type": "stream",
          "text": [
            "\n",
            "image 1/1 /content/gdrive/MyDrive/yoloproject/yolobuild/test/000000000041.jpg: 640x640 6 buildings, 17.6ms\n",
            "Speed: 2.4ms preprocess, 17.6ms inference, 4.8ms postprocess per image at shape (1, 3, 640, 640)\n"
          ]
        },
        {
          "name": "stderr",
          "output_type": "stream",
          "text": [
            "\r 47%|████▋     | 51/108 [00:32<00:31,  1.79it/s]"
          ]
        },
        {
          "name": "stdout",
          "output_type": "stream",
          "text": [
            "\n",
            "image 1/1 /content/gdrive/MyDrive/yoloproject/yolobuild/test/000000000056.jpg: 640x640 18 buildings, 17.9ms\n",
            "Speed: 2.6ms preprocess, 17.9ms inference, 8.5ms postprocess per image at shape (1, 3, 640, 640)\n"
          ]
        },
        {
          "name": "stderr",
          "output_type": "stream",
          "text": [
            "\r 48%|████▊     | 52/108 [00:32<00:31,  1.81it/s]"
          ]
        },
        {
          "name": "stdout",
          "output_type": "stream",
          "text": [
            "\n",
            "image 1/1 /content/gdrive/MyDrive/yoloproject/yolobuild/test/000000000048.jpg: 640x640 3 buildings, 17.5ms\n",
            "Speed: 2.4ms preprocess, 17.5ms inference, 3.9ms postprocess per image at shape (1, 3, 640, 640)\n"
          ]
        },
        {
          "name": "stderr",
          "output_type": "stream",
          "text": [
            "\r 49%|████▉     | 53/108 [00:33<00:31,  1.77it/s]"
          ]
        },
        {
          "name": "stdout",
          "output_type": "stream",
          "text": [
            "\n",
            "image 1/1 /content/gdrive/MyDrive/yoloproject/yolobuild/test/000000000049.jpg: 640x640 5 buildings, 19.4ms\n",
            "Speed: 4.9ms preprocess, 19.4ms inference, 4.5ms postprocess per image at shape (1, 3, 640, 640)\n"
          ]
        },
        {
          "name": "stderr",
          "output_type": "stream",
          "text": [
            "\r 50%|█████     | 54/108 [00:34<00:33,  1.63it/s]"
          ]
        },
        {
          "name": "stdout",
          "output_type": "stream",
          "text": [
            "\n",
            "image 1/1 /content/gdrive/MyDrive/yoloproject/yolobuild/test/000000000055.jpg: 640x640 8 buildings, 17.5ms\n",
            "Speed: 2.6ms preprocess, 17.5ms inference, 5.4ms postprocess per image at shape (1, 3, 640, 640)\n"
          ]
        },
        {
          "name": "stderr",
          "output_type": "stream",
          "text": [
            "\r 51%|█████     | 55/108 [00:34<00:32,  1.62it/s]"
          ]
        },
        {
          "name": "stdout",
          "output_type": "stream",
          "text": [
            "\n",
            "image 1/1 /content/gdrive/MyDrive/yoloproject/yolobuild/test/000000000044.jpg: 640x640 8 buildings, 17.5ms\n",
            "Speed: 2.5ms preprocess, 17.5ms inference, 5.4ms postprocess per image at shape (1, 3, 640, 640)\n"
          ]
        },
        {
          "name": "stderr",
          "output_type": "stream",
          "text": [
            "\r 52%|█████▏    | 56/108 [00:35<00:31,  1.65it/s]"
          ]
        },
        {
          "name": "stdout",
          "output_type": "stream",
          "text": [
            "\n",
            "image 1/1 /content/gdrive/MyDrive/yoloproject/yolobuild/test/000000000045.jpg: 640x640 11 buildings, 21.9ms\n",
            "Speed: 2.5ms preprocess, 21.9ms inference, 6.3ms postprocess per image at shape (1, 3, 640, 640)\n"
          ]
        },
        {
          "name": "stderr",
          "output_type": "stream",
          "text": [
            "\r 53%|█████▎    | 57/108 [00:36<00:29,  1.74it/s]"
          ]
        },
        {
          "name": "stdout",
          "output_type": "stream",
          "text": [
            "\n",
            "image 1/1 /content/gdrive/MyDrive/yoloproject/yolobuild/test/000000000057.jpg: 640x640 1 building, 22.4ms\n",
            "Speed: 3.3ms preprocess, 22.4ms inference, 4.3ms postprocess per image at shape (1, 3, 640, 640)\n"
          ]
        },
        {
          "name": "stderr",
          "output_type": "stream",
          "text": [
            "\r 54%|█████▎    | 58/108 [00:36<00:28,  1.77it/s]"
          ]
        },
        {
          "name": "stdout",
          "output_type": "stream",
          "text": [
            "\n",
            "image 1/1 /content/gdrive/MyDrive/yoloproject/yolobuild/test/000000000066.jpg: 640x640 1 building, 21.1ms\n",
            "Speed: 3.2ms preprocess, 21.1ms inference, 4.4ms postprocess per image at shape (1, 3, 640, 640)\n"
          ]
        },
        {
          "name": "stderr",
          "output_type": "stream",
          "text": [
            "\r 55%|█████▍    | 59/108 [00:37<00:28,  1.69it/s]"
          ]
        },
        {
          "name": "stdout",
          "output_type": "stream",
          "text": [
            "\n",
            "image 1/1 /content/gdrive/MyDrive/yoloproject/yolobuild/test/000000000073.jpg: 640x640 24 buildings, 20.0ms\n",
            "Speed: 3.1ms preprocess, 20.0ms inference, 11.3ms postprocess per image at shape (1, 3, 640, 640)\n"
          ]
        },
        {
          "name": "stderr",
          "output_type": "stream",
          "text": [
            "\r 56%|█████▌    | 60/108 [00:37<00:28,  1.71it/s]"
          ]
        },
        {
          "name": "stdout",
          "output_type": "stream",
          "text": [
            "\n",
            "image 1/1 /content/gdrive/MyDrive/yoloproject/yolobuild/test/000000000069.jpg: 640x640 13 buildings, 22.7ms\n",
            "Speed: 3.4ms preprocess, 22.7ms inference, 8.0ms postprocess per image at shape (1, 3, 640, 640)\n"
          ]
        },
        {
          "name": "stderr",
          "output_type": "stream",
          "text": [
            "\r 56%|█████▋    | 61/108 [00:38<00:27,  1.72it/s]"
          ]
        },
        {
          "name": "stdout",
          "output_type": "stream",
          "text": [
            "\n",
            "image 1/1 /content/gdrive/MyDrive/yoloproject/yolobuild/test/000000000064.jpg: 640x640 23 buildings, 17.8ms\n",
            "Speed: 2.4ms preprocess, 17.8ms inference, 10.1ms postprocess per image at shape (1, 3, 640, 640)\n"
          ]
        },
        {
          "name": "stderr",
          "output_type": "stream",
          "text": [
            "\r 57%|█████▋    | 62/108 [00:38<00:26,  1.71it/s]"
          ]
        },
        {
          "name": "stdout",
          "output_type": "stream",
          "text": [
            "\n",
            "image 1/1 /content/gdrive/MyDrive/yoloproject/yolobuild/test/000000000063.jpg: 640x640 4 buildings, 17.8ms\n",
            "Speed: 2.6ms preprocess, 17.8ms inference, 4.3ms postprocess per image at shape (1, 3, 640, 640)\n"
          ]
        },
        {
          "name": "stderr",
          "output_type": "stream",
          "text": [
            "\r 58%|█████▊    | 63/108 [00:39<00:26,  1.73it/s]"
          ]
        },
        {
          "name": "stdout",
          "output_type": "stream",
          "text": [
            "\n",
            "image 1/1 /content/gdrive/MyDrive/yoloproject/yolobuild/test/000000000059.jpg: 640x640 21 buildings, 17.7ms\n",
            "Speed: 2.9ms preprocess, 17.7ms inference, 9.3ms postprocess per image at shape (1, 3, 640, 640)\n"
          ]
        },
        {
          "name": "stderr",
          "output_type": "stream",
          "text": [
            "\r 59%|█████▉    | 64/108 [00:40<00:26,  1.69it/s]"
          ]
        },
        {
          "name": "stdout",
          "output_type": "stream",
          "text": [
            "\n",
            "image 1/1 /content/gdrive/MyDrive/yoloproject/yolobuild/test/000000000071.jpg: 640x640 4 buildings, 17.6ms\n",
            "Speed: 2.4ms preprocess, 17.6ms inference, 4.1ms postprocess per image at shape (1, 3, 640, 640)\n"
          ]
        },
        {
          "name": "stderr",
          "output_type": "stream",
          "text": [
            "\r 60%|██████    | 65/108 [00:40<00:26,  1.65it/s]"
          ]
        },
        {
          "name": "stdout",
          "output_type": "stream",
          "text": [
            "\n",
            "image 1/1 /content/gdrive/MyDrive/yoloproject/yolobuild/test/000000000062.jpg: 640x640 7 buildings, 17.5ms\n",
            "Speed: 2.5ms preprocess, 17.5ms inference, 5.3ms postprocess per image at shape (1, 3, 640, 640)\n"
          ]
        },
        {
          "name": "stderr",
          "output_type": "stream",
          "text": [
            "\r 61%|██████    | 66/108 [00:41<00:26,  1.61it/s]"
          ]
        },
        {
          "name": "stdout",
          "output_type": "stream",
          "text": [
            "\n",
            "image 1/1 /content/gdrive/MyDrive/yoloproject/yolobuild/test/000000000065.jpg: 640x640 18 buildings, 21.9ms\n",
            "Speed: 3.2ms preprocess, 21.9ms inference, 9.6ms postprocess per image at shape (1, 3, 640, 640)\n"
          ]
        },
        {
          "name": "stderr",
          "output_type": "stream",
          "text": [
            "\r 62%|██████▏   | 67/108 [00:42<00:25,  1.61it/s]"
          ]
        },
        {
          "name": "stdout",
          "output_type": "stream",
          "text": [
            "\n",
            "image 1/1 /content/gdrive/MyDrive/yoloproject/yolobuild/test/000000000058.jpg: 640x640 10 buildings, 18.0ms\n",
            "Speed: 4.4ms preprocess, 18.0ms inference, 6.1ms postprocess per image at shape (1, 3, 640, 640)\n"
          ]
        },
        {
          "name": "stderr",
          "output_type": "stream",
          "text": [
            "\r 63%|██████▎   | 68/108 [00:42<00:23,  1.70it/s]"
          ]
        },
        {
          "name": "stdout",
          "output_type": "stream",
          "text": [
            "\n",
            "image 1/1 /content/gdrive/MyDrive/yoloproject/yolobuild/test/000000000072.jpg: 640x640 22 buildings, 17.7ms\n",
            "Speed: 2.6ms preprocess, 17.7ms inference, 9.6ms postprocess per image at shape (1, 3, 640, 640)\n"
          ]
        },
        {
          "name": "stderr",
          "output_type": "stream",
          "text": [
            "\r 64%|██████▍   | 69/108 [00:43<00:22,  1.76it/s]"
          ]
        },
        {
          "name": "stdout",
          "output_type": "stream",
          "text": [
            "\n",
            "image 1/1 /content/gdrive/MyDrive/yoloproject/yolobuild/test/000000000075.jpg: 640x640 22 buildings, 21.2ms\n",
            "Speed: 2.5ms preprocess, 21.2ms inference, 9.7ms postprocess per image at shape (1, 3, 640, 640)\n"
          ]
        },
        {
          "name": "stderr",
          "output_type": "stream",
          "text": [
            "\r 65%|██████▍   | 70/108 [00:43<00:21,  1.79it/s]"
          ]
        },
        {
          "name": "stdout",
          "output_type": "stream",
          "text": [
            "\n",
            "image 1/1 /content/gdrive/MyDrive/yoloproject/yolobuild/test/000000000061.jpg: 640x640 10 buildings, 17.6ms\n",
            "Speed: 2.4ms preprocess, 17.6ms inference, 6.0ms postprocess per image at shape (1, 3, 640, 640)\n"
          ]
        },
        {
          "name": "stderr",
          "output_type": "stream",
          "text": [
            "\r 66%|██████▌   | 71/108 [00:44<00:19,  1.92it/s]"
          ]
        },
        {
          "name": "stdout",
          "output_type": "stream",
          "text": [
            "\n",
            "image 1/1 /content/gdrive/MyDrive/yoloproject/yolobuild/test/000000000067.jpg: 640x640 13 buildings, 17.6ms\n",
            "Speed: 2.3ms preprocess, 17.6ms inference, 6.9ms postprocess per image at shape (1, 3, 640, 640)\n"
          ]
        },
        {
          "name": "stderr",
          "output_type": "stream",
          "text": [
            "\r 67%|██████▋   | 72/108 [00:44<00:19,  1.89it/s]"
          ]
        },
        {
          "name": "stdout",
          "output_type": "stream",
          "text": [
            "\n",
            "image 1/1 /content/gdrive/MyDrive/yoloproject/yolobuild/test/000000000068.jpg: 640x640 9 buildings, 18.1ms\n",
            "Speed: 2.5ms preprocess, 18.1ms inference, 5.9ms postprocess per image at shape (1, 3, 640, 640)\n"
          ]
        },
        {
          "name": "stderr",
          "output_type": "stream",
          "text": [
            "\r 68%|██████▊   | 73/108 [00:45<00:17,  2.00it/s]"
          ]
        },
        {
          "name": "stdout",
          "output_type": "stream",
          "text": [
            "\n",
            "image 1/1 /content/gdrive/MyDrive/yoloproject/yolobuild/test/000000000074.jpg: 640x640 9 buildings, 19.9ms\n",
            "Speed: 3.3ms preprocess, 19.9ms inference, 5.6ms postprocess per image at shape (1, 3, 640, 640)\n"
          ]
        },
        {
          "name": "stderr",
          "output_type": "stream",
          "text": [
            "\r 69%|██████▊   | 74/108 [00:45<00:17,  1.91it/s]"
          ]
        },
        {
          "name": "stdout",
          "output_type": "stream",
          "text": [
            "\n",
            "image 1/1 /content/gdrive/MyDrive/yoloproject/yolobuild/test/000000000070.jpg: 640x640 (no detections), 18.2ms\n",
            "Speed: 3.1ms preprocess, 18.2ms inference, 0.6ms postprocess per image at shape (1, 3, 640, 640)\n"
          ]
        },
        {
          "name": "stderr",
          "output_type": "stream",
          "text": [
            "\r 69%|██████▉   | 75/108 [00:46<00:18,  1.83it/s]"
          ]
        },
        {
          "name": "stdout",
          "output_type": "stream",
          "text": [
            "\n",
            "image 1/1 /content/gdrive/MyDrive/yoloproject/yolobuild/test/000000000060.jpg: 640x640 6 buildings, 17.7ms\n",
            "Speed: 2.8ms preprocess, 17.7ms inference, 4.7ms postprocess per image at shape (1, 3, 640, 640)\n"
          ]
        },
        {
          "name": "stderr",
          "output_type": "stream",
          "text": [
            "\r 70%|███████   | 76/108 [00:46<00:17,  1.83it/s]"
          ]
        },
        {
          "name": "stdout",
          "output_type": "stream",
          "text": [
            "\n",
            "image 1/1 /content/gdrive/MyDrive/yoloproject/yolobuild/test/000000000076.jpg: 640x640 8 buildings, 18.0ms\n",
            "Speed: 2.9ms preprocess, 18.0ms inference, 5.4ms postprocess per image at shape (1, 3, 640, 640)\n"
          ]
        },
        {
          "name": "stderr",
          "output_type": "stream",
          "text": [
            "\r 71%|███████▏  | 77/108 [00:47<00:16,  1.83it/s]"
          ]
        },
        {
          "name": "stdout",
          "output_type": "stream",
          "text": [
            "\n",
            "image 1/1 /content/gdrive/MyDrive/yoloproject/yolobuild/test/000000000077.jpg: 640x640 17 buildings, 17.7ms\n",
            "Speed: 2.5ms preprocess, 17.7ms inference, 8.1ms postprocess per image at shape (1, 3, 640, 640)\n"
          ]
        },
        {
          "name": "stderr",
          "output_type": "stream",
          "text": [
            "\r 72%|███████▏  | 78/108 [00:47<00:16,  1.84it/s]"
          ]
        },
        {
          "name": "stdout",
          "output_type": "stream",
          "text": [
            "\n",
            "image 1/1 /content/gdrive/MyDrive/yoloproject/yolobuild/test/000000000078.jpg: 640x640 3 buildings, 22.5ms\n",
            "Speed: 3.2ms preprocess, 22.5ms inference, 3.9ms postprocess per image at shape (1, 3, 640, 640)\n"
          ]
        },
        {
          "name": "stderr",
          "output_type": "stream",
          "text": [
            "\r 73%|███████▎  | 79/108 [00:48<00:16,  1.79it/s]"
          ]
        },
        {
          "name": "stdout",
          "output_type": "stream",
          "text": [
            "\n",
            "image 1/1 /content/gdrive/MyDrive/yoloproject/yolobuild/test/000000000080.jpg: 640x640 14 buildings, 23.0ms\n",
            "Speed: 7.2ms preprocess, 23.0ms inference, 8.1ms postprocess per image at shape (1, 3, 640, 640)\n"
          ]
        },
        {
          "name": "stderr",
          "output_type": "stream",
          "text": [
            "\r 74%|███████▍  | 80/108 [00:49<00:15,  1.79it/s]"
          ]
        },
        {
          "name": "stdout",
          "output_type": "stream",
          "text": [
            "\n",
            "image 1/1 /content/gdrive/MyDrive/yoloproject/yolobuild/test/000000000079.jpg: 640x640 14 buildings, 23.3ms\n",
            "Speed: 3.1ms preprocess, 23.3ms inference, 8.5ms postprocess per image at shape (1, 3, 640, 640)\n"
          ]
        },
        {
          "name": "stderr",
          "output_type": "stream",
          "text": [
            "\r 75%|███████▌  | 81/108 [00:49<00:15,  1.74it/s]"
          ]
        },
        {
          "name": "stdout",
          "output_type": "stream",
          "text": [
            "\n",
            "image 1/1 /content/gdrive/MyDrive/yoloproject/yolobuild/test/000000000104.jpg: 640x640 10 buildings, 20.3ms\n",
            "Speed: 3.5ms preprocess, 20.3ms inference, 6.9ms postprocess per image at shape (1, 3, 640, 640)\n"
          ]
        },
        {
          "name": "stderr",
          "output_type": "stream",
          "text": [
            "\r 76%|███████▌  | 82/108 [00:50<00:14,  1.74it/s]"
          ]
        },
        {
          "name": "stdout",
          "output_type": "stream",
          "text": [
            "\n",
            "image 1/1 /content/gdrive/MyDrive/yoloproject/yolobuild/test/000000000084.jpg: 640x640 23 buildings, 31.6ms\n",
            "Speed: 7.2ms preprocess, 31.6ms inference, 11.3ms postprocess per image at shape (1, 3, 640, 640)\n"
          ]
        },
        {
          "name": "stderr",
          "output_type": "stream",
          "text": [
            "\r 77%|███████▋  | 83/108 [00:50<00:14,  1.71it/s]"
          ]
        },
        {
          "name": "stdout",
          "output_type": "stream",
          "text": [
            "\n",
            "image 1/1 /content/gdrive/MyDrive/yoloproject/yolobuild/test/000000000092.jpg: 640x640 16 buildings, 18.1ms\n",
            "Speed: 2.9ms preprocess, 18.1ms inference, 7.8ms postprocess per image at shape (1, 3, 640, 640)\n"
          ]
        },
        {
          "name": "stderr",
          "output_type": "stream",
          "text": [
            "\r 78%|███████▊  | 84/108 [00:51<00:13,  1.74it/s]"
          ]
        },
        {
          "name": "stdout",
          "output_type": "stream",
          "text": [
            "\n",
            "image 1/1 /content/gdrive/MyDrive/yoloproject/yolobuild/test/000000000090.jpg: 640x640 13 buildings, 18.2ms\n",
            "Speed: 2.4ms preprocess, 18.2ms inference, 7.1ms postprocess per image at shape (1, 3, 640, 640)\n"
          ]
        },
        {
          "name": "stderr",
          "output_type": "stream",
          "text": [
            "\r 79%|███████▊  | 85/108 [00:51<00:13,  1.74it/s]"
          ]
        },
        {
          "name": "stdout",
          "output_type": "stream",
          "text": [
            "\n",
            "image 1/1 /content/gdrive/MyDrive/yoloproject/yolobuild/test/000000000082.jpg: 640x640 12 buildings, 20.5ms\n",
            "Speed: 3.0ms preprocess, 20.5ms inference, 8.0ms postprocess per image at shape (1, 3, 640, 640)\n"
          ]
        },
        {
          "name": "stderr",
          "output_type": "stream",
          "text": [
            "\r 80%|███████▉  | 86/108 [00:52<00:12,  1.77it/s]"
          ]
        },
        {
          "name": "stdout",
          "output_type": "stream",
          "text": [
            "\n",
            "image 1/1 /content/gdrive/MyDrive/yoloproject/yolobuild/test/000000000102.jpg: 640x640 1 building, 17.9ms\n",
            "Speed: 3.0ms preprocess, 17.9ms inference, 3.2ms postprocess per image at shape (1, 3, 640, 640)\n"
          ]
        },
        {
          "name": "stderr",
          "output_type": "stream",
          "text": [
            "\r 81%|████████  | 87/108 [00:52<00:10,  1.91it/s]"
          ]
        },
        {
          "name": "stdout",
          "output_type": "stream",
          "text": [
            "\n",
            "image 1/1 /content/gdrive/MyDrive/yoloproject/yolobuild/test/000000000089.jpg: 640x640 8 buildings, 17.9ms\n",
            "Speed: 2.9ms preprocess, 17.9ms inference, 5.4ms postprocess per image at shape (1, 3, 640, 640)\n"
          ]
        },
        {
          "name": "stderr",
          "output_type": "stream",
          "text": [
            "\r 81%|████████▏ | 88/108 [00:53<00:10,  1.91it/s]"
          ]
        },
        {
          "name": "stdout",
          "output_type": "stream",
          "text": [
            "\n",
            "image 1/1 /content/gdrive/MyDrive/yoloproject/yolobuild/test/000000000085.jpg: 640x640 13 buildings, 18.6ms\n",
            "Speed: 2.9ms preprocess, 18.6ms inference, 6.9ms postprocess per image at shape (1, 3, 640, 640)\n"
          ]
        },
        {
          "name": "stderr",
          "output_type": "stream",
          "text": [
            "\r 82%|████████▏ | 89/108 [00:54<00:10,  1.83it/s]"
          ]
        },
        {
          "name": "stdout",
          "output_type": "stream",
          "text": [
            "\n",
            "image 1/1 /content/gdrive/MyDrive/yoloproject/yolobuild/test/000000000086.jpg: 640x640 (no detections), 19.1ms\n",
            "Speed: 2.8ms preprocess, 19.1ms inference, 0.6ms postprocess per image at shape (1, 3, 640, 640)\n"
          ]
        },
        {
          "name": "stderr",
          "output_type": "stream",
          "text": [
            "\r 83%|████████▎ | 90/108 [00:54<00:09,  1.80it/s]"
          ]
        },
        {
          "name": "stdout",
          "output_type": "stream",
          "text": [
            "\n",
            "image 1/1 /content/gdrive/MyDrive/yoloproject/yolobuild/test/000000000103.jpg: 640x640 23 buildings, 17.3ms\n",
            "Speed: 2.4ms preprocess, 17.3ms inference, 9.9ms postprocess per image at shape (1, 3, 640, 640)\n"
          ]
        },
        {
          "name": "stderr",
          "output_type": "stream",
          "text": [
            "\r 84%|████████▍ | 91/108 [00:55<00:09,  1.76it/s]"
          ]
        },
        {
          "name": "stdout",
          "output_type": "stream",
          "text": [
            "\n",
            "image 1/1 /content/gdrive/MyDrive/yoloproject/yolobuild/test/000000000096.jpg: 640x640 13 buildings, 17.7ms\n",
            "Speed: 2.4ms preprocess, 17.7ms inference, 6.9ms postprocess per image at shape (1, 3, 640, 640)\n"
          ]
        },
        {
          "name": "stderr",
          "output_type": "stream",
          "text": [
            "\r 85%|████████▌ | 92/108 [00:55<00:09,  1.73it/s]"
          ]
        },
        {
          "name": "stdout",
          "output_type": "stream",
          "text": [
            "\n",
            "image 1/1 /content/gdrive/MyDrive/yoloproject/yolobuild/test/000000000088.jpg: 640x640 8 buildings, 17.3ms\n",
            "Speed: 2.4ms preprocess, 17.3ms inference, 5.3ms postprocess per image at shape (1, 3, 640, 640)\n"
          ]
        },
        {
          "name": "stderr",
          "output_type": "stream",
          "text": [
            "\r 86%|████████▌ | 93/108 [00:56<00:08,  1.75it/s]"
          ]
        },
        {
          "name": "stdout",
          "output_type": "stream",
          "text": [
            "\n",
            "image 1/1 /content/gdrive/MyDrive/yoloproject/yolobuild/test/000000000101.jpg: 640x640 8 buildings, 25.2ms\n",
            "Speed: 3.7ms preprocess, 25.2ms inference, 6.4ms postprocess per image at shape (1, 3, 640, 640)\n"
          ]
        },
        {
          "name": "stderr",
          "output_type": "stream",
          "text": [
            "\r 87%|████████▋ | 94/108 [00:56<00:08,  1.73it/s]"
          ]
        },
        {
          "name": "stdout",
          "output_type": "stream",
          "text": [
            "\n",
            "image 1/1 /content/gdrive/MyDrive/yoloproject/yolobuild/test/000000000106.jpg: 640x640 8 buildings, 17.4ms\n",
            "Speed: 2.3ms preprocess, 17.4ms inference, 5.3ms postprocess per image at shape (1, 3, 640, 640)\n"
          ]
        },
        {
          "name": "stderr",
          "output_type": "stream",
          "text": [
            "\r 88%|████████▊ | 95/108 [00:57<00:07,  1.70it/s]"
          ]
        },
        {
          "name": "stdout",
          "output_type": "stream",
          "text": [
            "\n",
            "image 1/1 /content/gdrive/MyDrive/yoloproject/yolobuild/test/000000000091.jpg: 640x640 4 buildings, 17.6ms\n",
            "Speed: 2.4ms preprocess, 17.6ms inference, 4.1ms postprocess per image at shape (1, 3, 640, 640)\n"
          ]
        },
        {
          "name": "stderr",
          "output_type": "stream",
          "text": [
            "\r 89%|████████▉ | 96/108 [00:58<00:07,  1.68it/s]"
          ]
        },
        {
          "name": "stdout",
          "output_type": "stream",
          "text": [
            "\n",
            "image 1/1 /content/gdrive/MyDrive/yoloproject/yolobuild/test/000000000107.jpg: 640x640 1 building, 17.7ms\n",
            "Speed: 2.4ms preprocess, 17.7ms inference, 3.3ms postprocess per image at shape (1, 3, 640, 640)\n"
          ]
        },
        {
          "name": "stderr",
          "output_type": "stream",
          "text": [
            "\r 90%|████████▉ | 97/108 [00:58<00:06,  1.74it/s]"
          ]
        },
        {
          "name": "stdout",
          "output_type": "stream",
          "text": [
            "\n",
            "image 1/1 /content/gdrive/MyDrive/yoloproject/yolobuild/test/000000000093.jpg: 640x640 13 buildings, 17.6ms\n",
            "Speed: 2.5ms preprocess, 17.6ms inference, 7.0ms postprocess per image at shape (1, 3, 640, 640)\n"
          ]
        },
        {
          "name": "stderr",
          "output_type": "stream",
          "text": [
            "\r 91%|█████████ | 98/108 [00:59<00:05,  1.72it/s]"
          ]
        },
        {
          "name": "stdout",
          "output_type": "stream",
          "text": [
            "\n",
            "image 1/1 /content/gdrive/MyDrive/yoloproject/yolobuild/test/000000000095.jpg: 640x640 18 buildings, 19.4ms\n",
            "Speed: 3.1ms preprocess, 19.4ms inference, 8.7ms postprocess per image at shape (1, 3, 640, 640)\n"
          ]
        },
        {
          "name": "stderr",
          "output_type": "stream",
          "text": [
            "\r 92%|█████████▏| 99/108 [01:00<00:05,  1.60it/s]"
          ]
        },
        {
          "name": "stdout",
          "output_type": "stream",
          "text": [
            "\n",
            "image 1/1 /content/gdrive/MyDrive/yoloproject/yolobuild/test/000000000083.jpg: 640x640 2 buildings, 17.6ms\n",
            "Speed: 2.4ms preprocess, 17.6ms inference, 3.5ms postprocess per image at shape (1, 3, 640, 640)\n"
          ]
        },
        {
          "name": "stderr",
          "output_type": "stream",
          "text": [
            "\r 93%|█████████▎| 100/108 [01:00<00:04,  1.65it/s]"
          ]
        },
        {
          "name": "stdout",
          "output_type": "stream",
          "text": [
            "\n",
            "image 1/1 /content/gdrive/MyDrive/yoloproject/yolobuild/test/000000000081.jpg: 640x640 6 buildings, 20.6ms\n",
            "Speed: 4.0ms preprocess, 20.6ms inference, 5.4ms postprocess per image at shape (1, 3, 640, 640)\n"
          ]
        },
        {
          "name": "stderr",
          "output_type": "stream",
          "text": [
            "\r 94%|█████████▎| 101/108 [01:01<00:04,  1.67it/s]"
          ]
        },
        {
          "name": "stdout",
          "output_type": "stream",
          "text": [
            "\n",
            "image 1/1 /content/gdrive/MyDrive/yoloproject/yolobuild/test/000000000097.jpg: 640x640 10 buildings, 24.2ms\n",
            "Speed: 3.1ms preprocess, 24.2ms inference, 6.7ms postprocess per image at shape (1, 3, 640, 640)\n"
          ]
        },
        {
          "name": "stderr",
          "output_type": "stream",
          "text": [
            "\r 94%|█████████▍| 102/108 [01:01<00:03,  1.64it/s]"
          ]
        },
        {
          "name": "stdout",
          "output_type": "stream",
          "text": [
            "\n",
            "image 1/1 /content/gdrive/MyDrive/yoloproject/yolobuild/test/000000000094.jpg: 640x640 16 buildings, 24.7ms\n",
            "Speed: 3.0ms preprocess, 24.7ms inference, 11.1ms postprocess per image at shape (1, 3, 640, 640)\n"
          ]
        },
        {
          "name": "stderr",
          "output_type": "stream",
          "text": [
            "\r 95%|█████████▌| 103/108 [01:02<00:02,  1.78it/s]"
          ]
        },
        {
          "name": "stdout",
          "output_type": "stream",
          "text": [
            "\n",
            "image 1/1 /content/gdrive/MyDrive/yoloproject/yolobuild/test/000000000099.jpg: 640x640 14 buildings, 21.9ms\n",
            "Speed: 4.4ms preprocess, 21.9ms inference, 8.1ms postprocess per image at shape (1, 3, 640, 640)\n"
          ]
        },
        {
          "name": "stderr",
          "output_type": "stream",
          "text": [
            "\r 96%|█████████▋| 104/108 [01:02<00:02,  1.73it/s]"
          ]
        },
        {
          "name": "stdout",
          "output_type": "stream",
          "text": [
            "\n",
            "image 1/1 /content/gdrive/MyDrive/yoloproject/yolobuild/test/000000000105.jpg: 640x640 4 buildings, 25.0ms\n",
            "Speed: 3.1ms preprocess, 25.0ms inference, 8.1ms postprocess per image at shape (1, 3, 640, 640)\n"
          ]
        },
        {
          "name": "stderr",
          "output_type": "stream",
          "text": [
            "\r 97%|█████████▋| 105/108 [01:03<00:01,  1.70it/s]"
          ]
        },
        {
          "name": "stdout",
          "output_type": "stream",
          "text": [
            "\n",
            "image 1/1 /content/gdrive/MyDrive/yoloproject/yolobuild/test/000000000100.jpg: 640x640 32 buildings, 29.5ms\n",
            "Speed: 3.6ms preprocess, 29.5ms inference, 16.0ms postprocess per image at shape (1, 3, 640, 640)\n"
          ]
        },
        {
          "name": "stderr",
          "output_type": "stream",
          "text": [
            "\r 98%|█████████▊| 106/108 [01:04<00:01,  1.63it/s]"
          ]
        },
        {
          "name": "stdout",
          "output_type": "stream",
          "text": [
            "\n",
            "image 1/1 /content/gdrive/MyDrive/yoloproject/yolobuild/test/000000000087.jpg: 640x640 18 buildings, 22.3ms\n",
            "Speed: 3.3ms preprocess, 22.3ms inference, 9.7ms postprocess per image at shape (1, 3, 640, 640)\n"
          ]
        },
        {
          "name": "stderr",
          "output_type": "stream",
          "text": [
            "\r 99%|█████████▉| 107/108 [01:04<00:00,  1.66it/s]"
          ]
        },
        {
          "name": "stdout",
          "output_type": "stream",
          "text": [
            "\n",
            "image 1/1 /content/gdrive/MyDrive/yoloproject/yolobuild/test/000000000098.jpg: 640x640 8 buildings, 18.2ms\n",
            "Speed: 2.4ms preprocess, 18.2ms inference, 5.4ms postprocess per image at shape (1, 3, 640, 640)\n"
          ]
        },
        {
          "name": "stderr",
          "output_type": "stream",
          "text": [
            "100%|██████████| 108/108 [01:05<00:00,  1.65it/s]\n"
          ]
        }
      ],
      "source": [
        "from PIL import Image\n",
        "from ultralytics import YOLO\n",
        "import tqdm, os\n",
        "\n",
        "testfol = \"/content/gdrive/MyDrive/yoloproject/yolobuild/test/\"\n",
        "\n",
        "# Run inference on 'bus.jpg'\n",
        "for i in tqdm.tqdm(os.listdir(testfol)):\n",
        "  img = testfol+i\n",
        "  results = model1(img)  # results list\n",
        "\n",
        "  # Show the results\n",
        "  for r in results:\n",
        "      im_array = r.plot()  # plot a BGR numpy array of predictions\n",
        "      im = Image.fromarray(im_array[..., ::-1])  # RGB PIL image\n",
        "      im.save(\"/content/gdrive/MyDrive/yoloproject/yolobuild/testres/\"+i)  # save image\n",
        "\n"
      ]
    }
  ],
  "metadata": {
    "colab": {
      "provenance": []
    },
    "kernelspec": {
      "display_name": "Python 3",
      "name": "python3"
    },
    "language_info": {
      "name": "python"
    }
  },
  "nbformat": 4,
  "nbformat_minor": 0
}